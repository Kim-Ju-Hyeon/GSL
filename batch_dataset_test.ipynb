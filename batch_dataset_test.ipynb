{
 "cells": [
  {
   "cell_type": "code",
   "execution_count": 1,
   "id": "d659bfee",
   "metadata": {},
   "outputs": [],
   "source": [
    "import sys\n",
    "\n",
    "sys.path.append('../GraphStructureLearning')"
   ]
  },
  {
   "cell_type": "code",
   "execution_count": 2,
   "id": "c0d3603b",
   "metadata": {},
   "outputs": [],
   "source": [
    "from torch_geometric.datasets import TUDataset\n",
    "from torch_geometric.loader import DataLoader\n",
    "from dataset.make_traffic_dataset import METRLADatasetLoader\n",
    "import numpy as np\n",
    "from torch_geometric.data import Data, Batch"
   ]
  },
  {
   "cell_type": "code",
   "execution_count": 3,
   "id": "0346aec2",
   "metadata": {},
   "outputs": [],
   "source": [
    "from utils.utils import build_batch_edge_index"
   ]
  },
  {
   "cell_type": "code",
   "execution_count": 4,
   "id": "c33e51f3",
   "metadata": {},
   "outputs": [
    {
     "name": "stderr",
     "output_type": "stream",
     "text": [
      "Downloading https://www.chrsmrrs.com/graphkerneldatasets/ENZYMES.zip\n",
      "Extracting \\tmp\\ENZYMES\\ENZYMES\\ENZYMES.zip\n",
      "Processing...\n",
      "Done!\n"
     ]
    }
   ],
   "source": [
    "dataset = TUDataset(root='/tmp/ENZYMES', name='ENZYMES', use_node_attr=True)\n",
    "loader = DataLoader(dataset, batch_size=32, shuffle=True)"
   ]
  },
  {
   "cell_type": "code",
   "execution_count": 5,
   "id": "03cbf493",
   "metadata": {},
   "outputs": [],
   "source": [
    "a = next(iter(loader))"
   ]
  },
  {
   "cell_type": "code",
   "execution_count": 6,
   "id": "9a74c061",
   "metadata": {},
   "outputs": [
    {
     "data": {
      "text/plain": [
       "DataBatch(edge_index=[2, 4284], x=[1095, 21], y=[32], batch=[1095], ptr=[33])"
      ]
     },
     "execution_count": 6,
     "metadata": {},
     "output_type": "execute_result"
    }
   ],
   "source": [
    "a"
   ]
  },
  {
   "cell_type": "code",
   "execution_count": 7,
   "id": "0e0393fd",
   "metadata": {},
   "outputs": [
    {
     "data": {
      "text/plain": [
       "tensor([[ 3.0000,  5.7044, 11.9100,  ...,  1.0000,  0.0000,  0.0000],\n",
       "        [11.0000, 15.1492, 41.9200,  ...,  1.0000,  0.0000,  0.0000],\n",
       "        [ 7.0000, 10.0141, 30.8500,  ...,  1.0000,  0.0000,  0.0000],\n",
       "        ...,\n",
       "        [ 7.0000, 19.2769, 19.9300,  ...,  0.0000,  1.0000,  0.0000],\n",
       "        [ 6.0000, 16.2709, 14.9500,  ...,  0.0000,  1.0000,  0.0000],\n",
       "        [ 4.0000,  9.9870, 10.5500,  ...,  0.0000,  1.0000,  0.0000]])"
      ]
     },
     "execution_count": 7,
     "metadata": {},
     "output_type": "execute_result"
    }
   ],
   "source": [
    "a.x"
   ]
  },
  {
   "cell_type": "code",
   "execution_count": 8,
   "id": "7c7ec537",
   "metadata": {},
   "outputs": [
    {
     "data": {
      "text/plain": [
       "tensor([0, 3, 2, 3, 2, 2, 0, 3, 4, 5, 5, 5, 2, 5, 4, 5, 0, 2, 3, 5, 3, 4, 2, 1,\n",
       "        0, 2, 1, 2, 3, 2, 3, 1])"
      ]
     },
     "execution_count": 8,
     "metadata": {},
     "output_type": "execute_result"
    }
   ],
   "source": [
    "a.y"
   ]
  },
  {
   "cell_type": "code",
   "execution_count": 9,
   "id": "04792122",
   "metadata": {},
   "outputs": [
    {
     "data": {
      "text/plain": [
       "tensor([ 0,  0,  0,  ..., 31, 31, 31])"
      ]
     },
     "execution_count": 9,
     "metadata": {},
     "output_type": "execute_result"
    }
   ],
   "source": [
    "a.batch"
   ]
  },
  {
   "cell_type": "code",
   "execution_count": 11,
   "id": "b420419a",
   "metadata": {},
   "outputs": [
    {
     "data": {
      "text/plain": [
       "tensor([[   0,    0,    0,  ..., 1094, 1094, 1094],\n",
       "        [   1,    2,    5,  ..., 1087, 1089, 1092]])"
      ]
     },
     "execution_count": 11,
     "metadata": {},
     "output_type": "execute_result"
    }
   ],
   "source": [
    "a.edge_index"
   ]
  },
  {
   "cell_type": "code",
   "execution_count": 12,
   "id": "0510e8af",
   "metadata": {},
   "outputs": [],
   "source": [
    "metr = METRLADatasetLoader(raw_data_dir='./data/METR-LA')\n",
    "data_list = metr.get_dataset(12, 3)\n",
    "\n",
    "loader = DataLoader(data_list, batch_size=2)\n",
    "data = next(iter(loader))"
   ]
  },
  {
   "cell_type": "code",
   "execution_count": 13,
   "id": "99572bd1",
   "metadata": {},
   "outputs": [
    {
     "data": {
      "text/plain": [
       "DataBatch(x=[414, 2, 12], edge_index=[2], y=[414, 3], batch=[414], ptr=[3])"
      ]
     },
     "execution_count": 13,
     "metadata": {},
     "output_type": "execute_result"
    }
   ],
   "source": [
    "data"
   ]
  },
  {
   "cell_type": "code",
   "execution_count": 14,
   "id": "5872d534",
   "metadata": {},
   "outputs": [],
   "source": [
    "feature = metr.features\n",
    "target = metr.targets\n",
    "edge_index = metr.edges"
   ]
  },
  {
   "cell_type": "code",
   "execution_count": 15,
   "id": "5c001f2c",
   "metadata": {},
   "outputs": [],
   "source": [
    "batch_size = 2"
   ]
  },
  {
   "cell_type": "code",
   "execution_count": 16,
   "id": "2dc66b47",
   "metadata": {},
   "outputs": [],
   "source": [
    "data_batch = len(feature) // batch_size"
   ]
  },
  {
   "cell_type": "code",
   "execution_count": 17,
   "id": "473da8b9",
   "metadata": {},
   "outputs": [],
   "source": [
    "f = []\n",
    "t = []\n",
    "\n",
    "for ii in range(data_batch):\n",
    "    f.append(np.array(feature[ii:ii+batch_size]))\n",
    "    t.append(np.array(target[ii:ii+batch_size]))\n",
    "    \n",
    "    batch = []\n",
    "    for node in range(207):\n",
    "        batch += [node]*batch_size\n",
    "    batch = np.array(batch)\n",
    "    \n",
    "    "
   ]
  },
  {
   "cell_type": "code",
   "execution_count": 18,
   "id": "bd73e76e",
   "metadata": {},
   "outputs": [
    {
     "data": {
      "text/plain": [
       "17129"
      ]
     },
     "execution_count": 18,
     "metadata": {},
     "output_type": "execute_result"
    }
   ],
   "source": [
    "len(f)"
   ]
  },
  {
   "cell_type": "code",
   "execution_count": 19,
   "id": "9df5392f",
   "metadata": {},
   "outputs": [
    {
     "data": {
      "text/plain": [
       "(207, 2, 12)"
      ]
     },
     "execution_count": 19,
     "metadata": {},
     "output_type": "execute_result"
    }
   ],
   "source": [
    "f[0][0].shape"
   ]
  },
  {
   "cell_type": "code",
   "execution_count": 20,
   "id": "3dcab8b7",
   "metadata": {},
   "outputs": [
    {
     "data": {
      "text/plain": [
       "(207, 2, 12)"
      ]
     },
     "execution_count": 20,
     "metadata": {},
     "output_type": "execute_result"
    }
   ],
   "source": [
    "feature[0].shape"
   ]
  },
  {
   "cell_type": "code",
   "execution_count": 21,
   "id": "49b052f0",
   "metadata": {},
   "outputs": [
    {
     "data": {
      "text/plain": [
       "(2, 207, 2, 12)"
      ]
     },
     "execution_count": 21,
     "metadata": {},
     "output_type": "execute_result"
    }
   ],
   "source": [
    "np.stack((f[0][0], f[0][1]),axis=0).shape"
   ]
  },
  {
   "cell_type": "code",
   "execution_count": 22,
   "id": "181148a0",
   "metadata": {},
   "outputs": [],
   "source": [
    "temp = np.concatenate((f[0][0], f[0][1]),axis=0)"
   ]
  },
  {
   "cell_type": "code",
   "execution_count": 23,
   "id": "f90cd2e6",
   "metadata": {},
   "outputs": [
    {
     "data": {
      "text/plain": [
       "(414, 2, 12)"
      ]
     },
     "execution_count": 23,
     "metadata": {},
     "output_type": "execute_result"
    }
   ],
   "source": [
    "temp.shape"
   ]
  },
  {
   "cell_type": "code",
   "execution_count": 24,
   "id": "bc741ef9",
   "metadata": {},
   "outputs": [
    {
     "data": {
      "text/plain": [
       "array([[ 0.45895067,  0.415655  , -2.6521542 , -2.6521542 ,  0.18474454,\n",
       "         0.3785444 ,  0.28576788,  0.4032848 ,  0.4280252 ,  0.3166934 ,\n",
       "         0.28841856,  0.48987615],\n",
       "       [-1.7171322 , -1.7050823 , -1.6930324 , -1.6809825 , -1.6689326 ,\n",
       "        -1.6568825 , -1.6448327 , -1.6327827 , -1.6207328 , -1.6086829 ,\n",
       "        -1.596633  , -1.584583  ]], dtype=float32)"
      ]
     },
     "execution_count": 24,
     "metadata": {},
     "output_type": "execute_result"
    }
   ],
   "source": [
    "temp[-1]"
   ]
  },
  {
   "cell_type": "code",
   "execution_count": 25,
   "id": "02951253",
   "metadata": {},
   "outputs": [
    {
     "data": {
      "text/plain": [
       "tensor([[ 0.4590,  0.4157, -2.6522, -2.6522,  0.1847,  0.3785,  0.2858,  0.4033,\n",
       "          0.4280,  0.3167,  0.2884,  0.4899],\n",
       "        [-1.7171, -1.7051, -1.6930, -1.6810, -1.6689, -1.6569, -1.6448, -1.6328,\n",
       "         -1.6207, -1.6087, -1.5966, -1.5846]])"
      ]
     },
     "execution_count": 25,
     "metadata": {},
     "output_type": "execute_result"
    }
   ],
   "source": [
    "data.x[-1]"
   ]
  },
  {
   "cell_type": "code",
   "execution_count": null,
   "id": "04f2681e",
   "metadata": {},
   "outputs": [],
   "source": []
  }
 ],
 "metadata": {
  "kernelspec": {
   "display_name": "Python 3 (ipykernel)",
   "language": "python",
   "name": "python3"
  },
  "language_info": {
   "codemirror_mode": {
    "name": "ipython",
    "version": 3
   },
   "file_extension": ".py",
   "mimetype": "text/x-python",
   "name": "python",
   "nbconvert_exporter": "python",
   "pygments_lexer": "ipython3",
   "version": "3.9.7"
  }
 },
 "nbformat": 4,
 "nbformat_minor": 5
}
