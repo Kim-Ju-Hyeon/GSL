{
 "cells": [
  {
   "cell_type": "markdown",
   "id": "72d7949a",
   "metadata": {},
   "source": [
    "# Traffic Dataset\n",
    "\n",
    "## 1. METR-LA Dataset\n",
    "\n",
    "- Traffic forecasting dataset based on Los Angeles Metropolitan traffic \n",
    "- 207 loop detectors on highways\n",
    "- March 2012 - June 2012"
   ]
  },
  {
   "cell_type": "code",
   "execution_count": 2,
   "id": "284c7d7b",
   "metadata": {},
   "outputs": [],
   "source": [
    "import torch\n",
    "from torch_geometric_temporal.dataset import METRLADatasetLoader, PemsBayDatasetLoader\n",
    "import seaborn as sns\n",
    "import matplotlib.pyplot as plt\n",
    "import numpy as np\n",
    "\n",
    "from torch_geometric_temporal.signal import temporal_signal_split"
   ]
  },
  {
   "cell_type": "code",
   "execution_count": 8,
   "id": "98bb7d14",
   "metadata": {},
   "outputs": [],
   "source": [
    "loader = PemsBayDatasetLoader(raw_data_dir='./data/PEMS-BAY')"
   ]
  },
  {
   "cell_type": "code",
   "execution_count": 9,
   "id": "98fb04b8",
   "metadata": {},
   "outputs": [
    {
     "name": "stdout",
     "output_type": "stream",
     "text": [
      "Dataset type:  \n",
      " <torch_geometric_temporal.signal.static_graph_temporal_signal.StaticGraphTemporalSignal object at 0x7f8f4b6aac70>\n",
      "Number of samples / sequences:  52091\n"
     ]
    }
   ],
   "source": [
    "dataset = loader.get_dataset(num_timesteps_in=12, num_timesteps_out=3)\n",
    "\n",
    "\n",
    "print(\"Dataset type:  \\n\", dataset)\n",
    "print(\"Number of samples / sequences: \",  len(set(dataset)))"
   ]
  },
  {
   "cell_type": "code",
   "execution_count": 10,
   "id": "661c950e",
   "metadata": {},
   "outputs": [
    {
     "ename": "ValueError",
     "evalue": "only one element tensors can be converted to Python scalars",
     "output_type": "error",
     "traceback": [
      "\u001b[0;31m---------------------------------------------------------------------------\u001b[0m",
      "\u001b[0;31mValueError\u001b[0m                                Traceback (most recent call last)",
      "Input \u001b[0;32mIn [10]\u001b[0m, in \u001b[0;36m<cell line: 3>\u001b[0;34m()\u001b[0m\n\u001b[1;32m      1\u001b[0m sensor_number \u001b[38;5;241m=\u001b[39m \u001b[38;5;241m1\u001b[39m\n\u001b[1;32m      2\u001b[0m hours \u001b[38;5;241m=\u001b[39m \u001b[38;5;241m24\u001b[39m\u001b[38;5;241m*\u001b[39m\u001b[38;5;241m1\u001b[39m\n\u001b[0;32m----> 3\u001b[0m sensor_labels \u001b[38;5;241m=\u001b[39m [bucket\u001b[38;5;241m.\u001b[39my[sensor_number][\u001b[38;5;241m0\u001b[39m]\u001b[38;5;241m.\u001b[39mitem() \u001b[38;5;28;01mfor\u001b[39;00m bucket \u001b[38;5;129;01min\u001b[39;00m \u001b[38;5;28mlist\u001b[39m(dataset)[:hours]]\n\u001b[1;32m      4\u001b[0m sns\u001b[38;5;241m.\u001b[39mlineplot(data\u001b[38;5;241m=\u001b[39msensor_labels)\n",
      "Input \u001b[0;32mIn [10]\u001b[0m, in \u001b[0;36m<listcomp>\u001b[0;34m(.0)\u001b[0m\n\u001b[1;32m      1\u001b[0m sensor_number \u001b[38;5;241m=\u001b[39m \u001b[38;5;241m1\u001b[39m\n\u001b[1;32m      2\u001b[0m hours \u001b[38;5;241m=\u001b[39m \u001b[38;5;241m24\u001b[39m\u001b[38;5;241m*\u001b[39m\u001b[38;5;241m1\u001b[39m\n\u001b[0;32m----> 3\u001b[0m sensor_labels \u001b[38;5;241m=\u001b[39m [\u001b[43mbucket\u001b[49m\u001b[38;5;241;43m.\u001b[39;49m\u001b[43my\u001b[49m\u001b[43m[\u001b[49m\u001b[43msensor_number\u001b[49m\u001b[43m]\u001b[49m\u001b[43m[\u001b[49m\u001b[38;5;241;43m0\u001b[39;49m\u001b[43m]\u001b[49m\u001b[38;5;241;43m.\u001b[39;49m\u001b[43mitem\u001b[49m\u001b[43m(\u001b[49m\u001b[43m)\u001b[49m \u001b[38;5;28;01mfor\u001b[39;00m bucket \u001b[38;5;129;01min\u001b[39;00m \u001b[38;5;28mlist\u001b[39m(dataset)[:hours]]\n\u001b[1;32m      4\u001b[0m sns\u001b[38;5;241m.\u001b[39mlineplot(data\u001b[38;5;241m=\u001b[39msensor_labels)\n",
      "\u001b[0;31mValueError\u001b[0m: only one element tensors can be converted to Python scalars"
     ]
    }
   ],
   "source": [
    "sensor_number = 1\n",
    "hours = 24*1\n",
    "sensor_labels = [bucket.y[sensor_number][0].item() for bucket in list(dataset)[:hours]]\n",
    "sns.lineplot(data=sensor_labels)"
   ]
  },
  {
   "cell_type": "code",
   "execution_count": null,
   "id": "53df6d29",
   "metadata": {},
   "outputs": [],
   "source": [
    "train_dataset, _dataset = temporal_signal_split(dataset, train_ratio=0.8)\n",
    "validation_dataset, test_dataset = temporal_signal_split(_dataset, train_ratio=0.5)\n",
    "\n",
    "\n",
    "print(\"Number of train buckets: \", len(set(train_dataset)))\n",
    "print(\"Number of test buckets: \", len(set(test_dataset)))"
   ]
  },
  {
   "cell_type": "code",
   "execution_count": 11,
   "id": "391392b4",
   "metadata": {},
   "outputs": [
    {
     "data": {
      "text/plain": [
       "torch.Size([325, 2, 52105])"
      ]
     },
     "execution_count": 11,
     "metadata": {},
     "output_type": "execute_result"
    }
   ],
   "source": [
    "loader.X.shape"
   ]
  },
  {
   "cell_type": "code",
   "execution_count": 13,
   "id": "3fdd45b5",
   "metadata": {},
   "outputs": [],
   "source": [
    "num_timesteps_in = 12\n",
    "num_timesteps_out = 3"
   ]
  },
  {
   "cell_type": "code",
   "execution_count": 14,
   "id": "d194b0e4",
   "metadata": {},
   "outputs": [],
   "source": [
    "indices = [\n",
    "            (i, i + (num_timesteps_in + num_timesteps_out))\n",
    "            for i in range(loader.X.shape[2] - (num_timesteps_in + num_timesteps_out) + 1)\n",
    "        ]"
   ]
  },
  {
   "cell_type": "code",
   "execution_count": 17,
   "id": "6139afbb",
   "metadata": {},
   "outputs": [
    {
     "data": {
      "text/plain": [
       "34258"
      ]
     },
     "execution_count": 17,
     "metadata": {},
     "output_type": "execute_result"
    }
   ],
   "source": [
    "len(indices)"
   ]
  },
  {
   "cell_type": "code",
   "execution_count": null,
   "id": "92fc6c1c",
   "metadata": {},
   "outputs": [],
   "source": []
  }
 ],
 "metadata": {
  "kernelspec": {
   "display_name": "Python 3 (ipykernel)",
   "language": "python",
   "name": "python3"
  },
  "language_info": {
   "codemirror_mode": {
    "name": "ipython",
    "version": 3
   },
   "file_extension": ".py",
   "mimetype": "text/x-python",
   "name": "python",
   "nbconvert_exporter": "python",
   "pygments_lexer": "ipython3",
   "version": "3.8.12"
  }
 },
 "nbformat": 4,
 "nbformat_minor": 5
}
