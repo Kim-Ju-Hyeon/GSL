{
 "cells": [
  {
   "cell_type": "markdown",
   "id": "72d7949a",
   "metadata": {},
   "source": [
    "# Traffic Dataset\n",
    "\n",
    "## 1. METR-LA Dataset\n",
    "\n",
    "- Traffic forecasting dataset based on Los Angeles Metropolitan traffic \n",
    "- 207 loop detectors on highways\n",
    "- March 2012 - June 2012"
   ]
  },
  {
   "cell_type": "code",
   "execution_count": 1,
   "id": "284c7d7b",
   "metadata": {},
   "outputs": [],
   "source": [
    "import torch\n",
    "from torch_geometric_temporal.dataset import METRLADatasetLoader, PemsBayDatasetLoader\n",
    "import seaborn as sns\n",
    "import matplotlib.pyplot as plt\n",
    "import numpy as np\n",
    "\n",
    "from torch_geometric_temporal.signal import temporal_signal_split"
   ]
  },
  {
   "cell_type": "code",
   "execution_count": 2,
   "id": "98bb7d14",
   "metadata": {},
   "outputs": [],
   "source": [
    "loader = METRLADatasetLoader(raw_data_dir='./data/METR-LA')"
   ]
  },
  {
   "cell_type": "code",
   "execution_count": 8,
   "id": "98fb04b8",
   "metadata": {},
   "outputs": [
    {
     "name": "stdout",
     "output_type": "stream",
     "text": [
      "Dataset type:  \n",
      " <torch_geometric_temporal.signal.static_graph_temporal_signal.StaticGraphTemporalSignal object at 0x7feff820dfa0>\n",
      "Number of samples / sequences:  34258\n"
     ]
    }
   ],
   "source": [
    "dataset = loader.get_dataset(num_timesteps_in=12, num_timesteps_out=3)\n",
    "\n",
    "\n",
    "print(\"Dataset type:  \\n\", dataset)\n",
    "print(\"Number of samples / sequences: \",  len(set(dataset)))"
   ]
  },
  {
   "cell_type": "code",
   "execution_count": 9,
   "id": "661c950e",
   "metadata": {},
   "outputs": [
    {
     "data": {
      "text/plain": [
       "<AxesSubplot:>"
      ]
     },
     "execution_count": 9,
     "metadata": {},
     "output_type": "execute_result"
    },
    {
     "data": {
      "image/png": "[encoded data removed]",
      "text/plain": [
       "<Figure size 432x288 with 1 Axes>"
      ]
     },
     "metadata": {
      "needs_background": "light"
     },
     "output_type": "display_data"
    }
   ],
   "source": [
    "sensor_number = 1\n",
    "hours = 24*1\n",
    "sensor_labels = [bucket.y[sensor_number][0].item() for bucket in list(dataset)[:hours]]\n",
    "sns.lineplot(data=sensor_labels)"
   ]
  },
  {
   "cell_type": "code",
   "execution_count": 10,
   "id": "53df6d29",
   "metadata": {},
   "outputs": [
    {
     "name": "stdout",
     "output_type": "stream",
     "text": [
      "Number of train buckets:  27406\n",
      "Number of test buckets:  3426\n"
     ]
    }
   ],
   "source": [
    "train_dataset, _dataset = temporal_signal_split(dataset, train_ratio=0.8)\n",
    "validation_dataset, test_dataset = temporal_signal_split(_dataset, train_ratio=0.5)\n",
    "\n",
    "\n",
    "print(\"Number of train buckets: \", len(set(train_dataset)))\n",
    "print(\"Number of test buckets: \", len(set(test_dataset)))"
   ]
  },
  {
   "cell_type": "code",
   "execution_count": 18,
   "id": "391392b4",
   "metadata": {},
   "outputs": [
    {
     "data": {
      "text/plain": [
       "torch.Size([207, 2, 34272])"
      ]
     },
     "execution_count": 18,
     "metadata": {},
     "output_type": "execute_result"
    }
   ],
   "source": [
    "loader.X.shape"
   ]
  },
  {
   "cell_type": "code",
   "execution_count": 13,
   "id": "3fdd45b5",
   "metadata": {},
   "outputs": [],
   "source": [
    "num_timesteps_in = 12\n",
    "num_timesteps_out = 3"
   ]
  },
  {
   "cell_type": "code",
   "execution_count": 14,
   "id": "d194b0e4",
   "metadata": {},
   "outputs": [],
   "source": [
    "indices = [\n",
    "            (i, i + (num_timesteps_in + num_timesteps_out))\n",
    "            for i in range(loader.X.shape[2] - (num_timesteps_in + num_timesteps_out) + 1)\n",
    "        ]"
   ]
  },
  {
   "cell_type": "code",
   "execution_count": 17,
   "id": "6139afbb",
   "metadata": {},
   "outputs": [
    {
     "data": {
      "text/plain": [
       "34258"
      ]
     },
     "execution_count": 17,
     "metadata": {},
     "output_type": "execute_result"
    }
   ],
   "source": [
    "len(indices)"
   ]
  },
  {
   "cell_type": "code",
   "execution_count": null,
   "id": "92fc6c1c",
   "metadata": {},
   "outputs": [],
   "source": []
  }
 ],
 "metadata": {
  "kernelspec": {
   "display_name": "Python 3 (ipykernel)",
   "language": "python",
   "name": "python3"
  },
  "language_info": {
   "codemirror_mode": {
    "name": "ipython",
    "version": 3
   },
   "file_extension": ".py",
   "mimetype": "text/x-python",
   "name": "python",
   "nbconvert_exporter": "python",
   "pygments_lexer": "ipython3",
   "version": "3.8.12"
  }
 },
 "nbformat": 4,
 "nbformat_minor": 5
}
