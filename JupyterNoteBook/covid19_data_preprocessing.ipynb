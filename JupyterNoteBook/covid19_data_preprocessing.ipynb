{
 "cells": [
  {
   "cell_type": "code",
   "execution_count": null,
   "id": "876bbe65",
   "metadata": {},
   "outputs": [],
   "source": [
    "import sys\n",
    "\n",
    "sys.path.append('../GSL')"
   ]
  },
  {
   "cell_type": "code",
   "execution_count": null,
   "id": "4fd736a8",
   "metadata": {},
   "outputs": [],
   "source": [
    "import os\n",
    "from glob import glob\n",
    "import yaml\n",
    "from easydict import EasyDict as edict\n",
    "import pickle"
   ]
  },
  {
   "cell_type": "code",
   "execution_count": null,
   "id": "7aa1ece2",
   "metadata": {},
   "outputs": [],
   "source": [
    "import pandas as pd\n",
    "import matplotlib.pyplot as plt\n",
    "import torch\n",
    "import torch.nn as nn\n",
    "import numpy as np\n",
    "from sklearn.preprocessing import StandardScaler\n",
    "import random\n",
    "\n",
    "from torch_geometric.utils import erdos_renyi_graph, dense_to_sparse, to_dense_adj\n",
    "from torch_geometric_temporal.signal import temporal_signal_split\n",
    "\n",
    "from dataset.make_dataset_ecl import ECLDatasetLoader\n",
    "from dataset.make_dataset_ett import ETTDatasetLoader # ETT -> 시간 정보\n",
    "from dataset.make_dataset_exchange import ExchangeDatasetLoader\n",
    "from dataset.make_dataset_wth import WTHDatasetLoader\n",
    "from dataset.make_dataset_covid19 import COVID19DatasetLoader\n",
    "from dataset.make_dataset_traffic import TrafficDatasetLoader\n",
    "\n",
    "from dataset.utils import download_file, Info\n",
    "\n",
    "from utils.scalers import Scaler\n",
    "import gdown\n",
    "from dataclasses import dataclass"
   ]
  },
  {
   "cell_type": "code",
   "execution_count": null,
   "id": "c3ea1b3d",
   "metadata": {},
   "outputs": [],
   "source": [
    "covid = pd.read_csv('../GSL/data/COVID19/time_series_covid19_confirmed_global.csv')"
   ]
  },
  {
   "cell_type": "code",
   "execution_count": null,
   "id": "7e292d40",
   "metadata": {},
   "outputs": [],
   "source": [
    "covid"
   ]
  },
  {
   "cell_type": "code",
   "execution_count": null,
   "id": "d0f0eeb3",
   "metadata": {},
   "outputs": [],
   "source": [
    "country = ['US','Canada','Mexico','Russia',\n",
    "           'United Kingdom','Italy','Germany','France',\n",
    "           'Belarus','Brazil','Peru','Ecuador',\n",
    "           'Chile','India','Turkey','Saudi Arabia',\n",
    "           'Pakistan','Iran','Singapore','Qatar',\n",
    "           'Bangladesh','United Arab Emirates','China','Japan','Korea, South']\n"
   ]
  },
  {
   "cell_type": "code",
   "execution_count": null,
   "id": "13441684",
   "metadata": {},
   "outputs": [],
   "source": [
    "my_covid = covid[covid['Country/Region'].isin(country)].copy()"
   ]
  },
  {
   "cell_type": "code",
   "execution_count": null,
   "id": "25e77e77",
   "metadata": {},
   "outputs": [],
   "source": [
    "my_covid.drop('Province/State', axis=1, inplace = True)"
   ]
  },
  {
   "cell_type": "code",
   "execution_count": null,
   "id": "cc982f5c",
   "metadata": {},
   "outputs": [],
   "source": [
    "my_covid_confimed = my_covid[my_covid.columns.tolist()[:1]+my_covid.columns.tolist()[3:]].copy()\n",
    "my_covid_confimed.reset_index(drop=True, inplace=True)"
   ]
  },
  {
   "cell_type": "code",
   "execution_count": null,
   "id": "c98d2be1",
   "metadata": {},
   "outputs": [],
   "source": [
    "temp = pd.to_datetime(my_covid.columns[3:])"
   ]
  },
  {
   "cell_type": "code",
   "execution_count": null,
   "id": "e6cf73d9",
   "metadata": {},
   "outputs": [],
   "source": [
    "my_covid_confimed.columns.values[1:] = temp"
   ]
  },
  {
   "cell_type": "code",
   "execution_count": null,
   "id": "5a56a646",
   "metadata": {},
   "outputs": [],
   "source": [
    "df = my_covid_confimed.groupby('Country/Region').sum().copy()"
   ]
  },
  {
   "cell_type": "code",
   "execution_count": null,
   "id": "f2d0d0dd",
   "metadata": {},
   "outputs": [],
   "source": [
    "total_confirmed = df.sum(axis=1)"
   ]
  },
  {
   "cell_type": "code",
   "execution_count": null,
   "id": "2292106e",
   "metadata": {},
   "outputs": [],
   "source": [
    "country_lat_long_dict = {}\n",
    "\n",
    "for cnt in country:\n",
    "    lat = my_covid[covid['Country/Region']==cnt][['Lat', 'Long']].values\n",
    "#     long = my_covid[covid['Country/Region']==cnt]['Long'].values\n",
    "\n",
    "    country_lat_long_dict[cnt] = lat"
   ]
  },
  {
   "cell_type": "code",
   "execution_count": null,
   "id": "ac1b3423",
   "metadata": {},
   "outputs": [],
   "source": [
    "multi_region=[]\n",
    "\n",
    "for cnt in country_lat_long_dict.keys():\n",
    "    if len(country_lat_long_dict[cnt]) != 1:\n",
    "        multi_region.append(cnt)\n",
    "\n",
    "for key in multi_region:\n",
    "    country_lat_long_dict.pop(key)"
   ]
  },
  {
   "cell_type": "code",
   "execution_count": null,
   "id": "25a4a50e",
   "metadata": {},
   "outputs": [],
   "source": [
    "country_lat_long_dict['Canada'] = np.array([[45.424721, -75.695000]])\n",
    "country_lat_long_dict['United Kingdom'] = np.array([[51.509865, -0.118092]])\n",
    "country_lat_long_dict['France'] = np.array([[48.864716, 2.349014]])\n",
    "country_lat_long_dict['China'] = np.array([[39.916668, 116.383331]])"
   ]
  },
  {
   "cell_type": "code",
   "execution_count": null,
   "id": "9954b84e",
   "metadata": {},
   "outputs": [],
   "source": [
    "for cnt in country_lat_long_dict.keys():\n",
    "    country_lat_long_dict[cnt] = [float(country_lat_long_dict[cnt][0][0]), float(country_lat_long_dict[cnt][0][1])]"
   ]
  },
  {
   "cell_type": "code",
   "execution_count": null,
   "id": "5ea1da26",
   "metadata": {},
   "outputs": [],
   "source": [
    "import folium"
   ]
  },
  {
   "cell_type": "code",
   "execution_count": null,
   "id": "f5acf974",
   "metadata": {},
   "outputs": [],
   "source": [
    "m = folium.Map(location=[20,0], tiles=\"OpenStreetMap\", zoom_start=2)\n",
    "\n",
    "for cnt in country_lat_long_dict:\n",
    "    folium.Circle(\n",
    "        location=[country_lat_long_dict[cnt][0], country_lat_long_dict[cnt][1]],\n",
    "        popup=cnt,\n",
    "        radius = float(total_confirmed[cnt])/20000,\n",
    "        color = 'crimson',\n",
    "        fill = True,\n",
    "        fill_color = 'crimson').add_to(m)\n",
    "    \n",
    "#     folium.Marker(location=[country_lat_long_dict[cnt][0], country_lat_long_dict[cnt][1]],\n",
    "#                 popup=cnt,\n",
    "#                 icon=folium.DivIcon(html=f\"\"\"<div style=\"font-family: courier new; color: crimson\">{cnt}</div>\"\"\")\n",
    "#                 ).add_to(m)\n",
    "    \n",
    "\n",
    "# folium.PolyLine(locations=list(country_lat_long_dict.values()),\n",
    "#                tooltip='Polyline',\n",
    "#                color = 'crimson',\n",
    "#                weight=1,\n",
    "#                dash_array='10').add_to(m)\n",
    "\n",
    "m.save('./map.html')\n",
    "m"
   ]
  },
  {
   "cell_type": "code",
   "execution_count": null,
   "id": "6cd1fc79",
   "metadata": {},
   "outputs": [],
   "source": []
  }
 ],
 "metadata": {
  "kernelspec": {
   "display_name": "Python 3 (ipykernel)",
   "language": "python",
   "name": "python3"
  },
  "language_info": {
   "codemirror_mode": {
    "name": "ipython",
    "version": 3
   },
   "file_extension": ".py",
   "mimetype": "text/x-python",
   "name": "python",
   "nbconvert_exporter": "python",
   "pygments_lexer": "ipython3",
   "version": "3.8.13"
  }
 },
 "nbformat": 4,
 "nbformat_minor": 5
}
