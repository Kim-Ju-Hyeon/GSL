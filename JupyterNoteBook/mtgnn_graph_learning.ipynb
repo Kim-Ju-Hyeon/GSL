{
 "cells": [
  {
   "cell_type": "code",
   "execution_count": 47,
   "id": "49d36a92",
   "metadata": {},
   "outputs": [],
   "source": [
    "import torch\n",
    "import torch.nn as nn\n",
    "import torch.nn.functional as F"
   ]
  },
  {
   "cell_type": "code",
   "execution_count": 48,
   "id": "36929f46",
   "metadata": {},
   "outputs": [],
   "source": [
    "num_nodes = 10\n",
    "dim = 100"
   ]
  },
  {
   "cell_type": "code",
   "execution_count": 49,
   "id": "2a7fd409",
   "metadata": {},
   "outputs": [],
   "source": [
    "embedding1 = nn.Embedding(num_nodes, dim)\n",
    "embedding2 = nn.Embedding(num_nodes, dim)\n",
    "linear1 = nn.Linear(dim, dim)\n",
    "\n",
    "linear2 = nn.Linear(dim, dim)"
   ]
  },
  {
   "cell_type": "code",
   "execution_count": 50,
   "id": "26f850c4",
   "metadata": {},
   "outputs": [],
   "source": [
    "_k = 10\n",
    "_alpha = 3"
   ]
  },
  {
   "cell_type": "code",
   "execution_count": 54,
   "id": "bf741e2d",
   "metadata": {},
   "outputs": [],
   "source": [
    "nodevec1 = embedding1(torch.LongTensor([0]))\n",
    "nodevec2 = embedding1(torch.LongTensor([5,6,7,8,9]))"
   ]
  },
  {
   "cell_type": "code",
   "execution_count": 57,
   "id": "a0e4a5a9",
   "metadata": {},
   "outputs": [
    {
     "data": {
      "text/plain": [
       "tensor([ 0.6674,  0.6622,  0.9878, -0.9403, -1.7023, -0.0283,  0.9315,  1.0906,\n",
       "        -1.3533,  0.2778,  0.2493, -0.4917, -1.0677,  1.1623, -1.0099,  0.0951,\n",
       "         0.8180, -0.9431, -0.7786,  0.9390, -0.7209, -0.7910, -1.0337,  0.4590,\n",
       "         2.5688, -1.1732, -0.2422, -0.2101, -1.5261,  0.1269, -0.4141,  1.0866,\n",
       "         0.9579, -2.3207, -0.6144,  0.8565, -2.4947,  0.0157,  0.2255, -0.6350,\n",
       "         0.0915,  1.5943, -0.7641, -1.5641,  0.1758, -0.0717, -1.2744, -0.2095,\n",
       "        -0.4861, -1.1992, -0.1543, -1.1047, -2.2990,  0.6728,  1.3440, -0.6964,\n",
       "         1.2998,  0.5202,  1.0204,  0.9395, -1.7302, -0.0508,  0.8373, -1.0504,\n",
       "        -0.3942,  0.5006,  0.3554,  0.2874,  0.3330, -0.3154, -1.3336,  0.9922,\n",
       "        -0.9262,  0.0301, -0.8390,  0.7555,  0.4789, -0.5742,  0.2506, -0.9724,\n",
       "         0.6120,  0.4797,  2.3451,  0.0123,  0.5873, -0.5873, -0.6855,  0.6388,\n",
       "         0.2004, -0.5277,  0.4636,  0.4679,  0.7206, -1.3038, -0.6950,  0.1445,\n",
       "         0.0926, -0.6763,  0.2900,  0.3048], grad_fn=<SelectBackward0>)"
      ]
     },
     "execution_count": 57,
     "metadata": {},
     "output_type": "execute_result"
    }
   ],
   "source": [
    "embedding1.weight[0]"
   ]
  },
  {
   "cell_type": "code",
   "execution_count": 55,
   "id": "4f7bf9bb",
   "metadata": {},
   "outputs": [
    {
     "data": {
      "text/plain": [
       "tensor([[ 0.6674,  0.6622,  0.9878, -0.9403, -1.7023, -0.0283,  0.9315,  1.0906,\n",
       "         -1.3533,  0.2778,  0.2493, -0.4917, -1.0677,  1.1623, -1.0099,  0.0951,\n",
       "          0.8180, -0.9431, -0.7786,  0.9390, -0.7209, -0.7910, -1.0337,  0.4590,\n",
       "          2.5688, -1.1732, -0.2422, -0.2101, -1.5261,  0.1269, -0.4141,  1.0866,\n",
       "          0.9579, -2.3207, -0.6144,  0.8565, -2.4947,  0.0157,  0.2255, -0.6350,\n",
       "          0.0915,  1.5943, -0.7641, -1.5641,  0.1758, -0.0717, -1.2744, -0.2095,\n",
       "         -0.4861, -1.1992, -0.1543, -1.1047, -2.2990,  0.6728,  1.3440, -0.6964,\n",
       "          1.2998,  0.5202,  1.0204,  0.9395, -1.7302, -0.0508,  0.8373, -1.0504,\n",
       "         -0.3942,  0.5006,  0.3554,  0.2874,  0.3330, -0.3154, -1.3336,  0.9922,\n",
       "         -0.9262,  0.0301, -0.8390,  0.7555,  0.4789, -0.5742,  0.2506, -0.9724,\n",
       "          0.6120,  0.4797,  2.3451,  0.0123,  0.5873, -0.5873, -0.6855,  0.6388,\n",
       "          0.2004, -0.5277,  0.4636,  0.4679,  0.7206, -1.3038, -0.6950,  0.1445,\n",
       "          0.0926, -0.6763,  0.2900,  0.3048]], grad_fn=<EmbeddingBackward0>)"
      ]
     },
     "execution_count": 55,
     "metadata": {},
     "output_type": "execute_result"
    }
   ],
   "source": [
    "nodevec1"
   ]
  },
  {
   "cell_type": "code",
   "execution_count": 43,
   "id": "5502c39a",
   "metadata": {},
   "outputs": [],
   "source": [
    "nodevec1 = torch.tanh(_alpha * linear1(nodevec1))\n",
    "nodevec2 = torch.tanh(_alpha * linear2(nodevec2))"
   ]
  },
  {
   "cell_type": "code",
   "execution_count": 44,
   "id": "bdb53fca",
   "metadata": {},
   "outputs": [
    {
     "data": {
      "text/plain": [
       "torch.Size([5, 100])"
      ]
     },
     "execution_count": 44,
     "metadata": {},
     "output_type": "execute_result"
    }
   ],
   "source": [
    "nodevec1.shape"
   ]
  },
  {
   "cell_type": "code",
   "execution_count": 45,
   "id": "ed958256",
   "metadata": {},
   "outputs": [],
   "source": [
    "a = torch.mm(nodevec1, nodevec2.transpose(1, 0)) - torch.mm(\n",
    "            nodevec2, nodevec1.transpose(1, 0)\n",
    "        )"
   ]
  },
  {
   "cell_type": "code",
   "execution_count": 46,
   "id": "d789888e",
   "metadata": {},
   "outputs": [
    {
     "data": {
      "text/plain": [
       "torch.Size([5, 5])"
      ]
     },
     "execution_count": 46,
     "metadata": {},
     "output_type": "execute_result"
    }
   ],
   "source": [
    "a.shape"
   ]
  },
  {
   "cell_type": "code",
   "execution_count": 38,
   "id": "1b52b05f",
   "metadata": {},
   "outputs": [
    {
     "data": {
      "text/plain": [
       "tensor([[0.]], grad_fn=<SubBackward0>)"
      ]
     },
     "execution_count": 38,
     "metadata": {},
     "output_type": "execute_result"
    }
   ],
   "source": [
    "a"
   ]
  },
  {
   "cell_type": "code",
   "execution_count": null,
   "id": "67b2c84e",
   "metadata": {},
   "outputs": [],
   "source": []
  }
 ],
 "metadata": {
  "kernelspec": {
   "display_name": "Python 3 (ipykernel)",
   "language": "python",
   "name": "python3"
  },
  "language_info": {
   "codemirror_mode": {
    "name": "ipython",
    "version": 3
   },
   "file_extension": ".py",
   "mimetype": "text/x-python",
   "name": "python",
   "nbconvert_exporter": "python",
   "pygments_lexer": "ipython3",
   "version": "3.8.12"
  }
 },
 "nbformat": 4,
 "nbformat_minor": 5
}
