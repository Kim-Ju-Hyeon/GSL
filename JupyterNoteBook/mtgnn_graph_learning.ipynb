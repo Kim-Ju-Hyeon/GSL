{
 "cells": [
  {
   "cell_type": "code",
   "execution_count": 1,
   "id": "49d36a92",
   "metadata": {},
   "outputs": [],
   "source": [
    "import torch\n",
    "import torch.nn as nn\n",
    "import torch.nn.functional as F"
   ]
  },
  {
   "cell_type": "code",
   "execution_count": 23,
   "id": "36929f46",
   "metadata": {},
   "outputs": [],
   "source": [
    "num_nodes = 4\n",
    "dim = 100"
   ]
  },
  {
   "cell_type": "code",
   "execution_count": 24,
   "id": "2a7fd409",
   "metadata": {},
   "outputs": [],
   "source": [
    "embedding1 = nn.Embedding(num_nodes, dim)\n",
    "embedding2 = nn.Embedding(num_nodes, dim)\n",
    "linear1 = nn.Linear(dim, num_nodes)\n",
    "\n",
    "linear2 = nn.Linear(dim, num_nodes)"
   ]
  },
  {
   "cell_type": "code",
   "execution_count": 60,
   "id": "26f850c4",
   "metadata": {},
   "outputs": [],
   "source": [
    "_k = 2\n",
    "_alpha = 10"
   ]
  },
  {
   "cell_type": "code",
   "execution_count": 61,
   "id": "bf741e2d",
   "metadata": {},
   "outputs": [],
   "source": [
    "nodevec1 = embedding1.weight\n",
    "nodevec2 = embedding1.weight"
   ]
  },
  {
   "cell_type": "code",
   "execution_count": 62,
   "id": "5502c39a",
   "metadata": {},
   "outputs": [],
   "source": [
    "nodevec1 = torch.tanh(_alpha * linear1(nodevec1))\n",
    "nodevec2 = torch.tanh(_alpha * linear2(nodevec2))"
   ]
  },
  {
   "cell_type": "code",
   "execution_count": 63,
   "id": "bdb53fca",
   "metadata": {},
   "outputs": [
    {
     "data": {
      "text/plain": [
       "torch.Size([4, 4])"
      ]
     },
     "execution_count": 63,
     "metadata": {},
     "output_type": "execute_result"
    }
   ],
   "source": [
    "nodevec1.shape"
   ]
  },
  {
   "cell_type": "code",
   "execution_count": 64,
   "id": "ed958256",
   "metadata": {},
   "outputs": [],
   "source": [
    "a = torch.mm(nodevec1, nodevec2.transpose(1, 0)) - torch.mm(\n",
    "            nodevec2, nodevec1.transpose(1, 0)\n",
    "        )"
   ]
  },
  {
   "cell_type": "code",
   "execution_count": 65,
   "id": "d789888e",
   "metadata": {},
   "outputs": [
    {
     "data": {
      "text/plain": [
       "torch.Size([4, 4])"
      ]
     },
     "execution_count": 65,
     "metadata": {},
     "output_type": "execute_result"
    }
   ],
   "source": [
    "a.shape"
   ]
  },
  {
   "cell_type": "code",
   "execution_count": 66,
   "id": "1b52b05f",
   "metadata": {},
   "outputs": [
    {
     "data": {
      "text/plain": [
       "tensor([[ 0.0000,  1.7620, -2.2454, -1.7549],\n",
       "        [-1.7620,  0.0000, -3.6542,  0.2094],\n",
       "        [ 2.2454,  3.6542,  0.0000, -3.9545],\n",
       "        [ 1.7549, -0.2094,  3.9545,  0.0000]], grad_fn=<SubBackward0>)"
      ]
     },
     "execution_count": 66,
     "metadata": {},
     "output_type": "execute_result"
    }
   ],
   "source": [
    "a"
   ]
  },
  {
   "cell_type": "code",
   "execution_count": 67,
   "id": "2a5185d8",
   "metadata": {},
   "outputs": [],
   "source": [
    "A = F.relu(torch.tanh(_alpha * a))"
   ]
  },
  {
   "cell_type": "code",
   "execution_count": 68,
   "id": "18824436",
   "metadata": {},
   "outputs": [
    {
     "data": {
      "text/plain": [
       "tensor([[0.0000, 1.0000, 0.0000, 0.0000],\n",
       "        [0.0000, 0.0000, 0.0000, 0.9701],\n",
       "        [1.0000, 1.0000, 0.0000, 0.0000],\n",
       "        [1.0000, 0.0000, 1.0000, 0.0000]], grad_fn=<ReluBackward0>)"
      ]
     },
     "execution_count": 68,
     "metadata": {},
     "output_type": "execute_result"
    }
   ],
   "source": [
    "A"
   ]
  },
  {
   "cell_type": "code",
   "execution_count": 69,
   "id": "576b87a7",
   "metadata": {},
   "outputs": [],
   "source": [
    "mask = torch.zeros(num_nodes, num_nodes)"
   ]
  },
  {
   "cell_type": "code",
   "execution_count": 70,
   "id": "f6ef7b6f",
   "metadata": {},
   "outputs": [
    {
     "data": {
      "text/plain": [
       "tensor([[0., 0., 0., 0.],\n",
       "        [0., 0., 0., 0.],\n",
       "        [0., 0., 0., 0.],\n",
       "        [0., 0., 0., 0.]])"
      ]
     },
     "execution_count": 70,
     "metadata": {},
     "output_type": "execute_result"
    }
   ],
   "source": [
    "mask"
   ]
  },
  {
   "cell_type": "code",
   "execution_count": 71,
   "id": "1b824a97",
   "metadata": {},
   "outputs": [
    {
     "data": {
      "text/plain": [
       "tensor([[0., 0., 0., 0.],\n",
       "        [0., 0., 0., 0.],\n",
       "        [0., 0., 0., 0.],\n",
       "        [0., 0., 0., 0.]])"
      ]
     },
     "execution_count": 71,
     "metadata": {},
     "output_type": "execute_result"
    }
   ],
   "source": [
    "mask.fill_(float(\"0\"))"
   ]
  },
  {
   "cell_type": "code",
   "execution_count": 72,
   "id": "dfd39928",
   "metadata": {},
   "outputs": [],
   "source": [
    "s1, t1 = A.topk(_k, 1)"
   ]
  },
  {
   "cell_type": "code",
   "execution_count": 73,
   "id": "546371e9",
   "metadata": {},
   "outputs": [
    {
     "data": {
      "text/plain": [
       "tensor([[1.0000, 0.0000],\n",
       "        [0.9701, 0.0000],\n",
       "        [1.0000, 1.0000],\n",
       "        [1.0000, 1.0000]], grad_fn=<TopkBackward0>)"
      ]
     },
     "execution_count": 73,
     "metadata": {},
     "output_type": "execute_result"
    }
   ],
   "source": [
    "s1"
   ]
  },
  {
   "cell_type": "code",
   "execution_count": 74,
   "id": "1668798d",
   "metadata": {},
   "outputs": [
    {
     "data": {
      "text/plain": [
       "tensor([[1, 0],\n",
       "        [3, 1],\n",
       "        [0, 1],\n",
       "        [0, 2]])"
      ]
     },
     "execution_count": 74,
     "metadata": {},
     "output_type": "execute_result"
    }
   ],
   "source": [
    "t1"
   ]
  },
  {
   "cell_type": "code",
   "execution_count": 75,
   "id": "35062916",
   "metadata": {},
   "outputs": [
    {
     "data": {
      "text/plain": [
       "tensor([[1., 1., 0., 0.],\n",
       "        [0., 1., 0., 1.],\n",
       "        [1., 1., 0., 0.],\n",
       "        [1., 0., 1., 0.]], grad_fn=<ScatterBackward0>)"
      ]
     },
     "execution_count": 75,
     "metadata": {},
     "output_type": "execute_result"
    }
   ],
   "source": [
    "mask.scatter_(1, t1, s1.fill_(1))"
   ]
  },
  {
   "cell_type": "code",
   "execution_count": 76,
   "id": "67b2c84e",
   "metadata": {},
   "outputs": [],
   "source": [
    "A = A * mask"
   ]
  },
  {
   "cell_type": "code",
   "execution_count": 77,
   "id": "3f93d0db",
   "metadata": {},
   "outputs": [
    {
     "data": {
      "text/plain": [
       "tensor([[0.0000, 1.0000, 0.0000, 0.0000],\n",
       "        [0.0000, 0.0000, 0.0000, 0.9701],\n",
       "        [1.0000, 1.0000, 0.0000, 0.0000],\n",
       "        [1.0000, 0.0000, 1.0000, 0.0000]], grad_fn=<MulBackward0>)"
      ]
     },
     "execution_count": 77,
     "metadata": {},
     "output_type": "execute_result"
    }
   ],
   "source": [
    "A"
   ]
  },
  {
   "cell_type": "code",
   "execution_count": null,
   "id": "2d8f6a8e",
   "metadata": {},
   "outputs": [],
   "source": []
  }
 ],
 "metadata": {
  "kernelspec": {
   "display_name": "Python 3 (ipykernel)",
   "language": "python",
   "name": "python3"
  },
  "language_info": {
   "codemirror_mode": {
    "name": "ipython",
    "version": 3
   },
   "file_extension": ".py",
   "mimetype": "text/x-python",
   "name": "python",
   "nbconvert_exporter": "python",
   "pygments_lexer": "ipython3",
   "version": "3.8.12"
  }
 },
 "nbformat": 4,
 "nbformat_minor": 5
}
