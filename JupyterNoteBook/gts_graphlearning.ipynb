{
 "cells": [
  {
   "cell_type": "code",
   "execution_count": 1,
   "id": "3b778130",
   "metadata": {},
   "outputs": [],
   "source": [
    "import sys\n",
    "\n",
    "sys.path.append('../GSL')"
   ]
  },
  {
   "cell_type": "code",
   "execution_count": 2,
   "id": "c39734a1",
   "metadata": {},
   "outputs": [],
   "source": [
    "import torch\n",
    "import torch.nn as nn\n",
    "from torch.nn import functional as F\n",
    "import numpy as np\n",
    "import pickle\n",
    "\n",
    "from torch_geometric.data import Data as gData\n",
    "from torch_geometric.utils import to_networkx, to_undirected\n",
    "from torch_geometric.nn import MessagePassing\n",
    "\n",
    "import networkx as nx\n",
    "import matplotlib.pyplot as plt\n",
    "\n",
    "from torch_geometric_temporal.nn.recurrent import DCRNN"
   ]
  },
  {
   "cell_type": "code",
   "execution_count": 3,
   "id": "c76f50eb",
   "metadata": {},
   "outputs": [],
   "source": [
    "from torch_geometric.utils import to_undirected, to_dense_adj, add_self_loops, sort_edge_index, remove_self_loops, is_undirected"
   ]
  },
  {
   "cell_type": "markdown",
   "id": "9d9d16e7",
   "metadata": {},
   "source": [
    "# GTS"
   ]
  },
  {
   "cell_type": "code",
   "execution_count": 4,
   "id": "62da2877",
   "metadata": {},
   "outputs": [],
   "source": [
    "from models.GTS.gts_graph_learning2 import GTS_Graph_Learning\n",
    "from models.GTS.gts_forecasting_module import GTS_Forecasting_Module\n",
    "from models.GTS.self_attention_graph_learning import Attention_Graph_Learning\n",
    "from models.GTS.DCRNN import DCRNN\n",
    "from utils.utils import build_fully_connected_edge_idx, build_batch_edge_index\n",
    "from dataset.make_traffic_dataset import TrafficDatasetLoader\n",
    "from torch_geometric.utils import dense_to_sparse, to_dense_adj\n",
    "from models.MTGNN.mtgnn_graph_learning import MTGNN_Graph_Learning\n",
    "\n",
    "from glob import glob\n",
    "import yaml\n",
    "from easydict import EasyDict as edict"
   ]
  },
  {
   "cell_type": "code",
   "execution_count": 5,
   "id": "1a1aac1a",
   "metadata": {},
   "outputs": [],
   "source": [
    "config_file = glob('../GSL/config/GTS/*.yaml')[0]\n",
    "config = edict(yaml.load(open(config_file, 'r'), Loader=yaml.FullLoader))"
   ]
  },
  {
   "cell_type": "code",
   "execution_count": 6,
   "id": "01f9ab77",
   "metadata": {},
   "outputs": [],
   "source": [
    "loader = TrafficDatasetLoader(raw_data_dir=config.dataset.root, dataset_name=config.dataset.name)\n",
    "dataset,entire_inputs = loader.get_dataset(num_timesteps_in=config.encoder_step,\n",
    "                                                 num_timesteps_out=config.decoder_step,\n",
    "                                                 batch_size=config.train.batch_size)"
   ]
  },
  {
   "cell_type": "code",
   "execution_count": 7,
   "id": "c3bc615b",
   "metadata": {},
   "outputs": [
    {
     "data": {
      "text/plain": [
       "torch.Size([325, 2, 52105])"
      ]
     },
     "execution_count": 7,
     "metadata": {},
     "output_type": "execute_result"
    }
   ],
   "source": [
    "entire_inputs.shape"
   ]
  },
  {
   "cell_type": "code",
   "execution_count": 8,
   "id": "a10170fe",
   "metadata": {},
   "outputs": [],
   "source": [
    "config.graph_learning.to_symmetric = True"
   ]
  },
  {
   "cell_type": "code",
   "execution_count": 9,
   "id": "c54de873",
   "metadata": {},
   "outputs": [],
   "source": [
    "config.graph_learning.sampling = 'Top_k'"
   ]
  },
  {
   "cell_type": "code",
   "execution_count": 10,
   "id": "5a2dfd85",
   "metadata": {},
   "outputs": [],
   "source": [
    "edge_index = build_fully_connected_edge_idx(num_nodes=config.nodes_num)"
   ]
  },
  {
   "cell_type": "code",
   "execution_count": 11,
   "id": "c1e9f45c",
   "metadata": {},
   "outputs": [
    {
     "data": {
      "text/plain": [
       "torch.Size([2, 105625])"
      ]
     },
     "execution_count": 11,
     "metadata": {},
     "output_type": "execute_result"
    }
   ],
   "source": [
    "edge_index.shape"
   ]
  },
  {
   "cell_type": "code",
   "execution_count": 12,
   "id": "dff89186",
   "metadata": {},
   "outputs": [],
   "source": [
    "gl = GTS_Graph_Learning(config)"
   ]
  },
  {
   "cell_type": "code",
   "execution_count": 13,
   "id": "2af1d4d2",
   "metadata": {},
   "outputs": [],
   "source": [
    "al = Attention_Graph_Learning(config)\n",
    "ml = MTGNN_Graph_Learning(config)"
   ]
  },
  {
   "cell_type": "code",
   "execution_count": 14,
   "id": "6598cffa",
   "metadata": {},
   "outputs": [],
   "source": [
    "gts_style = gl(entire_inputs, edge_index)"
   ]
  },
  {
   "cell_type": "code",
   "execution_count": 15,
   "id": "7f5b0154",
   "metadata": {},
   "outputs": [],
   "source": [
    "attention = al(entire_inputs)\n",
    "low_rank_approx = ml()"
   ]
  },
  {
   "cell_type": "code",
   "execution_count": 16,
   "id": "c50be1c7",
   "metadata": {},
   "outputs": [
    {
     "data": {
      "text/plain": [
       "torch.Size([105625, 1])"
      ]
     },
     "execution_count": 16,
     "metadata": {},
     "output_type": "execute_result"
    }
   ],
   "source": [
    "gts_style.shape"
   ]
  },
  {
   "cell_type": "code",
   "execution_count": 17,
   "id": "30946182",
   "metadata": {},
   "outputs": [
    {
     "data": {
      "text/plain": [
       "torch.Size([325, 325])"
      ]
     },
     "execution_count": 17,
     "metadata": {},
     "output_type": "execute_result"
    }
   ],
   "source": [
    "attention.shape"
   ]
  },
  {
   "cell_type": "code",
   "execution_count": 18,
   "id": "cb61c908",
   "metadata": {},
   "outputs": [
    {
     "data": {
      "text/plain": [
       "torch.Size([325, 325])"
      ]
     },
     "execution_count": 18,
     "metadata": {},
     "output_type": "execute_result"
    }
   ],
   "source": [
    "low_rank_approx.shape"
   ]
  },
  {
   "cell_type": "code",
   "execution_count": 19,
   "id": "b12529f7",
   "metadata": {},
   "outputs": [],
   "source": [
    "from utils.adjacency_matrix_sampling import gumbel_softmax_structure_sampling, weight_matrix_construct, top_k_structure_construct \n"
   ]
  },
  {
   "cell_type": "markdown",
   "id": "c2c615c6",
   "metadata": {},
   "source": [
    "batch, adj = gumbel_softmax_structure_sampling(gts_style, edge_index, 2, 0.3, 325, False)\n"
   ]
  },
  {
   "cell_type": "code",
   "execution_count": 53,
   "id": "2f4c2ea1",
   "metadata": {},
   "outputs": [],
   "source": [
    "batch, adj = top_k_structure_construct(attention, 2, 200, 50, 325, True)"
   ]
  },
  {
   "cell_type": "code",
   "execution_count": 54,
   "id": "94ac047b",
   "metadata": {},
   "outputs": [
    {
     "data": {
      "text/plain": [
       "tensor([[  0.0000,   0.0000,   0.0000,  ..., 325.9990, 325.9910, 325.0000],\n",
       "        [  0.0000,   0.0000,   0.0000,  ..., 325.9993, 325.0000, 325.0000],\n",
       "        [  0.0000,   0.0000,   0.0000,  ..., 325.0000, 325.0000, 325.0000],\n",
       "        ...,\n",
       "        [  0.9990,   0.9993,   0.9997,  ..., 325.0000, 325.9561, 325.0000],\n",
       "        [  0.0000,   0.0000,   0.9983,  ..., 325.0000, 325.9987, 325.0000],\n",
       "        [  0.0000,   0.0000,   0.0000,  ..., 325.0000, 325.0000, 325.0000]],\n",
       "       grad_fn=<CatBackward0>)"
      ]
     },
     "execution_count": 54,
     "metadata": {},
     "output_type": "execute_result"
    }
   ],
   "source": [
    "batch"
   ]
  },
  {
   "cell_type": "code",
   "execution_count": null,
   "id": "1ef5f7c5",
   "metadata": {},
   "outputs": [],
   "source": []
  }
 ],
 "metadata": {
  "kernelspec": {
   "display_name": "Python 3 (ipykernel)",
   "language": "python",
   "name": "python3"
  },
  "language_info": {
   "codemirror_mode": {
    "name": "ipython",
    "version": 3
   },
   "file_extension": ".py",
   "mimetype": "text/x-python",
   "name": "python",
   "nbconvert_exporter": "python",
   "pygments_lexer": "ipython3",
   "version": "3.8.12"
  }
 },
 "nbformat": 4,
 "nbformat_minor": 5
}
