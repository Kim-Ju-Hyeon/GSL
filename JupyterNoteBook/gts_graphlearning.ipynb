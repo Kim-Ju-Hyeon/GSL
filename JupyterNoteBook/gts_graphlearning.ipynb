{
 "cells": [
  {
   "cell_type": "code",
   "execution_count": 1,
   "id": "3b778130",
   "metadata": {},
   "outputs": [],
   "source": [
    "import sys\n",
    "\n",
    "sys.path.append('../GraphStructureLearning')"
   ]
  },
  {
   "cell_type": "code",
   "execution_count": 2,
   "id": "c39734a1",
   "metadata": {},
   "outputs": [],
   "source": [
    "import torch\n",
    "import torch.nn as nn\n",
    "from torch.nn import functional as F\n",
    "import numpy as np\n",
    "import pickle\n",
    "\n",
    "from torch_geometric.data import Data as gData\n",
    "from torch_geometric.utils import to_networkx, to_undirected\n",
    "from torch_geometric.nn import MessagePassing\n",
    "\n",
    "import networkx as nx\n",
    "import matplotlib.pyplot as plt\n",
    "\n",
    "from torch_geometric_temporal.nn.recurrent import DCRNN"
   ]
  },
  {
   "cell_type": "code",
   "execution_count": 3,
   "id": "c76f50eb",
   "metadata": {},
   "outputs": [],
   "source": [
    "from torch_geometric.utils import to_undirected, to_dense_adj, add_self_loops, sort_edge_index, remove_self_loops"
   ]
  },
  {
   "cell_type": "markdown",
   "id": "9d9d16e7",
   "metadata": {},
   "source": [
    "# GTS"
   ]
  },
  {
   "cell_type": "code",
   "execution_count": 4,
   "id": "62da2877",
   "metadata": {},
   "outputs": [],
   "source": [
    "from models.GTS.gts_graph_learning import GTS_Graph_Learning\n",
    "from models.GTS.gts_forecasting_module import GTS_Forecasting_Module\n",
    "from models.GTS.DCRNN import DCRNN\n",
    "from utils.utils import build_fully_connected_edge_idx, build_batch_edge_index\n",
    "\n",
    "from glob import glob\n",
    "import yaml\n",
    "from easydict import EasyDict as edict"
   ]
  },
  {
   "cell_type": "code",
   "execution_count": 5,
   "id": "1a1aac1a",
   "metadata": {},
   "outputs": [],
   "source": [
    "config_file = glob('./config/GTS/*.yaml')[0]\n",
    "config = edict(yaml.load(open(config_file, 'r'), Loader=yaml.FullLoader))"
   ]
  },
  {
   "cell_type": "code",
   "execution_count": 6,
   "id": "e6afd2a2",
   "metadata": {},
   "outputs": [
    {
     "data": {
      "text/plain": [
       "{'exp_name': 1,\n",
       " 'exp_dir': './exp',\n",
       " 'use_gpu': False,\n",
       " 'device': 'cpu',\n",
       " 'seed': 1010,\n",
       " 'model_name': 'GTS',\n",
       " 'graph_learning_module': 'GTS',\n",
       " 'graph_forecasting_module': 'GTS',\n",
       " 'initial_edge_index': 'Fully Connected',\n",
       " 'dataset': {'root': './data/spike_lambda_bin100',\n",
       "  'name': 'spike_lambda_bin100',\n",
       "  'graph_learning_length': 4800,\n",
       "  'idx_ratio': 0.5,\n",
       "  'window_size': 20,\n",
       "  'slide': 5,\n",
       "  'pred_step': 5,\n",
       "  'train_valid_test': [4000, 4400, 4800],\n",
       "  'save': './data/spike_lambda_bin100/'},\n",
       " 'train': {'optimizer': 'Adam',\n",
       "  'epoch': 2,\n",
       "  'loss_function': 'MSELoss',\n",
       "  'lr': 0.001,\n",
       "  'momentum': 0.9,\n",
       "  'wd': 0.0,\n",
       "  'batch_size': 1,\n",
       "  'lr_decay': 0.1,\n",
       "  'lr_decay_steps': [10000]},\n",
       " 'nodes_num': 100,\n",
       " 'node_features': 1,\n",
       " 'hidden_dim': 16,\n",
       " 'embedding_dim': 16,\n",
       " 'graph_learning': {'sequence': 3,\n",
       "  'mode': 'both',\n",
       "  'to_symmetric': True,\n",
       "  'correlation_act_fnc': 'sigmoid',\n",
       "  'kernel_size': [200, 80, 10],\n",
       "  'stride': [20, 10, 5],\n",
       "  'conv1_dim': 4,\n",
       "  'conv2_dim': 4,\n",
       "  'conv3_dim': 4},\n",
       " 'forecasting_module': {'diffusion_k': 1,\n",
       "  'num_layer': 1,\n",
       "  'use_teacher_forcing': True,\n",
       "  'teacher_forcing_ratio': 0.5,\n",
       "  'embedding': {'kernel_size': [3, 3],\n",
       "   'stride': [1, 1],\n",
       "   'conv1_dim': 2,\n",
       "   'conv2_dim': 2}},\n",
       " 'encoder_step': 2,\n",
       " 'decoder_step': 2,\n",
       " 'tau': 0.3}"
      ]
     },
     "execution_count": 6,
     "metadata": {},
     "output_type": "execute_result"
    }
   ],
   "source": [
    "config"
   ]
  },
  {
   "cell_type": "code",
   "execution_count": 7,
   "id": "6f762d4f",
   "metadata": {},
   "outputs": [],
   "source": [
    "# node_feas = torch.rand(config.nodes_num, config.node_features, 1000)\n",
    "# edge_index = build_fully_connected_edge_idx(num_nodes=config.nodes_num)"
   ]
  },
  {
   "cell_type": "code",
   "execution_count": 8,
   "id": "3edda6d7",
   "metadata": {},
   "outputs": [],
   "source": [
    "spike = pickle.load(open('./data/spk_bin_n100.pickle', 'rb'))\n",
    "\n",
    "spike = torch.FloatTensor(spike[:,:4800])"
   ]
  },
  {
   "cell_type": "code",
   "execution_count": 9,
   "id": "0974c59c",
   "metadata": {},
   "outputs": [],
   "source": [
    "config.nodes_num = 100"
   ]
  },
  {
   "cell_type": "code",
   "execution_count": 10,
   "id": "5a2dfd85",
   "metadata": {},
   "outputs": [],
   "source": [
    "edge_index = build_fully_connected_edge_idx(num_nodes=config.nodes_num)"
   ]
  },
  {
   "cell_type": "code",
   "execution_count": 11,
   "id": "102b5537",
   "metadata": {},
   "outputs": [],
   "source": [
    "def adj_sampling(adj, edge_index):\n",
    "    z_1 = F.gumbel_softmax(adj, hard=True)\n",
    "    z_adj = torch.where(z_1[:,0])\n",
    "\n",
    "    b= edge_index[0,:][z_adj]\n",
    "    c = edge_index[1,:][z_adj]\n",
    "\n",
    "    a = torch.stack([b,c])\n",
    "    return a"
   ]
  },
  {
   "cell_type": "code",
   "execution_count": 12,
   "id": "2af1d4d2",
   "metadata": {},
   "outputs": [],
   "source": [
    "gl = GTS_Graph_Learning(config, 2)\n",
    "wl = GTS_Graph_Learning(config, 1)"
   ]
  },
  {
   "cell_type": "code",
   "execution_count": 13,
   "id": "bc412b9b",
   "metadata": {},
   "outputs": [],
   "source": [
    "epoch = 3"
   ]
  },
  {
   "cell_type": "code",
   "execution_count": 14,
   "id": "ebe41ead",
   "metadata": {},
   "outputs": [],
   "source": [
    "def weight_sampling(weight, edge_index):\n",
    "    mat = to_dense_adj(edge_index)"
   ]
  },
  {
   "cell_type": "code",
   "execution_count": 15,
   "id": "31cd1985",
   "metadata": {
    "scrolled": true
   },
   "outputs": [
    {
     "name": "stdout",
     "output_type": "stream",
     "text": [
      "torch.Size([9900, 2])\n",
      "torch.Size([4569, 2])\n",
      "torch.Size([2154, 2])\n",
      "torch.Size([996, 2])\n"
     ]
    },
    {
     "data": {
      "image/png": "[encoded data removed]",
      "text/plain": [
       "<Figure size 1843.2x1296 with 4 Axes>"
      ]
     },
     "metadata": {
      "needs_background": "light"
     },
     "output_type": "display_data"
    }
   ],
   "source": [
    "fig, axes = plt.subplots(nrows=1, ncols=epoch+1, figsize=(25.6, 18.0))\n",
    "\n",
    "adj = gl(spike, edge_index)\n",
    "print(adj.shape)\n",
    "_weight = wl(spike, edge_index)\n",
    "\n",
    "_edge_index = adj_sampling(adj, edge_index)\n",
    "temp = to_dense_adj(_edge_index)[0]\n",
    "axes[0].imshow(temp, cmap='Greys')\n",
    "\n",
    "for ii in range(epoch):\n",
    "    adj = gl(spike, _edge_index)\n",
    "    print(adj.shape)\n",
    "    _edge_index = adj_sampling(adj, _edge_index)\n",
    "    \n",
    "    temp = to_dense_adj(_edge_index)[0]\n",
    "    axes[ii+1].imshow(temp, cmap='Greys')"
   ]
  },
  {
   "cell_type": "code",
   "execution_count": 16,
   "id": "d611bc65",
   "metadata": {},
   "outputs": [],
   "source": [
    "adj = gl(spike, edge_index)\n",
    "_edge_index = adj_sampling(adj, edge_index)\n",
    "temp = to_dense_adj(_edge_index)[0]\n",
    "\n",
    "for ii in range(epoch):\n",
    "    adj = gl(spike, _edge_index)\n",
    "    _edge_index = adj_sampling(adj, _edge_index)\n",
    "    temp = to_dense_adj(_edge_index)[0]\n",
    "\n",
    "_mat = to_dense_adj(_edge_index)[0]\n",
    "_weight = wl(spike, _edge_index)\n",
    "_weight_mat = to_dense_adj(_edge_index, edge_attr=_weight).squeeze()"
   ]
  },
  {
   "cell_type": "code",
   "execution_count": 17,
   "id": "12995a53",
   "metadata": {},
   "outputs": [
    {
     "data": {
      "text/plain": [
       "tensor([[0., 0., 0.,  ..., 0., 0., 1.],\n",
       "        [0., 0., 0.,  ..., 0., 0., 0.],\n",
       "        [0., 0., 0.,  ..., 0., 0., 1.],\n",
       "        ...,\n",
       "        [0., 0., 0.,  ..., 0., 0., 0.],\n",
       "        [0., 0., 0.,  ..., 0., 0., 0.],\n",
       "        [0., 0., 0.,  ..., 0., 0., 0.]])"
      ]
     },
     "execution_count": 17,
     "metadata": {},
     "output_type": "execute_result"
    }
   ],
   "source": [
    "_mat"
   ]
  },
  {
   "cell_type": "code",
   "execution_count": 18,
   "id": "3b9b9fc5",
   "metadata": {},
   "outputs": [
    {
     "data": {
      "text/plain": [
       "tensor([[ 0,  0,  0,  ..., 99, 99, 99],\n",
       "        [23, 31, 54,  ..., 29, 38, 79]])"
      ]
     },
     "execution_count": 18,
     "metadata": {},
     "output_type": "execute_result"
    }
   ],
   "source": [
    "_edge_index"
   ]
  },
  {
   "cell_type": "code",
   "execution_count": 21,
   "id": "f255382d",
   "metadata": {},
   "outputs": [
    {
     "data": {
      "text/plain": [
       "torch.Size([100, 100])"
      ]
     },
     "execution_count": 21,
     "metadata": {},
     "output_type": "execute_result"
    }
   ],
   "source": [
    "_weight_mat.shape"
   ]
  },
  {
   "cell_type": "code",
   "execution_count": 23,
   "id": "b1a05690",
   "metadata": {},
   "outputs": [],
   "source": [
    "sigmoid = nn.Sigmoid()"
   ]
  },
  {
   "cell_type": "code",
   "execution_count": 24,
   "id": "3a7ba26f",
   "metadata": {},
   "outputs": [
    {
     "data": {
      "text/plain": [
       "tensor([[0.5000, 0.5000, 0.5000,  ..., 0.5000, 0.5000, 0.7311],\n",
       "        [0.5000, 0.5000, 0.5000,  ..., 0.5000, 0.5000, 0.5000],\n",
       "        [0.5000, 0.5000, 0.5000,  ..., 0.5000, 0.5000, 0.7311],\n",
       "        ...,\n",
       "        [0.5000, 0.5000, 0.5000,  ..., 0.5000, 0.5000, 0.5000],\n",
       "        [0.5000, 0.5000, 0.5000,  ..., 0.5000, 0.5000, 0.5000],\n",
       "        [0.5000, 0.5000, 0.5000,  ..., 0.5000, 0.5000, 0.5000]])"
      ]
     },
     "execution_count": 24,
     "metadata": {},
     "output_type": "execute_result"
    }
   ],
   "source": [
    "sigmoid(_mat)"
   ]
  },
  {
   "cell_type": "code",
   "execution_count": null,
   "id": "5fded528",
   "metadata": {
    "scrolled": true
   },
   "outputs": [],
   "source": [
    "_weight.T"
   ]
  },
  {
   "cell_type": "code",
   "execution_count": null,
   "id": "7c73981a",
   "metadata": {},
   "outputs": [],
   "source": [
    "tt = (_weight_mat + _weight_mat.T)*0.5"
   ]
  },
  {
   "cell_type": "code",
   "execution_count": null,
   "id": "9b203dae",
   "metadata": {},
   "outputs": [],
   "source": [
    "_edge_index.shape"
   ]
  },
  {
   "cell_type": "code",
   "execution_count": null,
   "id": "108cf482",
   "metadata": {},
   "outputs": [],
   "source": [
    "temp = []\n",
    "\n",
    "for ii in range(_edge_index.shape[1]):\n",
    "    row, col = _edge_index[0, ii], _edge_index[1, ii]\n",
    "    temp.append(tt[row,col])"
   ]
  },
  {
   "cell_type": "code",
   "execution_count": null,
   "id": "5841d45d",
   "metadata": {},
   "outputs": [],
   "source": [
    "temp"
   ]
  },
  {
   "cell_type": "code",
   "execution_count": null,
   "id": "76bcc073",
   "metadata": {},
   "outputs": [],
   "source": [
    "_weight.shape"
   ]
  },
  {
   "cell_type": "code",
   "execution_count": null,
   "id": "9a9103da",
   "metadata": {},
   "outputs": [],
   "source": [
    "output = torch.stack(temp).view(-1, 1)"
   ]
  },
  {
   "cell_type": "code",
   "execution_count": null,
   "id": "59b34327",
   "metadata": {},
   "outputs": [],
   "source": [
    "output.shape"
   ]
  },
  {
   "cell_type": "code",
   "execution_count": null,
   "id": "dc399d6f",
   "metadata": {},
   "outputs": [],
   "source": []
  },
  {
   "cell_type": "code",
   "execution_count": null,
   "id": "02019755",
   "metadata": {},
   "outputs": [],
   "source": [
    "temp = []\n",
    "\n",
    "for row in range(0,100):\n",
    "    for col in range(0,100):\n",
    "        if _mat[row,col] == 1:\n",
    "            "
   ]
  },
  {
   "cell_type": "code",
   "execution_count": null,
   "id": "3ba30945",
   "metadata": {},
   "outputs": [],
   "source": []
  }
 ],
 "metadata": {
  "kernelspec": {
   "display_name": "Python 3 (ipykernel)",
   "language": "python",
   "name": "python3"
  },
  "language_info": {
   "codemirror_mode": {
    "name": "ipython",
    "version": 3
   },
   "file_extension": ".py",
   "mimetype": "text/x-python",
   "name": "python",
   "nbconvert_exporter": "python",
   "pygments_lexer": "ipython3",
   "version": "3.8.12"
  }
 },
 "nbformat": 4,
 "nbformat_minor": 5
}
