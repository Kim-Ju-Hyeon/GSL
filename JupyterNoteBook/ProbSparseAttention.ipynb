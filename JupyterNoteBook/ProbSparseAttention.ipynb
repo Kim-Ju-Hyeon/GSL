{
 "cells": [
  {
   "cell_type": "code",
   "execution_count": 1,
   "id": "490d90f2",
   "metadata": {},
   "outputs": [
    {
     "name": "stderr",
     "output_type": "stream",
     "text": [
      "/opt/anaconda3/envs/GraphStructureLearning/lib/python3.8/site-packages/tqdm/auto.py:22: TqdmWarning: IProgress not found. Please update jupyter and ipywidgets. See https://ipywidgets.readthedocs.io/en/stable/user_install.html\n",
      "  from .autonotebook import tqdm as notebook_tqdm\n"
     ]
    }
   ],
   "source": [
    "import sys\n",
    "\n",
    "sys.path.append('../GSL')\n",
    "\n",
    "import pickle\n",
    "import os\n",
    "from glob import glob\n",
    "import yaml\n",
    "from easydict import EasyDict as edict\n",
    "\n",
    "import torch\n",
    "import torch.nn as nn\n",
    "import torch.nn.functional as F\n",
    "\n",
    "import numpy as np\n",
    "from math import sqrt\n",
    "\n",
    "from models.graph_learning_Attention.probsparseattention import ProbAttention\n",
    "from models.message_passing.MPNN import InterCorrealtionStack\n",
    "from torch_geometric.utils import to_dense_adj, dense_to_sparse\n",
    "from models.ic_pn_beats_model import IC_PN_BEATS_model"
   ]
  },
  {
   "cell_type": "code",
   "execution_count": 2,
   "id": "6f9c0bda",
   "metadata": {},
   "outputs": [],
   "source": [
    "config_file = glob('../GSL/config/ic_pnbeats_general.yaml')[0]\n",
    "config = edict(yaml.load(open(config_file, 'r'), Loader=yaml.FullLoader))"
   ]
  },
  {
   "cell_type": "code",
   "execution_count": 23,
   "id": "1dc21cd6",
   "metadata": {},
   "outputs": [],
   "source": [
    "config.train.batch_size = 1\n",
    "model = IC_PN_BEATS_model(config)"
   ]
  },
  {
   "cell_type": "code",
   "execution_count": 24,
   "id": "af4e8644",
   "metadata": {},
   "outputs": [],
   "source": [
    "dataset = pickle.load(open('../GSL/data/ECL/temporal_signal_12_12_128.pickle', 'rb'))\n",
    "train_dataset = dataset['test']\n",
    "data_batch = next(iter(train_dataset))"
   ]
  },
  {
   "cell_type": "code",
   "execution_count": 25,
   "id": "41169ee2",
   "metadata": {},
   "outputs": [
    {
     "data": {
      "text/plain": [
       "DataBatch(x=[321, 5, 12], edge_index=[2, 103041], y=[321, 12], batch=[321])"
      ]
     },
     "execution_count": 25,
     "metadata": {},
     "output_type": "execute_result"
    }
   ],
   "source": [
    "data_batch"
   ]
  },
  {
   "cell_type": "code",
   "execution_count": 26,
   "id": "05ff26b5",
   "metadata": {
    "scrolled": false
   },
   "outputs": [],
   "source": [
    "backcast, forecast, outputs = model(data_batch.x, True)"
   ]
  },
  {
   "cell_type": "code",
   "execution_count": 27,
   "id": "ba83e99d",
   "metadata": {},
   "outputs": [
    {
     "data": {
      "text/plain": [
       "torch.Size([321, 12])"
      ]
     },
     "execution_count": 27,
     "metadata": {},
     "output_type": "execute_result"
    }
   ],
   "source": [
    "backcast.shape"
   ]
  },
  {
   "cell_type": "code",
   "execution_count": 28,
   "id": "22775855",
   "metadata": {},
   "outputs": [
    {
     "data": {
      "text/plain": [
       "torch.Size([321, 12])"
      ]
     },
     "execution_count": 28,
     "metadata": {},
     "output_type": "execute_result"
    }
   ],
   "source": [
    "forecast.shape"
   ]
  },
  {
   "cell_type": "code",
   "execution_count": 29,
   "id": "07735bd3",
   "metadata": {},
   "outputs": [
    {
     "data": {
      "text/plain": [
       "dict_keys(['per_trend_backcast', 'per_trend_forecast', 'per_seasonality_backcast', 'per_seasonality_forecast', 'singual_backcast', 'singual_forecast', 'attention_matrix'])"
      ]
     },
     "execution_count": 29,
     "metadata": {},
     "output_type": "execute_result"
    }
   ],
   "source": [
    "outputs.keys()"
   ]
  },
  {
   "cell_type": "code",
   "execution_count": 30,
   "id": "d2173870",
   "metadata": {},
   "outputs": [
    {
     "data": {
      "text/plain": [
       "(3, 321, 12)"
      ]
     },
     "execution_count": 30,
     "metadata": {},
     "output_type": "execute_result"
    }
   ],
   "source": [
    "outputs['per_trend_backcast'].shape"
   ]
  },
  {
   "cell_type": "code",
   "execution_count": 31,
   "id": "73725cf0",
   "metadata": {},
   "outputs": [
    {
     "data": {
      "text/plain": [
       "(3, 321, 12)"
      ]
     },
     "execution_count": 31,
     "metadata": {},
     "output_type": "execute_result"
    }
   ],
   "source": [
    "outputs['per_trend_forecast'].shape"
   ]
  },
  {
   "cell_type": "code",
   "execution_count": 32,
   "id": "e37c390e",
   "metadata": {},
   "outputs": [
    {
     "data": {
      "text/plain": [
       "(3, 321, 12)"
      ]
     },
     "execution_count": 32,
     "metadata": {},
     "output_type": "execute_result"
    }
   ],
   "source": [
    "outputs['per_seasonality_backcast'].shape"
   ]
  },
  {
   "cell_type": "code",
   "execution_count": 33,
   "id": "bc064c87",
   "metadata": {},
   "outputs": [
    {
     "data": {
      "text/plain": [
       "(3, 321, 12)"
      ]
     },
     "execution_count": 33,
     "metadata": {},
     "output_type": "execute_result"
    }
   ],
   "source": [
    "outputs['per_seasonality_forecast'].shape"
   ]
  },
  {
   "cell_type": "code",
   "execution_count": 34,
   "id": "ee5ff079",
   "metadata": {},
   "outputs": [
    {
     "data": {
      "text/plain": [
       "(1, 321, 12)"
      ]
     },
     "execution_count": 34,
     "metadata": {},
     "output_type": "execute_result"
    }
   ],
   "source": [
    "outputs['singual_backcast'].shape"
   ]
  },
  {
   "cell_type": "code",
   "execution_count": 35,
   "id": "6006687f",
   "metadata": {},
   "outputs": [
    {
     "data": {
      "text/plain": [
       "(1, 321, 12)"
      ]
     },
     "execution_count": 35,
     "metadata": {},
     "output_type": "execute_result"
    }
   ],
   "source": [
    "outputs['singual_forecast'].shape"
   ]
  },
  {
   "cell_type": "code",
   "execution_count": 36,
   "id": "1988258e",
   "metadata": {},
   "outputs": [
    {
     "data": {
      "text/plain": [
       "(4, 1, 4, 321, 321)"
      ]
     },
     "execution_count": 36,
     "metadata": {},
     "output_type": "execute_result"
    }
   ],
   "source": [
    "outputs['attention_matrix'].shape"
   ]
  },
  {
   "cell_type": "code",
   "execution_count": 38,
   "id": "1f872fb2",
   "metadata": {},
   "outputs": [
    {
     "data": {
      "text/plain": [
       "11.542882246260032"
      ]
     },
     "execution_count": 38,
     "metadata": {},
     "output_type": "execute_result"
    }
   ],
   "source": [
    "np.log(321)*2"
   ]
  },
  {
   "cell_type": "code",
   "execution_count": null,
   "id": "6fba3615",
   "metadata": {},
   "outputs": [],
   "source": [
    "temp = data_batch.x.view(128, 321, 5, 12)"
   ]
  },
  {
   "cell_type": "code",
   "execution_count": null,
   "id": "af0abd0a",
   "metadata": {},
   "outputs": [],
   "source": [
    "temp.permute(0, 1, 3, 2).shape"
   ]
  },
  {
   "cell_type": "code",
   "execution_count": null,
   "id": "0b34859f",
   "metadata": {},
   "outputs": [],
   "source": [
    "data_batch.x.permute(0,2,1).shape"
   ]
  },
  {
   "cell_type": "code",
   "execution_count": null,
   "id": "8a96b74f",
   "metadata": {},
   "outputs": [],
   "source": [
    "layer = nn.Linear(5,1)"
   ]
  },
  {
   "cell_type": "code",
   "execution_count": null,
   "id": "d541ad47",
   "metadata": {},
   "outputs": [],
   "source": [
    "out = layer(temp.permute(0, 1, 3, 2))"
   ]
  },
  {
   "cell_type": "code",
   "execution_count": null,
   "id": "98b5972c",
   "metadata": {},
   "outputs": [],
   "source": [
    "out.shape"
   ]
  },
  {
   "cell_type": "code",
   "execution_count": null,
   "id": "3296143f",
   "metadata": {},
   "outputs": [],
   "source": [
    "out = out.view(128, 321, 12)"
   ]
  },
  {
   "cell_type": "code",
   "execution_count": null,
   "id": "86994e88",
   "metadata": {},
   "outputs": [],
   "source": [
    "out.shape"
   ]
  },
  {
   "cell_type": "code",
   "execution_count": null,
   "id": "191772e6",
   "metadata": {},
   "outputs": [],
   "source": [
    "gl_out = gl(out, out)"
   ]
  },
  {
   "cell_type": "code",
   "execution_count": null,
   "id": "2fc04b4e",
   "metadata": {},
   "outputs": [],
   "source": [
    "gl_out.shape"
   ]
  },
  {
   "cell_type": "code",
   "execution_count": null,
   "id": "d760a903",
   "metadata": {},
   "outputs": [],
   "source": [
    "attention_matrix = []\n",
    "for stack in range(16):\n",
    "    attention_matrix.append(gl_out)"
   ]
  },
  {
   "cell_type": "code",
   "execution_count": null,
   "id": "a22b8877",
   "metadata": {},
   "outputs": [],
   "source": [
    "attention_matrix = torch.stack(attention_matrix, dim=0)"
   ]
  },
  {
   "cell_type": "code",
   "execution_count": null,
   "id": "cba42e3d",
   "metadata": {},
   "outputs": [],
   "source": [
    "attention_matrix.shape"
   ]
  },
  {
   "cell_type": "code",
   "execution_count": null,
   "id": "d9bfbc6d",
   "metadata": {},
   "outputs": [],
   "source": []
  },
  {
   "cell_type": "code",
   "execution_count": null,
   "id": "2d5f3a91",
   "metadata": {},
   "outputs": [],
   "source": []
  },
  {
   "cell_type": "code",
   "execution_count": null,
   "id": "232f8385",
   "metadata": {},
   "outputs": [],
   "source": []
  },
  {
   "cell_type": "code",
   "execution_count": null,
   "id": "d61f2a58",
   "metadata": {},
   "outputs": [],
   "source": [
    "gl_out = gl_out.permute(1,0,2,3)"
   ]
  },
  {
   "cell_type": "code",
   "execution_count": null,
   "id": "ce5302ca",
   "metadata": {},
   "outputs": [],
   "source": [
    "temp = []\n",
    "for head in range(gl_out.shape[0]):\n",
    "    temp.append(dense_to_sparse(gl_out[head])[0])"
   ]
  },
  {
   "cell_type": "code",
   "execution_count": null,
   "id": "4f39c680",
   "metadata": {},
   "outputs": [],
   "source": [
    "temp = torch.stack(temp, axis=0)"
   ]
  },
  {
   "cell_type": "code",
   "execution_count": null,
   "id": "0c04550e",
   "metadata": {},
   "outputs": [],
   "source": [
    "temp.shape"
   ]
  },
  {
   "cell_type": "code",
   "execution_count": null,
   "id": "742e5544",
   "metadata": {},
   "outputs": [],
   "source": [
    "temp"
   ]
  },
  {
   "cell_type": "code",
   "execution_count": null,
   "id": "d4bc09d0",
   "metadata": {},
   "outputs": [],
   "source": [
    "mpglu = InterCorrealtionStack(\n",
    "                    hidden_dim=12,\n",
    "                    message_norm=True,\n",
    "                    GLU=True)"
   ]
  },
  {
   "cell_type": "code",
   "execution_count": null,
   "id": "264d148f",
   "metadata": {},
   "outputs": [],
   "source": [
    "mpglu"
   ]
  },
  {
   "cell_type": "code",
   "execution_count": null,
   "id": "c341ada9",
   "metadata": {},
   "outputs": [],
   "source": [
    "inpts = layer(data_batch.x.permute(0, 2, 1))"
   ]
  },
  {
   "cell_type": "code",
   "execution_count": null,
   "id": "fb81d3b5",
   "metadata": {},
   "outputs": [],
   "source": [
    "inpts = inpts.squeeze()"
   ]
  },
  {
   "cell_type": "code",
   "execution_count": null,
   "id": "aa2e79d4",
   "metadata": {},
   "outputs": [],
   "source": [
    "x = mpglu(inpts, temp[0])"
   ]
  },
  {
   "cell_type": "code",
   "execution_count": null,
   "id": "7d5efb31",
   "metadata": {},
   "outputs": [],
   "source": [
    "x.shape"
   ]
  },
  {
   "cell_type": "code",
   "execution_count": null,
   "id": "d8170012",
   "metadata": {},
   "outputs": [],
   "source": [
    "_multi_head = []\n",
    "\n",
    "for head in range(temp.shape[0]):\n",
    "    _multi_head.append(mpglu(inpts, temp[head]))"
   ]
  },
  {
   "cell_type": "code",
   "execution_count": null,
   "id": "ce041c75",
   "metadata": {},
   "outputs": [],
   "source": [
    "_multi_head = torch.stack(_multi_head,axis=0)"
   ]
  },
  {
   "cell_type": "code",
   "execution_count": null,
   "id": "4fedaf5c",
   "metadata": {},
   "outputs": [],
   "source": [
    "_multi_head.shape"
   ]
  },
  {
   "cell_type": "code",
   "execution_count": null,
   "id": "6b21ac50",
   "metadata": {},
   "outputs": [],
   "source": [
    "_multi_head.device"
   ]
  },
  {
   "cell_type": "code",
   "execution_count": null,
   "id": "faa53380",
   "metadata": {},
   "outputs": [],
   "source": [
    "weight = nn.Linear(4,1, bias=False)"
   ]
  },
  {
   "cell_type": "code",
   "execution_count": null,
   "id": "0aff3abe",
   "metadata": {},
   "outputs": [],
   "source": [
    "weight.weight = __parameter"
   ]
  },
  {
   "cell_type": "code",
   "execution_count": null,
   "id": "1514486d",
   "metadata": {},
   "outputs": [],
   "source": [
    "weight.weight"
   ]
  },
  {
   "cell_type": "code",
   "execution_count": null,
   "id": "c23eb9dc",
   "metadata": {},
   "outputs": [],
   "source": [
    "__parameter = nn.Parameter(torch.randn(4))"
   ]
  },
  {
   "cell_type": "code",
   "execution_count": null,
   "id": "c37ffe90",
   "metadata": {},
   "outputs": [],
   "source": [
    "__parameter"
   ]
  },
  {
   "cell_type": "markdown",
   "id": "f0944520",
   "metadata": {},
   "source": [
    "## Outer Attention Layer"
   ]
  },
  {
   "cell_type": "code",
   "execution_count": null,
   "id": "6b3c1f88",
   "metadata": {},
   "outputs": [],
   "source": [
    "# Attention Layer Preprocess input X -> Q, K, V\n",
    "\n",
    "queries = torch.Tensor(batch, L_Q, d_model)\n",
    "keys = torch.Tensor(batch, L_K, d_model)\n",
    "values = torch.Tensor(batch, L_K, d_model)"
   ]
  },
  {
   "cell_type": "code",
   "execution_count": null,
   "id": "8da61700",
   "metadata": {},
   "outputs": [],
   "source": [
    "# Make Head\n",
    "\n",
    "B, L, _ = queries.shape\n",
    "_, S, _ = keys.shape\n",
    "H = n_heads\n",
    "\n",
    "q = queries.view(B, L, H, -1)\n",
    "k = keys.view(B, S, H, -1)\n",
    "v = values.view(B, S, H, -1)"
   ]
  },
  {
   "cell_type": "code",
   "execution_count": null,
   "id": "f074aad9",
   "metadata": {},
   "outputs": [],
   "source": [
    "q.shape"
   ]
  },
  {
   "cell_type": "markdown",
   "id": "f593f745",
   "metadata": {},
   "source": [
    "### Inner Attention"
   ]
  },
  {
   "cell_type": "code",
   "execution_count": null,
   "id": "2b3a32d4",
   "metadata": {},
   "outputs": [],
   "source": [
    "B, L_Q, H, D = q.shape\n",
    "B, L_K, _, _ = k.shape"
   ]
  },
  {
   "cell_type": "code",
   "execution_count": null,
   "id": "8dcaa663",
   "metadata": {},
   "outputs": [],
   "source": [
    "queries = q.transpose(2,1)\n",
    "keys = k.transpose(2,1)\n",
    "values = v.transpose(2,1)"
   ]
  },
  {
   "cell_type": "code",
   "execution_count": null,
   "id": "e1404e19",
   "metadata": {},
   "outputs": [],
   "source": [
    "# Sampling num\n",
    "\n",
    "U_part = factor * np.ceil(np.log(L_K)).astype('int').item() # c*ln(L_k)\n",
    "u = factor * np.ceil(np.log(L_Q)).astype('int').item() # c*ln(L_q) "
   ]
  },
  {
   "cell_type": "code",
   "execution_count": null,
   "id": "a3c53686",
   "metadata": {},
   "outputs": [],
   "source": [
    "U_part = U_part if U_part<L_K else L_K\n",
    "u = u if u<L_Q else L_Q"
   ]
  },
  {
   "cell_type": "code",
   "execution_count": null,
   "id": "97b923f2",
   "metadata": {},
   "outputs": [],
   "source": [
    "U_part"
   ]
  },
  {
   "cell_type": "code",
   "execution_count": null,
   "id": "904c75cd",
   "metadata": {},
   "outputs": [],
   "source": [
    "u"
   ]
  },
  {
   "cell_type": "markdown",
   "id": "a4007572",
   "metadata": {},
   "source": [
    "### Get Sparsity Measurement with random Key sample and Query sample"
   ]
  },
  {
   "cell_type": "code",
   "execution_count": null,
   "id": "4d3e01ae",
   "metadata": {},
   "outputs": [],
   "source": [
    "Q = queries\n",
    "K = keys\n",
    "\n",
    "K.shape"
   ]
  },
  {
   "cell_type": "code",
   "execution_count": null,
   "id": "63f5b3c3",
   "metadata": {},
   "outputs": [],
   "source": [
    "B, H, L_K, E = keys.shape\n",
    "B, _, L_Q, _ = queries.shape"
   ]
  },
  {
   "cell_type": "code",
   "execution_count": null,
   "id": "e667a1eb",
   "metadata": {},
   "outputs": [],
   "source": [
    "# calculate the sampled Q_K\n",
    "K_expand = K.unsqueeze(-3).expand(B, H, L_Q, L_K, E)\n",
    "K_expand.shape"
   ]
  },
  {
   "cell_type": "code",
   "execution_count": null,
   "id": "8b018d2e",
   "metadata": {},
   "outputs": [],
   "source": [
    "index_sample = torch.randint(L_K, (L_Q, U_part)) # real U = U_part(factor*ln(L_k))*L_q\n",
    "index_sample.shape"
   ]
  },
  {
   "cell_type": "code",
   "execution_count": null,
   "id": "322922e3",
   "metadata": {},
   "outputs": [],
   "source": [
    "K_sample = K_expand[:, :, torch.arange(L_Q).unsqueeze(1), index_sample,:]\n",
    "K_sample.shape"
   ]
  },
  {
   "cell_type": "code",
   "execution_count": null,
   "id": "abc24ba4",
   "metadata": {},
   "outputs": [],
   "source": [
    "Q_K_sample = torch.matmul(Q.unsqueeze(-2), K_sample.transpose(-2, -1)).squeeze(-2)\n",
    "Q_K_sample.shape"
   ]
  },
  {
   "cell_type": "code",
   "execution_count": null,
   "id": "96662e59",
   "metadata": {},
   "outputs": [],
   "source": [
    "# find the Top_k query with sparisty measurement\n",
    "M = Q_K_sample.max(-1)[0] - torch.div(Q_K_sample.sum(-1), L_K)\n",
    "M_top = M.topk(u, sorted=False)[1]\n",
    "M_top.shape"
   ]
  },
  {
   "cell_type": "code",
   "execution_count": null,
   "id": "d6283809",
   "metadata": {},
   "outputs": [],
   "source": [
    "Q_reduce = Q[torch.arange(B)[:, None, None],\n",
    "             torch.arange(H)[None, :, None],\n",
    "             M_top, :] # factor*ln(L_q)\n",
    "\n",
    "Q_reduce.shape"
   ]
  },
  {
   "cell_type": "code",
   "execution_count": null,
   "id": "d496a239",
   "metadata": {},
   "outputs": [],
   "source": [
    "Q_K = torch.matmul(Q_reduce, K.transpose(-2, -1)) # factor*ln(L_q)*L_k\n",
    "Q_K.shape"
   ]
  },
  {
   "cell_type": "code",
   "execution_count": null,
   "id": "398eb0d8",
   "metadata": {},
   "outputs": [],
   "source": [
    "scores_top = Q_K\n",
    "index = M_top"
   ]
  },
  {
   "cell_type": "markdown",
   "id": "95f84420",
   "metadata": {},
   "source": [
    "### Get initial context"
   ]
  },
  {
   "cell_type": "code",
   "execution_count": null,
   "id": "4547aac7",
   "metadata": {},
   "outputs": [],
   "source": [
    "v.shape"
   ]
  },
  {
   "cell_type": "code",
   "execution_count": null,
   "id": "4f9e65cd",
   "metadata": {},
   "outputs": [],
   "source": [
    "B, H, L_V, D = v.shape"
   ]
  },
  {
   "cell_type": "code",
   "execution_count": null,
   "id": "545d6666",
   "metadata": {},
   "outputs": [],
   "source": [
    "v_sum = v.mean(dim=-2)"
   ]
  },
  {
   "cell_type": "code",
   "execution_count": null,
   "id": "42a64fce",
   "metadata": {},
   "outputs": [],
   "source": [
    "v_sum.shape"
   ]
  },
  {
   "cell_type": "code",
   "execution_count": null,
   "id": "1baff3a5",
   "metadata": {},
   "outputs": [],
   "source": [
    "v.shape"
   ]
  },
  {
   "cell_type": "code",
   "execution_count": null,
   "id": "b6e8b562",
   "metadata": {},
   "outputs": [],
   "source": [
    "contex = v_sum.unsqueeze(-2).expand(B, H, L_Q, v_sum.shape[-1]).clone()"
   ]
  },
  {
   "cell_type": "code",
   "execution_count": null,
   "id": "f015dbef",
   "metadata": {},
   "outputs": [],
   "source": [
    "contex.shape"
   ]
  },
  {
   "cell_type": "markdown",
   "id": "7211895c",
   "metadata": {},
   "source": [
    "### Update context"
   ]
  },
  {
   "cell_type": "code",
   "execution_count": null,
   "id": "45b0e987",
   "metadata": {},
   "outputs": [],
   "source": [
    "attn = torch.softmax(scores_top, dim=-1)"
   ]
  },
  {
   "cell_type": "code",
   "execution_count": null,
   "id": "12e21443",
   "metadata": {},
   "outputs": [],
   "source": [
    "attns = (torch.ones([3,2,28,28])/28).type_as(attn)"
   ]
  },
  {
   "cell_type": "code",
   "execution_count": null,
   "id": "ea298599",
   "metadata": {},
   "outputs": [],
   "source": [
    "attns.shape"
   ]
  },
  {
   "cell_type": "code",
   "execution_count": null,
   "id": "55fd93c9",
   "metadata": {},
   "outputs": [],
   "source": [
    "attns[torch.arange(B)[:, None, None], torch.arange(2)[None, :, None], M_top, :] = attn"
   ]
  },
  {
   "cell_type": "code",
   "execution_count": null,
   "id": "027717d1",
   "metadata": {},
   "outputs": [],
   "source": [
    "attns.shape"
   ]
  },
  {
   "cell_type": "code",
   "execution_count": null,
   "id": "fc7554f9",
   "metadata": {},
   "outputs": [],
   "source": []
  }
 ],
 "metadata": {
  "kernelspec": {
   "display_name": "Python 3 (ipykernel)",
   "language": "python",
   "name": "python3"
  },
  "language_info": {
   "codemirror_mode": {
    "name": "ipython",
    "version": 3
   },
   "file_extension": ".py",
   "mimetype": "text/x-python",
   "name": "python",
   "nbconvert_exporter": "python",
   "pygments_lexer": "ipython3",
   "version": "3.8.13"
  }
 },
 "nbformat": 4,
 "nbformat_minor": 5
}
