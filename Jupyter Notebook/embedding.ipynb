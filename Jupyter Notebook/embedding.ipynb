{
 "cells": [
  {
   "cell_type": "code",
   "execution_count": 1,
   "id": "5a42c5c1",
   "metadata": {},
   "outputs": [],
   "source": [
    "import sys\n",
    "\n",
    "sys.path.append('../GSL')"
   ]
  },
  {
   "cell_type": "code",
   "execution_count": 2,
   "id": "30ca64f4",
   "metadata": {},
   "outputs": [],
   "source": [
    "import torch\n",
    "import torch.nn as nn\n",
    "import torch.nn.functional as F\n",
    "\n",
    "import math"
   ]
  },
  {
   "cell_type": "code",
   "execution_count": 3,
   "id": "71dffd38",
   "metadata": {},
   "outputs": [],
   "source": [
    "import pandas as pd\n",
    "import numpy as np"
   ]
  },
  {
   "cell_type": "code",
   "execution_count": 4,
   "id": "e5ef8a0d",
   "metadata": {},
   "outputs": [],
   "source": [
    "import os"
   ]
  },
  {
   "cell_type": "code",
   "execution_count": 5,
   "id": "81e7e3df",
   "metadata": {},
   "outputs": [],
   "source": [
    "from utils.dataset_utils import time_features_from_frequency_str\n",
    "from torch_geometric.data import Data\n",
    "from torch_geometric.loader import DataLoader"
   ]
  },
  {
   "cell_type": "code",
   "execution_count": 6,
   "id": "fafc979a",
   "metadata": {},
   "outputs": [],
   "source": [
    "class PositionalEmbedding(nn.Module):\n",
    "    def __init__(self, d_model, max_len=5000):\n",
    "        super(PositionalEmbedding, self).__init__()\n",
    "        # Compute the positional encodings once in log space.\n",
    "        pe = torch.zeros(max_len, d_model).float()\n",
    "        pe.require_grad = False\n",
    "\n",
    "        position = torch.arange(0, max_len).float().unsqueeze(1)\n",
    "        div_term = (torch.arange(0, d_model, 2).float() * -(math.log(10000.0) / d_model)).exp()\n",
    "\n",
    "        pe[:, 0::2] = torch.sin(position * div_term)\n",
    "        pe[:, 1::2] = torch.cos(position * div_term)\n",
    "\n",
    "        pe = pe.unsqueeze(0)\n",
    "        self.register_buffer('pe', pe)\n",
    "\n",
    "    def forward(self, x):\n",
    "        return self.pe[:, :x.size(-1)]"
   ]
  },
  {
   "cell_type": "code",
   "execution_count": 62,
   "id": "d83d46f8",
   "metadata": {},
   "outputs": [],
   "source": [
    "class TokenEmbedding(nn.Module):\n",
    "    def __init__(self, c_in, d_model):\n",
    "        super(TokenEmbedding, self).__init__()\n",
    "        padding = 1 \n",
    "        self.tokenConv = nn.Conv1d(in_channels=c_in, out_channels=d_model, \n",
    "                                    kernel_size=3, padding=padding, padding_mode='circular')\n",
    "        for m in self.modules():\n",
    "            if isinstance(m, nn.Conv1d):\n",
    "                nn.init.kaiming_normal_(m.weight,mode='fan_in',nonlinearity='leaky_relu')\n",
    "\n",
    "    def forward(self, x):\n",
    "        x = self.tokenConv(x).transpose(1,2)\n",
    "        return x"
   ]
  },
  {
   "cell_type": "code",
   "execution_count": 8,
   "id": "f1d14b50",
   "metadata": {},
   "outputs": [],
   "source": [
    "class TimeFeatureEmbedding(nn.Module):\n",
    "    def __init__(self, d_model, embed_type='timeF', freq='h'):\n",
    "        super(TimeFeatureEmbedding, self).__init__()\n",
    "\n",
    "        freq_map = {'h':4, 't':5, 's':6, 'm':1, 'a':1, 'w':2, 'd':3, 'b':3}\n",
    "        d_inp = freq_map[freq]\n",
    "        self.embed = nn.Linear(d_inp, d_model)\n",
    "    \n",
    "    def forward(self, x):\n",
    "        return self.embed(x)"
   ]
  },
  {
   "cell_type": "code",
   "execution_count": 9,
   "id": "757ab724",
   "metadata": {},
   "outputs": [],
   "source": [
    "num_timesteps_in = 96\n",
    "num_timesteps_out = 96"
   ]
  },
  {
   "cell_type": "code",
   "execution_count": 10,
   "id": "aeeaa18d",
   "metadata": {},
   "outputs": [],
   "source": [
    "y_df = pd.read_csv(os.path.join('../GSL/data/ETT/ETTm2/ETTm2.csv'))\n",
    "\n",
    "\n",
    "y_df['date'] = pd.to_datetime(y_df['date'])\n",
    "\n",
    "dataframe = pd.DataFrame()\n",
    "time_cls = time_features_from_frequency_str('1H')\n",
    "for cls_ in time_cls:\n",
    "    cls_name = cls_.__class__.__name__\n",
    "    dataframe[cls_name] = cls_(y_df['date'].dt)\n",
    "time_stamp = dataframe.to_numpy().T\n",
    "\n",
    "\n",
    "_df = y_df.drop(['date'], axis=1).to_numpy().T\n",
    "X = _df.astype(np.float32)\n",
    "dataset = np.expand_dims(X, axis=1)\n",
    "                   \n",
    "                   \n",
    "indices = [\n",
    "    (i, i + (num_timesteps_in + num_timesteps_out)) \n",
    "           for i in range(dataset.shape[2] - (num_timesteps_in + num_timesteps_out) + 1)\n",
    "]\n",
    "\n",
    "features, target = [], []\n",
    "time_feature = []\n",
    "for i, j in indices:\n",
    "    features.append((dataset[:, :, i: i + num_timesteps_in]))\n",
    "    target.append((dataset[:, 0, i + num_timesteps_in: j]))\n",
    "    time_feature.append(time_stamp[:, i:i+num_timesteps_in])\n",
    "\n",
    "features = torch.FloatTensor(np.array(features))\n",
    "targets = torch.FloatTensor(np.array(target))\n",
    "time_feature = torch.FloatTensor(np.array(time_feature))\n",
    "\n",
    "_data = []\n",
    "\n",
    "for batch in range(len(indices)):\n",
    "    _data.append(Data(x=features[batch], y=targets[batch], time_stamp=time_feature[batch]))"
   ]
  },
  {
   "cell_type": "code",
   "execution_count": 11,
   "id": "4cb38b2e",
   "metadata": {},
   "outputs": [],
   "source": [
    "loader = DataLoader(_data, batch_size=4, shuffle=True, drop_last=True)"
   ]
  },
  {
   "cell_type": "code",
   "execution_count": 12,
   "id": "0af1d01b",
   "metadata": {},
   "outputs": [],
   "source": [
    "time_featureEmbedding = TimeFeatureEmbedding(256)"
   ]
  },
  {
   "cell_type": "code",
   "execution_count": 13,
   "id": "a6956eac",
   "metadata": {},
   "outputs": [],
   "source": [
    "inpt = next(iter(loader))"
   ]
  },
  {
   "cell_type": "code",
   "execution_count": 14,
   "id": "e59c73a1",
   "metadata": {},
   "outputs": [
    {
     "data": {
      "text/plain": [
       "torch.Size([28, 1, 96])"
      ]
     },
     "execution_count": 14,
     "metadata": {},
     "output_type": "execute_result"
    }
   ],
   "source": [
    "inpt.x.shape"
   ]
  },
  {
   "cell_type": "code",
   "execution_count": 15,
   "id": "45ecda09",
   "metadata": {},
   "outputs": [
    {
     "data": {
      "text/plain": [
       "torch.Size([28, 96])"
      ]
     },
     "execution_count": 15,
     "metadata": {},
     "output_type": "execute_result"
    }
   ],
   "source": [
    "inpt.y.shape"
   ]
  },
  {
   "cell_type": "code",
   "execution_count": 16,
   "id": "5be1cd77",
   "metadata": {},
   "outputs": [
    {
     "data": {
      "text/plain": [
       "torch.Size([16, 96])"
      ]
     },
     "execution_count": 16,
     "metadata": {},
     "output_type": "execute_result"
    }
   ],
   "source": [
    "inpt.time_stamp.shape"
   ]
  },
  {
   "cell_type": "code",
   "execution_count": 17,
   "id": "d1f1667f",
   "metadata": {},
   "outputs": [],
   "source": [
    "time_embed = time_featureEmbedding(inpt.time_stamp.reshape(-1, 4, 96).permute(0,2,1))"
   ]
  },
  {
   "cell_type": "code",
   "execution_count": 18,
   "id": "b6f09f42",
   "metadata": {},
   "outputs": [
    {
     "data": {
      "text/plain": [
       "torch.Size([4, 96, 256])"
      ]
     },
     "execution_count": 18,
     "metadata": {},
     "output_type": "execute_result"
    }
   ],
   "source": [
    "time_embed.shape"
   ]
  },
  {
   "cell_type": "code",
   "execution_count": 19,
   "id": "dad3aaf8",
   "metadata": {},
   "outputs": [],
   "source": [
    "position_embed = PositionalEmbedding(256)"
   ]
  },
  {
   "cell_type": "code",
   "execution_count": 20,
   "id": "b415101c",
   "metadata": {},
   "outputs": [],
   "source": [
    "pe = position_embed(inpt.x)"
   ]
  },
  {
   "cell_type": "code",
   "execution_count": 21,
   "id": "1b92f53f",
   "metadata": {},
   "outputs": [
    {
     "data": {
      "text/plain": [
       "torch.Size([1, 96, 256])"
      ]
     },
     "execution_count": 21,
     "metadata": {},
     "output_type": "execute_result"
    }
   ],
   "source": [
    "pe.shape"
   ]
  },
  {
   "cell_type": "code",
   "execution_count": 63,
   "id": "037089f4",
   "metadata": {},
   "outputs": [],
   "source": [
    "token_embed = TokenEmbedding(1, 256)"
   ]
  },
  {
   "cell_type": "code",
   "execution_count": 64,
   "id": "30fda6ff",
   "metadata": {},
   "outputs": [],
   "source": [
    "token = token_embed(inpt.x)"
   ]
  },
  {
   "cell_type": "code",
   "execution_count": 65,
   "id": "d01bb061",
   "metadata": {},
   "outputs": [
    {
     "data": {
      "text/plain": [
       "torch.Size([28, 96, 256])"
      ]
     },
     "execution_count": 65,
     "metadata": {},
     "output_type": "execute_result"
    }
   ],
   "source": [
    "token.shape"
   ]
  },
  {
   "cell_type": "code",
   "execution_count": 25,
   "id": "7a8aaf9b",
   "metadata": {},
   "outputs": [
    {
     "data": {
      "text/plain": [
       "torch.Size([28, 96, 256])"
      ]
     },
     "execution_count": 25,
     "metadata": {},
     "output_type": "execute_result"
    }
   ],
   "source": [
    "(pe + token).shape"
   ]
  },
  {
   "cell_type": "code",
   "execution_count": 50,
   "id": "4be1a5ba",
   "metadata": {},
   "outputs": [
    {
     "data": {
      "text/plain": [
       "torch.Size([1, 1, 96, 256])"
      ]
     },
     "execution_count": 50,
     "metadata": {},
     "output_type": "execute_result"
    }
   ],
   "source": [
    "pe.unsqueeze(dim=0).shape"
   ]
  },
  {
   "cell_type": "code",
   "execution_count": 51,
   "id": "ebf5a31a",
   "metadata": {},
   "outputs": [
    {
     "data": {
      "text/plain": [
       "torch.Size([4, 7, 96, 256])"
      ]
     },
     "execution_count": 51,
     "metadata": {},
     "output_type": "execute_result"
    }
   ],
   "source": [
    "token.reshape(4, 7, 96, 256).shape"
   ]
  },
  {
   "cell_type": "code",
   "execution_count": 54,
   "id": "3354d8c1",
   "metadata": {},
   "outputs": [
    {
     "data": {
      "text/plain": [
       "torch.Size([4, 7, 96, 256])"
      ]
     },
     "execution_count": 54,
     "metadata": {},
     "output_type": "execute_result"
    }
   ],
   "source": [
    "time_embed.expand(7,4,96,256).permute(1,0,2,3).shape"
   ]
  },
  {
   "cell_type": "code",
   "execution_count": 77,
   "id": "41d6b628",
   "metadata": {},
   "outputs": [],
   "source": [
    "embed_inpts = (pe.unsqueeze(dim=0) + token.reshape(4, 7, 96, 256) + \n",
    " time_embed.expand(7, 4, 96, 256).permute(1, 0, 2, 3)).reshape(-1, 96, 256)\n"
   ]
  },
  {
   "cell_type": "code",
   "execution_count": 108,
   "id": "cab08610",
   "metadata": {},
   "outputs": [],
   "source": [
    "conv1 = nn.Conv1d(256, 256//4, 1)\n",
    "conv2 = nn.Conv1d(256//4, 1, 1)"
   ]
  },
  {
   "cell_type": "code",
   "execution_count": 109,
   "id": "d7157008",
   "metadata": {},
   "outputs": [
    {
     "data": {
      "text/plain": [
       "torch.Size([64, 256, 1])"
      ]
     },
     "execution_count": 109,
     "metadata": {},
     "output_type": "execute_result"
    }
   ],
   "source": [
    "conv1.weight.shape"
   ]
  },
  {
   "cell_type": "code",
   "execution_count": null,
   "id": "80fd06c5",
   "metadata": {},
   "outputs": [],
   "source": []
  },
  {
   "cell_type": "code",
   "execution_count": 97,
   "id": "93224d0b",
   "metadata": {},
   "outputs": [
    {
     "data": {
      "text/plain": [
       "torch.Size([28, 256, 96])"
      ]
     },
     "execution_count": 97,
     "metadata": {},
     "output_type": "execute_result"
    }
   ],
   "source": [
    "embed_inpts.permute(0,2,1).shape"
   ]
  },
  {
   "cell_type": "code",
   "execution_count": 93,
   "id": "2cd29332",
   "metadata": {},
   "outputs": [],
   "source": [
    "o1 = conv1(embed_inpts.permute(0,2,1))"
   ]
  },
  {
   "cell_type": "code",
   "execution_count": 94,
   "id": "df42e981",
   "metadata": {},
   "outputs": [
    {
     "data": {
      "text/plain": [
       "torch.Size([28, 64, 96])"
      ]
     },
     "execution_count": 94,
     "metadata": {},
     "output_type": "execute_result"
    }
   ],
   "source": [
    "o1.shape"
   ]
  },
  {
   "cell_type": "code",
   "execution_count": 95,
   "id": "c930b0dd",
   "metadata": {},
   "outputs": [],
   "source": [
    "o2 = conv2(o1)"
   ]
  },
  {
   "cell_type": "code",
   "execution_count": 96,
   "id": "7accf7e2",
   "metadata": {},
   "outputs": [
    {
     "data": {
      "text/plain": [
       "torch.Size([28, 1, 96])"
      ]
     },
     "execution_count": 96,
     "metadata": {},
     "output_type": "execute_result"
    }
   ],
   "source": [
    "o2.shape"
   ]
  },
  {
   "cell_type": "code",
   "execution_count": 110,
   "id": "d9f3dd8d",
   "metadata": {},
   "outputs": [],
   "source": [
    "linear1 = nn.Linear(256, 256//4)\n",
    "linear2 = nn.Linear(256//4, 1)"
   ]
  },
  {
   "cell_type": "code",
   "execution_count": 111,
   "id": "0b54540a",
   "metadata": {},
   "outputs": [
    {
     "data": {
      "text/plain": [
       "torch.Size([64, 256])"
      ]
     },
     "execution_count": 111,
     "metadata": {},
     "output_type": "execute_result"
    }
   ],
   "source": [
    "linear1.weight.shape"
   ]
  },
  {
   "cell_type": "code",
   "execution_count": 100,
   "id": "af581df6",
   "metadata": {},
   "outputs": [],
   "source": [
    "l1 = conv1(embed_inpts)"
   ]
  },
  {
   "cell_type": "code",
   "execution_count": 101,
   "id": "8289a798",
   "metadata": {},
   "outputs": [
    {
     "data": {
      "text/plain": [
       "torch.Size([28, 96, 64])"
      ]
     },
     "execution_count": 101,
     "metadata": {},
     "output_type": "execute_result"
    }
   ],
   "source": [
    "l1.shape"
   ]
  },
  {
   "cell_type": "code",
   "execution_count": 102,
   "id": "58410994",
   "metadata": {},
   "outputs": [],
   "source": [
    "l2 = conv2(l1)"
   ]
  },
  {
   "cell_type": "code",
   "execution_count": 103,
   "id": "52e7c8fb",
   "metadata": {},
   "outputs": [
    {
     "data": {
      "text/plain": [
       "torch.Size([28, 96, 1])"
      ]
     },
     "execution_count": 103,
     "metadata": {},
     "output_type": "execute_result"
    }
   ],
   "source": [
    "l2.shape"
   ]
  },
  {
   "cell_type": "code",
   "execution_count": 120,
   "id": "90e1fd10",
   "metadata": {},
   "outputs": [],
   "source": [
    "import re"
   ]
  },
  {
   "cell_type": "code",
   "execution_count": 124,
   "id": "cdaa6f13",
   "metadata": {},
   "outputs": [],
   "source": [
    "temp = '15min'"
   ]
  },
  {
   "cell_type": "code",
   "execution_count": 129,
   "id": "9a2c153e",
   "metadata": {},
   "outputs": [
    {
     "data": {
      "text/plain": [
       "'min'"
      ]
     },
     "execution_count": 129,
     "metadata": {},
     "output_type": "execute_result"
    }
   ],
   "source": [
    "re.split('(\\d+)', temp)[-1].lower()"
   ]
  },
  {
   "cell_type": "code",
   "execution_count": null,
   "id": "c833431a",
   "metadata": {},
   "outputs": [],
   "source": []
  }
 ],
 "metadata": {
  "kernelspec": {
   "display_name": "Python 3 (ipykernel)",
   "language": "python",
   "name": "python3"
  },
  "language_info": {
   "codemirror_mode": {
    "name": "ipython",
    "version": 3
   },
   "file_extension": ".py",
   "mimetype": "text/x-python",
   "name": "python",
   "nbconvert_exporter": "python",
   "pygments_lexer": "ipython3",
   "version": "3.8.13"
  }
 },
 "nbformat": 4,
 "nbformat_minor": 5
}
