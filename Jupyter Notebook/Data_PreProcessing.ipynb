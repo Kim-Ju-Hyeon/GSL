{
 "cells": [
  {
   "cell_type": "code",
   "execution_count": null,
   "id": "4e3c0116",
   "metadata": {},
   "outputs": [],
   "source": [
    "import os\n",
    "\n",
    "os.environ[\"CUDA_DEVICE_ORDER\"]=\"PCI_BUS_ID\"  # Arrange GPU devices starting from 0\n",
    "os.environ[\"CUDA_VISIBLE_DEVICES\"]= \"0\"  # Set the GPU 2 to use"
   ]
  },
  {
   "cell_type": "code",
   "execution_count": null,
   "id": "407baa5c",
   "metadata": {},
   "outputs": [],
   "source": [
    "import sys\n",
    "\n",
    "sys.path.append('../GSL')"
   ]
  },
  {
   "cell_type": "code",
   "execution_count": null,
   "id": "17516a39",
   "metadata": {},
   "outputs": [],
   "source": [
    "import matplotlib.pyplot as plt\n",
    "import pandas as pd\n",
    "import numpy as np\n",
    "import torch\n",
    "\n",
    "import os\n",
    "from glob import glob, escape\n",
    "import torch.nn as nn\n",
    "from torch.nn import functional as F\n",
    "\n",
    "import pickle\n",
    "import yaml\n",
    "from easydict import EasyDict as edict\n",
    "\n",
    "from torch_geometric.utils import to_dense_adj, dense_to_sparse"
   ]
  },
  {
   "cell_type": "code",
   "execution_count": null,
   "id": "c07e190e",
   "metadata": {},
   "outputs": [],
   "source": [
    "from utils.dataset_utils import time_features_from_frequency_str"
   ]
  },
  {
   "cell_type": "code",
   "execution_count": 16,
   "id": "51cfd5f5",
   "metadata": {},
   "outputs": [],
   "source": [
    "dataset = pickle.load(open(('../GSL/data/COVID19/temporal_signal_28_7_16.pickle'), 'rb'))"
   ]
  },
  {
   "cell_type": "code",
   "execution_count": 17,
   "id": "4f61f0bf",
   "metadata": {},
   "outputs": [],
   "source": [
    "train = dataset['train']"
   ]
  },
  {
   "cell_type": "code",
   "execution_count": 18,
   "id": "f285b4ab",
   "metadata": {},
   "outputs": [
    {
     "data": {
      "text/plain": [
       "torch.Size([25, 5, 110])"
      ]
     },
     "execution_count": 18,
     "metadata": {},
     "output_type": "execute_result"
    }
   ],
   "source": [
    "dataset['entire_inputs'].shape"
   ]
  },
  {
   "cell_type": "code",
   "execution_count": 19,
   "id": "cf15e9da",
   "metadata": {},
   "outputs": [
    {
     "data": {
      "text/plain": [
       "torch.Size([25, 5, 60])"
      ]
     },
     "execution_count": 19,
     "metadata": {},
     "output_type": "execute_result"
    }
   ],
   "source": [
    "dataset['entire_inputs'][:,:,:60].shape"
   ]
  },
  {
   "cell_type": "code",
   "execution_count": 20,
   "id": "83e8ccd5",
   "metadata": {},
   "outputs": [
    {
     "data": {
      "text/plain": [
       "DataBatch(x=[400, 5, 28], edge_index=[2, 10000], y=[400, 7], batch=[400])"
      ]
     },
     "execution_count": 20,
     "metadata": {},
     "output_type": "execute_result"
    }
   ],
   "source": [
    "next(iter(train))"
   ]
  },
  {
   "cell_type": "code",
   "execution_count": null,
   "id": "e7de872c",
   "metadata": {},
   "outputs": [],
   "source": []
  },
  {
   "cell_type": "code",
   "execution_count": null,
   "id": "d4b38a13",
   "metadata": {},
   "outputs": [],
   "source": []
  },
  {
   "cell_type": "code",
   "execution_count": null,
   "id": "cf72572c",
   "metadata": {},
   "outputs": [],
   "source": [
    "covid = pd.read_csv('../GSL/data/COVID19/covid_19.csv', index_col=0)"
   ]
  },
  {
   "cell_type": "code",
   "execution_count": null,
   "id": "8f908b4e",
   "metadata": {},
   "outputs": [],
   "source": [
    "covid"
   ]
  },
  {
   "cell_type": "code",
   "execution_count": null,
   "id": "5c17f564",
   "metadata": {},
   "outputs": [],
   "source": [
    "country = covid.columns.tolist()[:-1]"
   ]
  },
  {
   "cell_type": "code",
   "execution_count": null,
   "id": "2f612c1a",
   "metadata": {},
   "outputs": [],
   "source": [
    "plt.plot(covid[country[0]][-89:])"
   ]
  },
  {
   "cell_type": "code",
   "execution_count": null,
   "id": "bd6d6ca3",
   "metadata": {},
   "outputs": [],
   "source": [
    "covid[covid['date']<='2020-5-10']"
   ]
  },
  {
   "cell_type": "code",
   "execution_count": null,
   "id": "0d9745e8",
   "metadata": {},
   "outputs": [],
   "source": [
    "country"
   ]
  },
  {
   "cell_type": "code",
   "execution_count": null,
   "id": "85785a24",
   "metadata": {},
   "outputs": [],
   "source": [
    "covid = covid.reindex(country+['date'], axis=1)"
   ]
  },
  {
   "cell_type": "code",
   "execution_count": null,
   "id": "36533ee4",
   "metadata": {},
   "outputs": [],
   "source": [
    "covid"
   ]
  },
  {
   "cell_type": "code",
   "execution_count": null,
   "id": "a596efec",
   "metadata": {},
   "outputs": [],
   "source": [
    "covid['date']<='2020-05-10'"
   ]
  },
  {
   "cell_type": "code",
   "execution_count": null,
   "id": "e1ba3988",
   "metadata": {},
   "outputs": [],
   "source": [
    "covid = covid[covid['date']<='2020-05-10']"
   ]
  },
  {
   "cell_type": "code",
   "execution_count": null,
   "id": "8a0d59c3",
   "metadata": {
    "scrolled": false
   },
   "outputs": [],
   "source": [
    "covid[:50]"
   ]
  },
  {
   "cell_type": "code",
   "execution_count": null,
   "id": "d295a40e",
   "metadata": {},
   "outputs": [],
   "source": [
    "covid[:50]"
   ]
  }
 ],
 "metadata": {
  "kernelspec": {
   "display_name": "Python 3 (ipykernel)",
   "language": "python",
   "name": "python3"
  },
  "language_info": {
   "codemirror_mode": {
    "name": "ipython",
    "version": 3
   },
   "file_extension": ".py",
   "mimetype": "text/x-python",
   "name": "python",
   "nbconvert_exporter": "python",
   "pygments_lexer": "ipython3",
   "version": "3.8.12"
  }
 },
 "nbformat": 4,
 "nbformat_minor": 5
}
