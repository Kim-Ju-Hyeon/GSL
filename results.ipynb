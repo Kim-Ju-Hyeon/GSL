{
 "cells": [
  {
   "cell_type": "code",
   "execution_count": 1,
   "id": "5764df86",
   "metadata": {},
   "outputs": [],
   "source": [
    "import sys\n",
    "\n",
    "sys.path.append('../GraphStructureLearning')"
   ]
  },
  {
   "cell_type": "code",
   "execution_count": 2,
   "id": "14852260",
   "metadata": {},
   "outputs": [],
   "source": [
    "import numpy as np\n",
    "import matplotlib.pyplot as plt\n",
    "from glob import glob\n",
    "import yaml\n",
    "from easydict import EasyDict as edict\n",
    "import pickle\n",
    "import torch"
   ]
  },
  {
   "cell_type": "code",
   "execution_count": 5,
   "id": "c749471c",
   "metadata": {},
   "outputs": [
    {
     "data": {
      "text/plain": [
       "'./exp\\\\GTS_1_1215_005508\\\\result.pickle'"
      ]
     },
     "execution_count": 5,
     "metadata": {},
     "output_type": "execute_result"
    }
   ],
   "source": [
    "exp_dirs = glob('./exp/*/result.pickle')[0]\n",
    "exp_dirs"
   ]
  },
  {
   "cell_type": "code",
   "execution_count": 7,
   "id": "3f5a2508",
   "metadata": {},
   "outputs": [],
   "source": [
    "result = pickle.load(open(exp_dirs, 'rb'))"
   ]
  },
  {
   "cell_type": "code",
   "execution_count": 9,
   "id": "09373780",
   "metadata": {},
   "outputs": [
    {
     "data": {
      "text/plain": [
       "dict_keys(['train_loss', 'val_loss', 'val_adj_matirix'])"
      ]
     },
     "execution_count": 9,
     "metadata": {},
     "output_type": "execute_result"
    }
   ],
   "source": [
    "result.keys()"
   ]
  },
  {
   "cell_type": "code",
   "execution_count": 10,
   "id": "c7d1b9e5",
   "metadata": {},
   "outputs": [
    {
     "data": {
      "text/plain": [
       "[0.004368670802149508]"
      ]
     },
     "execution_count": 10,
     "metadata": {},
     "output_type": "execute_result"
    }
   ],
   "source": [
    "result['train_loss']"
   ]
  },
  {
   "cell_type": "code",
   "execution_count": 11,
   "id": "ca07b9f1",
   "metadata": {},
   "outputs": [
    {
     "data": {
      "text/plain": [
       "[0.0004345713791230486]"
      ]
     },
     "execution_count": 11,
     "metadata": {},
     "output_type": "execute_result"
    }
   ],
   "source": [
    "result['val_loss']"
   ]
  },
  {
   "cell_type": "code",
   "execution_count": 16,
   "id": "4ad43815",
   "metadata": {},
   "outputs": [
    {
     "data": {
      "text/plain": [
       "torch.Size([2, 5904])"
      ]
     },
     "execution_count": 16,
     "metadata": {},
     "output_type": "execute_result"
    }
   ],
   "source": [
    "result['val_adj_matirix'][0].shape"
   ]
  },
  {
   "cell_type": "code",
   "execution_count": null,
   "id": "d7d214a2",
   "metadata": {},
   "outputs": [],
   "source": []
  }
 ],
 "metadata": {
  "kernelspec": {
   "display_name": "Python 3 (ipykernel)",
   "language": "python",
   "name": "python3"
  },
  "language_info": {
   "codemirror_mode": {
    "name": "ipython",
    "version": 3
   },
   "file_extension": ".py",
   "mimetype": "text/x-python",
   "name": "python",
   "nbconvert_exporter": "python",
   "pygments_lexer": "ipython3",
   "version": "3.9.7"
  }
 },
 "nbformat": 4,
 "nbformat_minor": 5
}
