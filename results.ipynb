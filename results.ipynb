{
 "cells": [
  {
   "cell_type": "code",
   "execution_count": 1,
   "id": "5764df86",
   "metadata": {},
   "outputs": [],
   "source": [
    "import sys\n",
    "\n",
    "sys.path.append('../GraphStructureLearning')"
   ]
  },
  {
   "cell_type": "code",
   "execution_count": 16,
   "id": "14852260",
   "metadata": {},
   "outputs": [],
   "source": [
    "import numpy as np\n",
    "import matplotlib.pyplot as plt\n",
    "from glob import glob\n",
    "import yaml\n",
    "from easydict import EasyDict as edict\n",
    "import pickle\n",
    "import torch\n",
    "import os\n",
    "\n",
    "from mpl_toolkits.axes_grid1 import make_axes_locatable\n",
    "from utils.utils import build_fully_connected_edge_idx\n",
    "\n",
    "from torch_geometric.utils import to_dense_adj, is_undirected"
   ]
  },
  {
   "cell_type": "code",
   "execution_count": 3,
   "id": "ea9b6635",
   "metadata": {},
   "outputs": [],
   "source": [
    "def mkdir(folder):\n",
    "      if not os.path.isdir(folder):\n",
    "        os.makedirs(folder)"
   ]
  },
  {
   "cell_type": "code",
   "execution_count": 4,
   "id": "95bfcff8",
   "metadata": {},
   "outputs": [],
   "source": [
    "def plot_adj(inf_adj, target, save, dirs=None):\n",
    "    fig, axes = plt.subplots(nrows=1, ncols=2, figsize=(25.6, 18.0))\n",
    "\n",
    "    title = 'Adjacency Matrix'\n",
    "\n",
    "    axes[0].imshow(inf_adj, cmap='Greys', vmin=0, vmax=1)\n",
    "    axes[0].set_title('Learned Adj Matrix\\n', fontsize = 20)\n",
    "    axes[0].set_xlabel('Node index', fontsize = 20)\n",
    "    axes[0].set_ylabel('Node index', fontsize = 20)\n",
    "\n",
    "    axes[1].imshow(target, cmap='Greys', vmin=0, vmax=1)\n",
    "    axes[1].set_title('Target\\n', fontsize = 20)\n",
    "    axes[1].set_xlabel('Node index', fontsize = 20)\n",
    "    axes[1].set_ylabel('Node index', fontsize = 20)\n",
    "\n",
    "    div_0 = make_axes_locatable(axes[0])\n",
    "    div_1 = make_axes_locatable(axes[1])\n",
    "    cax_0 = div_0.append_axes(\"right\", size=\"5%\", pad=0.05)\n",
    "    cax_1 = div_1.append_axes(\"right\", size=\"5%\", pad=0.05)\n",
    "    cax_0.tick_params(axis='both', labelsize=20)\n",
    "    cax_1.tick_params(axis='both', labelsize=20)\n",
    "\n",
    "    fig.colorbar(axes[0].imshow(inf_adj, cmap='hot'), cax=cax_0)\n",
    "    fig.colorbar(axes[1].imshow(target, cmap='hot'), cax=cax_1)\n",
    "\n",
    "    fig.suptitle(title, fontsize = 40)\n",
    "    axes[0].tick_params(axis='both', labelsize=20)\n",
    "    axes[1].tick_params(axis='both', labelsize=20)\n",
    "    \n",
    "    if save:\n",
    "        fig.savefig(dirs+'/adj_matrix.png')\n",
    "\n",
    "    fig.show()"
   ]
  },
  {
   "cell_type": "code",
   "execution_count": 5,
   "id": "0174e54d",
   "metadata": {},
   "outputs": [],
   "source": [
    "def plot_leanring_result(train_loss, val_loss, val_adj_matrix, save, dirs=None):\n",
    "    fig, axes = plt.subplots(nrows=1, ncols=2, figsize=(20,7))\n",
    "\n",
    "    axes[0].plot(train_loss, lw=1, label='Training Loss')\n",
    "    axes[0].plot(val_loss, lw=1, label='Validation Loss')\n",
    "    \n",
    "    axes[0].legend()\n",
    "    \n",
    "    axes[0].set_title(\"Learning Curve\")\n",
    "    axes[0].set_xlabel('Epoch')\n",
    "    axes[0].set_ylabel('Poisson Loss')\n",
    "    \n",
    "    edge_num_list = []\n",
    "    for i in range(len(val_adj_matrix)):\n",
    "        training_adj = val_adj_matrix[i]\n",
    "        _adj = to_dense_adj(torch.LongTensor(training_adj))[0]\n",
    "\n",
    "        edge_num = int(torch.sum(_adj) / 2)\n",
    "\n",
    "        edge_num_list.append(edge_num)\n",
    "            \n",
    "    axes[1].plot(edge_num_list, lw=1, label='edge num')\n",
    "    \n",
    "    axes[1].legend()\n",
    "    axes[1].set_title(\"Total Connection epoch_by_epoch\")\n",
    "    axes[1].set_xlabel('Epoch')\n",
    "    axes[1].set_ylabel('Connection')\n",
    "        \n",
    "    if save:\n",
    "        fig.savefig(dirs+'/learning_result.png')\n",
    "    \n",
    "    fig.show()"
   ]
  },
  {
   "cell_type": "code",
   "execution_count": 6,
   "id": "8fc71f3a",
   "metadata": {},
   "outputs": [],
   "source": [
    "def plot_spike(pred, target, num, save, dirs):\n",
    "    fig, axes = plt.subplots(nrows=num, ncols=2, figsize=(17,15))\n",
    "    \n",
    "    for ii in range(num):\n",
    "        _pred = pred[ii]\n",
    "        _target = target[ii]\n",
    "        \n",
    "        spike_pred = torch.poisson(_pred.exp())\n",
    "        spike_target = torch.poisson(_target.exp())\n",
    "        \n",
    "        im_o = axes[ii,0].imshow(spike_pred, cmap='binary')\n",
    "        axes[ii,0].set_xlabel('Time')\n",
    "        axes[ii,0].set_ylabel('Node index')\n",
    "    \n",
    "        im_t = axes[ii,1].imshow(spike_target, cmap='binary')\n",
    "        axes[ii,1].set_xlabel('Time')\n",
    "        axes[ii,1].set_ylabel('Node index')\n",
    "        \n",
    "        if ii == 0:\n",
    "            axes[ii,0].set_title('Prediction\\n')\n",
    "            axes[ii,1].set_title('Target\\n')\n",
    "            \n",
    "        if spike_pred.shape[1] < 20:\n",
    "            axes[ii, 0].xaxis.set_visible(False)\n",
    "            axes[ii, 1].xaxis.set_visible(False)\n",
    "\n",
    "        \n",
    "    fig.suptitle(\"Spike Visualization\")\n",
    "        \n",
    "    if save:\n",
    "        fig.savefig(dirs+'/spike_visual.png')\n",
    "    \n",
    "    fig.show()"
   ]
  },
  {
   "cell_type": "code",
   "execution_count": 7,
   "id": "e4cd9565",
   "metadata": {},
   "outputs": [],
   "source": [
    "def plot_edge_num_by_epoch(val_adj_matrix, save, dirs):\n",
    "    edge_num_list = []\n",
    "\n",
    "    for i in range(len(val_adj_matrix)):\n",
    "        training_adj = val_adj_matrix[i]\n",
    "        _adj = to_dense_adj(torch.LongTensor(training_adj))[0]\n",
    "\n",
    "        edge_num = int(torch.sum(_adj) / 2)\n",
    "\n",
    "        edge_num_list.append(edge_num)\n",
    "        \n",
    "    fig, axes = plt.subplots(figsize=(7,5))\n",
    "    \n",
    "    axes.plot(edge_num_list, lw=1, label='edge num')\n",
    "    \n",
    "    axes.legend()\n",
    "    axes.set_title(\"Total Connection epoch_by_epoch\")\n",
    "    axes.set_xlabel('Epoch')\n",
    "    axes.set_ylabel('Connection')\n",
    "    \n",
    "    if save:\n",
    "        fig.savefig(dirs+'/connection_epoch_by_epoch.png')\n",
    "    \n",
    "    fig.show()"
   ]
  },
  {
   "cell_type": "code",
   "execution_count": 8,
   "id": "753102ff",
   "metadata": {},
   "outputs": [],
   "source": [
    "def plot_w_single(mat, tar, w_hat_std, nodes, mode_cplt, suffix):\n",
    "    fig, axes = plt.subplots(nrows=1, ncols=1, figsize=(8, 5))\n",
    "    idx_num = int(nodes/2)\n",
    "    w_hat_plot = np.roll(mat, idx_num)\n",
    "    w_tar_plot = np.roll(tar, idx_num)\n",
    "    w_hat_plot[idx_num] = None\n",
    "    w_tar_plot[idx_num] = None\n",
    "    x = np.arange(nodes)\n",
    "    axes.plot(w_hat_plot, color='royalblue', label='W_hat(single neuron)', alpha=0.7)\n",
    "    axes.plot(w_tar_plot, color='darkorange', label='Target')\n",
    "    if mode_cplt:\n",
    "        axes.fill_between(x, w_hat_plot - w_hat_std, w_hat_plot + w_hat_std,\n",
    "                        color='royalblue', label='1 sigma range', alpha=0.2)\n",
    "    axes.tick_params(axis='x', labelsize=10)\n",
    "    axes.tick_params(axis='y', labelsize=10)\n",
    "    axes.tick_params(axis='x', labelsize=10)\n",
    "    axes.tick_params(axis='y', labelsize=10)\n",
    "    plt.legend(loc=3, prop={'size': 8})\n",
    "#     plt.savefig('./fig/w_hat_single_{}.png'.format(suffix), bbox_inches='tight')"
   ]
  },
  {
   "cell_type": "code",
   "execution_count": 9,
   "id": "4a2f6563",
   "metadata": {},
   "outputs": [],
   "source": [
    "ground_truth_adj = np.load('./data/connectivity_W100.npy')"
   ]
  },
  {
   "cell_type": "code",
   "execution_count": 10,
   "id": "c749471c",
   "metadata": {},
   "outputs": [
    {
     "data": {
      "text/plain": [
       "['./exp\\\\GTS_1_0113_020231', './exp\\\\GTS_1_0113_030542']"
      ]
     },
     "execution_count": 10,
     "metadata": {},
     "output_type": "execute_result"
    }
   ],
   "source": [
    "exp_dirs = glob('./exp/*')\n",
    "exp_dirs.sort()\n",
    "exp_dirs"
   ]
  },
  {
   "cell_type": "code",
   "execution_count": 11,
   "id": "c7dd0271",
   "metadata": {
    "scrolled": true
   },
   "outputs": [],
   "source": [
    "save = False\n",
    "\n",
    "for exp in exp_dirs[1:]:\n",
    "    config_file = glob(exp+'/*.yaml')[0]\n",
    "    config = edict(yaml.load(open(config_file, 'r'), Loader=yaml.FullLoader))\n",
    "    \n",
    "    train_result_dirs = glob(exp+'/training_result.pickle')\n",
    "    train_result = pickle.load(open(train_result_dirs[0], 'rb'))\n",
    "    \n",
    "    test_result_dirs = glob(exp+'/test_result.pickle')\n",
    "    test_result = pickle.load(open(test_result_dirs[0], 'rb'))\n",
    "    \n",
    "#     inf_adj = to_dense_adj(torch.LongTensor(test_result['adj_matrix']))[0]\n",
    "    \n",
    "#     exp_title = f'window:{config.dataset.window_size} slide,pred_step:{config.dataset.slide}'\n",
    "#     _dirs = './visualize/'+exp_title\n",
    "#     mkdir(_dirs)\n",
    "    \n",
    "#     pred = test_result['prediction'][0].view(-1, 100, config.dataset.slide*3)\n",
    "#     target = test_result['target'][0].view(-1, 100, config.dataset.slide*3)\n",
    "    \n",
    "#     plot_leanring_result(train_result['train_loss'], train_result['val_loss'], train_result['val_adj_matirix'], save, dirs=_dirs)\n",
    "#     plot_adj(inf_adj*-1, ground_truth_adj, save, dirs=_dirs)\n",
    "#     plot_spike(pred, target, 3, save, dirs=_dirs)\n",
    "#     plot_edge_num_by_epoch(train_result['val_adj_matirix'], save, dirs=_dirs)"
   ]
  },
  {
   "cell_type": "code",
   "execution_count": 26,
   "id": "eff0e3d0",
   "metadata": {},
   "outputs": [
    {
     "data": {
      "text/plain": [
       "448"
      ]
     },
     "execution_count": 26,
     "metadata": {},
     "output_type": "execute_result"
    }
   ],
   "source": [
    "316800 - 316352"
   ]
  },
  {
   "cell_type": "code",
   "execution_count": 27,
   "id": "c9ada1fe",
   "metadata": {},
   "outputs": [
    {
     "data": {
      "text/plain": [
       "320.0"
      ]
     },
     "execution_count": 27,
     "metadata": {},
     "output_type": "execute_result"
    }
   ],
   "source": [
    "316800 / 990"
   ]
  },
  {
   "cell_type": "code",
   "execution_count": 28,
   "id": "662b967c",
   "metadata": {},
   "outputs": [
    {
     "data": {
      "text/plain": [
       "31680"
      ]
     },
     "execution_count": 28,
     "metadata": {},
     "output_type": "execute_result"
    }
   ],
   "source": [
    "32 * 990"
   ]
  },
  {
   "cell_type": "code",
   "execution_count": 29,
   "id": "291789e2",
   "metadata": {},
   "outputs": [
    {
     "data": {
      "text/plain": [
       "14"
      ]
     },
     "execution_count": 29,
     "metadata": {},
     "output_type": "execute_result"
    }
   ],
   "source": [
    "9900 - 9886"
   ]
  },
  {
   "cell_type": "code",
   "execution_count": 30,
   "id": "a0e1a3d4",
   "metadata": {},
   "outputs": [
    {
     "data": {
      "text/plain": [
       "448"
      ]
     },
     "execution_count": 30,
     "metadata": {},
     "output_type": "execute_result"
    }
   ],
   "source": [
    "14*32"
   ]
  },
  {
   "cell_type": "code",
   "execution_count": null,
   "id": "5632ce98",
   "metadata": {},
   "outputs": [],
   "source": []
  }
 ],
 "metadata": {
  "kernelspec": {
   "display_name": "Python 3 (ipykernel)",
   "language": "python",
   "name": "python3"
  },
  "language_info": {
   "codemirror_mode": {
    "name": "ipython",
    "version": 3
   },
   "file_extension": ".py",
   "mimetype": "text/x-python",
   "name": "python",
   "nbconvert_exporter": "python",
   "pygments_lexer": "ipython3",
   "version": "3.9.7"
  }
 },
 "nbformat": 4,
 "nbformat_minor": 5
}
