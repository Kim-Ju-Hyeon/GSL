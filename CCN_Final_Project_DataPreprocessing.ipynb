{
 "cells": [
  {
   "cell_type": "code",
   "execution_count": 1,
   "id": "37c22912",
   "metadata": {},
   "outputs": [],
   "source": [
    "import numpy as np\n",
    "import torch\n",
    "import matplotlib.pyplot as plt\n",
    "import scipy\n",
    "from scipy import io\n",
    "import torch"
   ]
  },
  {
   "cell_type": "code",
   "execution_count": 2,
   "id": "ce5ff486",
   "metadata": {},
   "outputs": [],
   "source": [
    "data = io.loadmat('./data/CCN/monkeydata.mat')"
   ]
  },
  {
   "cell_type": "code",
   "execution_count": 4,
   "id": "45237550",
   "metadata": {},
   "outputs": [],
   "source": [
    "monkey = data['trial']"
   ]
  },
  {
   "cell_type": "code",
   "execution_count": 8,
   "id": "7c3f5ca3",
   "metadata": {},
   "outputs": [
    {
     "data": {
      "text/plain": [
       "(100, 8)"
      ]
     },
     "execution_count": 8,
     "metadata": {},
     "output_type": "execute_result"
    }
   ],
   "source": [
    "monkey.shape"
   ]
  },
  {
   "cell_type": "code",
   "execution_count": 11,
   "id": "bfcebd5d",
   "metadata": {},
   "outputs": [],
   "source": [
    "monkey_T = monkey.transpose(1,0)"
   ]
  },
  {
   "cell_type": "code",
   "execution_count": 13,
   "id": "556ab8fe",
   "metadata": {},
   "outputs": [
    {
     "data": {
      "text/plain": [
       "8"
      ]
     },
     "execution_count": 13,
     "metadata": {},
     "output_type": "execute_result"
    }
   ],
   "source": [
    "monkey_T.shape[0]"
   ]
  },
  {
   "cell_type": "code",
   "execution_count": 14,
   "id": "6ef00867",
   "metadata": {},
   "outputs": [],
   "source": [
    "target_1 = monkey_T[0]"
   ]
  },
  {
   "cell_type": "code",
   "execution_count": 23,
   "id": "de991e42",
   "metadata": {},
   "outputs": [
    {
     "data": {
      "text/plain": [
       "(array([[111]], dtype=uint8), array([[1, 0, 0, ..., 0, 0, 0],\n",
       "       [0, 0, 0, ..., 0, 0, 0],\n",
       "       [0, 0, 0, ..., 0, 0, 0],\n",
       "       ...,\n",
       "       [0, 0, 0, ..., 0, 0, 0],\n",
       "       [0, 0, 0, ..., 0, 0, 0],\n",
       "       [0, 0, 0, ..., 0, 0, 0]], dtype=uint8), array([[-13.47083333, -13.46852386, -13.46541717, ...,  75.65101817,\n",
       "         75.67271444,  75.69340087],\n",
       "       [ -8.0225    ,  -8.02420787,  -8.02519673, ...,  45.41279603,\n",
       "         45.36416882,  45.31664636],\n",
       "       [-17.89333333, -17.89299333, -17.89293732, ..., -18.11325884,\n",
       "        -18.11279044, -18.11238267]]))"
      ]
     },
     "execution_count": 23,
     "metadata": {},
     "output_type": "execute_result"
    }
   ],
   "source": [
    "target_1[0]"
   ]
  },
  {
   "cell_type": "code",
   "execution_count": 25,
   "id": "6720e9f8",
   "metadata": {},
   "outputs": [
    {
     "data": {
      "text/plain": [
       "array([[111]], dtype=uint8)"
      ]
     },
     "execution_count": 25,
     "metadata": {},
     "output_type": "execute_result"
    }
   ],
   "source": [
    "target_1[0][0]"
   ]
  },
  {
   "cell_type": "code",
   "execution_count": 27,
   "id": "1fa12a38",
   "metadata": {},
   "outputs": [
    {
     "data": {
      "text/plain": [
       "array([[1, 0, 0, ..., 0, 0, 0],\n",
       "       [0, 0, 0, ..., 0, 0, 0],\n",
       "       [0, 0, 0, ..., 0, 0, 0],\n",
       "       ...,\n",
       "       [0, 0, 0, ..., 0, 0, 0],\n",
       "       [0, 0, 0, ..., 0, 0, 0],\n",
       "       [0, 0, 0, ..., 0, 0, 0]], dtype=uint8)"
      ]
     },
     "execution_count": 27,
     "metadata": {},
     "output_type": "execute_result"
    }
   ],
   "source": [
    "target_1[0][1]"
   ]
  },
  {
   "cell_type": "code",
   "execution_count": 28,
   "id": "160a1bca",
   "metadata": {},
   "outputs": [
    {
     "data": {
      "text/plain": [
       "array([[-13.47083333, -13.46852386, -13.46541717, ...,  75.65101817,\n",
       "         75.67271444,  75.69340087],\n",
       "       [ -8.0225    ,  -8.02420787,  -8.02519673, ...,  45.41279603,\n",
       "         45.36416882,  45.31664636],\n",
       "       [-17.89333333, -17.89299333, -17.89293732, ..., -18.11325884,\n",
       "        -18.11279044, -18.11238267]])"
      ]
     },
     "execution_count": 28,
     "metadata": {},
     "output_type": "execute_result"
    }
   ],
   "source": [
    "target_1[0][2]"
   ]
  },
  {
   "cell_type": "code",
   "execution_count": 54,
   "id": "8de6c106",
   "metadata": {},
   "outputs": [],
   "source": [
    "for target in range(8):\n",
    "    temp = monkey_T[target]\n",
    "    \n",
    "    spike_list = []\n",
    "    handpos_list = []\n",
    "    \n",
    "    max_time_length = 0\n",
    "    min_time_length = np.inf\n",
    "    \n",
    "#     print(f'Traget: {target+1}')\n",
    "    for trial in range(100):\n",
    "        spike = temp[trial][1]\n",
    "        handpos = temp[trial][2]\n",
    "        \n",
    "        spike_list.append(spike)\n",
    "        handpos_list.append(handpos)\n",
    "        \n",
    "        if max_time_length < spike.shape[1]:\n",
    "            max_time_length = spike.shape[1]\n",
    "        \n",
    "        if min_time_length > spike.shape[1]:\n",
    "            min_time_length = spike.shape[1]\n",
    "#         print(f'movement time length: {spike.shape}')"
   ]
  },
  {
   "cell_type": "code",
   "execution_count": 55,
   "id": "cf059989",
   "metadata": {},
   "outputs": [
    {
     "data": {
      "text/plain": [
       "742"
      ]
     },
     "execution_count": 55,
     "metadata": {},
     "output_type": "execute_result"
    }
   ],
   "source": [
    "max_time_length"
   ]
  },
  {
   "cell_type": "code",
   "execution_count": 56,
   "id": "a09f0f43",
   "metadata": {},
   "outputs": [
    {
     "data": {
      "text/plain": [
       "574"
      ]
     },
     "execution_count": 56,
     "metadata": {},
     "output_type": "execute_result"
    }
   ],
   "source": [
    "min_time_length"
   ]
  },
  {
   "cell_type": "code",
   "execution_count": 73,
   "id": "69d01be0",
   "metadata": {},
   "outputs": [],
   "source": [
    "for target in range(8):\n",
    "    temp = monkey_T[target]\n",
    "\n",
    "    for trial in range(100):\n",
    "        spike = temp[trial][1]\n",
    "        handpos = temp[trial][2]\n",
    "        \n",
    "        if max_time_length > spike.shape[1]:\n",
    "            pad_length =  max_time_length - spike.shape[1]\n",
    "            pad_spike = spike[:,:pad_length]\n",
    "            pad_handpos = handpos[:,:pad_length]\n",
    "            \n",
    "            padded_spike = np.concatenate((pad_spike, spike), axis=1)\n",
    "            padded_handpos = np.concatenate((pad_handpos, handpos), axis=1)\n",
    "            \n",
    "        monkey_T[target][trial][1] = padded_spike\n",
    "        monkey_T[target][trial][2] = padded_handpos"
   ]
  },
  {
   "cell_type": "code",
   "execution_count": 84,
   "id": "ce8c334a",
   "metadata": {},
   "outputs": [
    {
     "data": {
      "image/png": "[encoded data removed]",
      "text/plain": [
       "<Figure size 2160x720 with 10 Axes>"
      ]
     },
     "metadata": {
      "needs_background": "light"
     },
     "output_type": "display_data"
    }
   ],
   "source": [
    "f,ax = plt.subplots(nrows=2, ncols=5, figsize=(30,10))\n",
    "\n",
    "row = 0\n",
    "for target in range(1):\n",
    "    for trial in range(2):\n",
    "        for neurons in range(2):\n",
    "            ax[row, neurons].plot(monkey_T[target][trial][1][neurons])\n",
    "        ax[row, 2].plot(monkey_T[target][trial][2][0])\n",
    "        ax[row, 3].plot(monkey_T[target][trial][2][1])\n",
    "        ax[row, 4].plot(monkey_T[target][trial][2][2])\n",
    "        \n",
    "        row+=1"
   ]
  },
  {
   "cell_type": "code",
   "execution_count": 105,
   "id": "8572d5f1",
   "metadata": {},
   "outputs": [],
   "source": [
    "total_spike = []\n",
    "total_handpos = []\n",
    "\n",
    "\n",
    "for target in range(8):\n",
    "    temp = monkey_T[target]\n",
    "    \n",
    "    spike_list = []\n",
    "    handpos_list = []\n",
    "    \n",
    "    for trial in range(100):\n",
    "        spike = temp[trial][1]\n",
    "        handpos = temp[trial][2]\n",
    "        \n",
    "        spike_list.append(spike)\n",
    "        handpos_list.append(handpos)\n",
    "    \n",
    "    total_spike.append(np.stack(spike_list))\n",
    "    total_handpos.append(np.stack(handpos_list))\n",
    "\n",
    "total_spike = np.stack(total_spike)\n",
    "total_handpos = np.stack(total_handpos)"
   ]
  },
  {
   "cell_type": "code",
   "execution_count": 114,
   "id": "0abe0edb",
   "metadata": {},
   "outputs": [
    {
     "data": {
      "text/plain": [
       "(8, 100, 98, 742)"
      ]
     },
     "execution_count": 114,
     "metadata": {},
     "output_type": "execute_result"
    }
   ],
   "source": [
    "total_spike.shape"
   ]
  },
  {
   "cell_type": "code",
   "execution_count": 112,
   "id": "49d4b49c",
   "metadata": {},
   "outputs": [
    {
     "data": {
      "text/plain": [
       "(8, 100, 3, 742)"
      ]
     },
     "execution_count": 112,
     "metadata": {},
     "output_type": "execute_result"
    }
   ],
   "source": [
    "total_handpos.shape"
   ]
  },
  {
   "cell_type": "code",
   "execution_count": 108,
   "id": "fa2a6998",
   "metadata": {},
   "outputs": [],
   "source": [
    "dataset = np.concatenate((total_spike, total_handpos), axis=2)"
   ]
  },
  {
   "cell_type": "code",
   "execution_count": 113,
   "id": "14c357e9",
   "metadata": {},
   "outputs": [
    {
     "data": {
      "text/plain": [
       "(8, 100, 101, 742)"
      ]
     },
     "execution_count": 113,
     "metadata": {},
     "output_type": "execute_result"
    }
   ],
   "source": [
    "dataset.shape"
   ]
  },
  {
   "cell_type": "code",
   "execution_count": 95,
   "id": "faf0fa5f",
   "metadata": {},
   "outputs": [],
   "source": [
    "dataset = torch.Tensor(dataset)"
   ]
  },
  {
   "cell_type": "code",
   "execution_count": 109,
   "id": "6915d57c",
   "metadata": {},
   "outputs": [],
   "source": [
    "torch.save(dataset, './data/CCN/monkeydata_np.pt')"
   ]
  },
  {
   "cell_type": "code",
   "execution_count": 110,
   "id": "b6136627",
   "metadata": {},
   "outputs": [],
   "source": [
    "pickle.dump(dataset, open('./data/CCN/monkeydata_np.pickle', 'wb'))"
   ]
  },
  {
   "cell_type": "code",
   "execution_count": 103,
   "id": "35924b4a",
   "metadata": {},
   "outputs": [],
   "source": [
    "import pickle"
   ]
  },
  {
   "cell_type": "code",
   "execution_count": 115,
   "id": "950c1e59",
   "metadata": {},
   "outputs": [],
   "source": [
    "pickle.dump(total_spike, open('./data/CCN/monkey_spike.pickle', 'wb'))"
   ]
  },
  {
   "cell_type": "code",
   "execution_count": null,
   "id": "0ddb2938",
   "metadata": {},
   "outputs": [],
   "source": []
  }
 ],
 "metadata": {
  "kernelspec": {
   "display_name": "Python 3 (ipykernel)",
   "language": "python",
   "name": "python3"
  },
  "language_info": {
   "codemirror_mode": {
    "name": "ipython",
    "version": 3
   },
   "file_extension": ".py",
   "mimetype": "text/x-python",
   "name": "python",
   "nbconvert_exporter": "python",
   "pygments_lexer": "ipython3",
   "version": "3.9.7"
  }
 },
 "nbformat": 4,
 "nbformat_minor": 5
}
