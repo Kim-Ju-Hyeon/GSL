{
 "cells": [
  {
   "cell_type": "code",
   "execution_count": 1,
   "id": "3b778130",
   "metadata": {},
   "outputs": [],
   "source": [
    "import sys\n",
    "\n",
    "sys.path.append('../GraphStructureLearning')"
   ]
  },
  {
   "cell_type": "code",
   "execution_count": 2,
   "id": "c39734a1",
   "metadata": {},
   "outputs": [],
   "source": [
    "import torch\n",
    "import torch.nn as nn\n",
    "from torch.nn import functional as F\n",
    "import numpy as np\n",
    "import pickle\n",
    "\n",
    "from torch_geometric.data import Data as gData\n",
    "from torch_geometric.utils import to_networkx, to_undirected\n",
    "from torch_geometric.nn import MessagePassing\n",
    "\n",
    "import networkx as nx\n",
    "import matplotlib.pyplot as plt\n",
    "\n",
    "from torch_geometric_temporal.nn.recurrent import DCRNN"
   ]
  },
  {
   "cell_type": "markdown",
   "id": "9d9d16e7",
   "metadata": {},
   "source": [
    "# GTS"
   ]
  },
  {
   "cell_type": "code",
   "execution_count": 33,
   "id": "62da2877",
   "metadata": {},
   "outputs": [],
   "source": [
    "from models.GTS.gts_graph_learning import GTS_Graph_Learning\n",
    "from models.GTS.gts_forecasting_module import GTS_Forecasting_Module\n",
    "from models.GTS.DCRNN import DCRNN\n",
    "from utils.utils import build_fully_connected_edge_idx, build_batch_edge_index\n",
    "\n",
    "from glob import glob\n",
    "import yaml\n",
    "from easydict import EasyDict as edict"
   ]
  },
  {
   "cell_type": "code",
   "execution_count": 4,
   "id": "1a1aac1a",
   "metadata": {},
   "outputs": [],
   "source": [
    "config_file = glob('./config/GTS/*.yaml')[0]\n",
    "config = edict(yaml.load(open(config_file, 'r'), Loader=yaml.FullLoader))"
   ]
  },
  {
   "cell_type": "code",
   "execution_count": 5,
   "id": "e6afd2a2",
   "metadata": {},
   "outputs": [
    {
     "data": {
      "text/plain": [
       "{'exp_name': 1,\n",
       " 'exp_dir': './exp',\n",
       " 'use_gpu': False,\n",
       " 'device': 'cpu',\n",
       " 'seed': 1010,\n",
       " 'model_name': 'GTS',\n",
       " 'graph_learning_module': 'GTS',\n",
       " 'graph_forecasting_module': 'GTS',\n",
       " 'initial_edge_index': 'Fully Connected',\n",
       " 'dataset': {'root': './data/spike_lambda_bin100',\n",
       "  'name': 'spike_lambda_bin100',\n",
       "  'total_time_length': 4800,\n",
       "  'idx_ratio': 0.5,\n",
       "  'window_size': 20,\n",
       "  'slide': 5,\n",
       "  'pred_step': 5,\n",
       "  'train_valid_test': [4000, 4400, 4800],\n",
       "  'save': './data/spike_lambda_bin100/'},\n",
       " 'train': {'optimizer': 'Adam',\n",
       "  'epoch': 2,\n",
       "  'loss_function': 'MSELoss',\n",
       "  'lr': 0.001,\n",
       "  'momentum': 0.9,\n",
       "  'wd': 0.0,\n",
       "  'batch_size': 1,\n",
       "  'lr_decay': 0.1,\n",
       "  'lr_decay_steps': [10000]},\n",
       " 'nodes_num': 100,\n",
       " 'node_features': 1,\n",
       " 'hidden_dim': 16,\n",
       " 'embedding_dim': 16,\n",
       " 'graph_learning': {'mode': 'weight',\n",
       "  'to_symmetric': True,\n",
       "  'kernel_size': [200, 80, 10],\n",
       "  'stride': [20, 10, 5],\n",
       "  'conv1_dim': 4,\n",
       "  'conv2_dim': 4,\n",
       "  'conv3_dim': 4},\n",
       " 'forecasting_module': {'diffusion_k': 1,\n",
       "  'num_layer': 1,\n",
       "  'use_teacher_forcing': True,\n",
       "  'teacher_forcing_ratio': 0.5,\n",
       "  'embedding': {'kernel_size': [3, 3],\n",
       "   'stride': [1, 1],\n",
       "   'conv1_dim': 2,\n",
       "   'conv2_dim': 2}},\n",
       " 'encoder_step': 2,\n",
       " 'decoder_step': 2,\n",
       " 'tau': 0.3}"
      ]
     },
     "execution_count": 5,
     "metadata": {},
     "output_type": "execute_result"
    }
   ],
   "source": [
    "config"
   ]
  },
  {
   "cell_type": "code",
   "execution_count": 6,
   "id": "6f762d4f",
   "metadata": {},
   "outputs": [],
   "source": [
    "# node_feas = torch.rand(config.nodes_num, config.node_features, 1000)\n",
    "# edge_index = build_fully_connected_edge_idx(num_nodes=config.nodes_num)"
   ]
  },
  {
   "cell_type": "code",
   "execution_count": 7,
   "id": "3edda6d7",
   "metadata": {},
   "outputs": [],
   "source": [
    "spike = pickle.load(open('./data/spk_bin_n100.pickle', 'rb'))\n",
    "\n",
    "spike = torch.FloatTensor(spike[:,:4800])"
   ]
  },
  {
   "cell_type": "code",
   "execution_count": 8,
   "id": "0974c59c",
   "metadata": {},
   "outputs": [],
   "source": [
    "config.nodes_num = 100"
   ]
  },
  {
   "cell_type": "code",
   "execution_count": 9,
   "id": "5a2dfd85",
   "metadata": {},
   "outputs": [],
   "source": [
    "edge_index = build_fully_connected_edge_idx(num_nodes=config.nodes_num)"
   ]
  },
  {
   "cell_type": "code",
   "execution_count": 10,
   "id": "b0ac465d",
   "metadata": {},
   "outputs": [
    {
     "data": {
      "text/plain": [
       "torch.Size([2, 9900])"
      ]
     },
     "execution_count": 10,
     "metadata": {},
     "output_type": "execute_result"
    }
   ],
   "source": [
    "edge_index.shape"
   ]
  },
  {
   "cell_type": "code",
   "execution_count": 11,
   "id": "fe826c54",
   "metadata": {},
   "outputs": [
    {
     "data": {
      "text/plain": [
       "torch.Size([100, 4800])"
      ]
     },
     "execution_count": 11,
     "metadata": {},
     "output_type": "execute_result"
    }
   ],
   "source": [
    "spike.shape"
   ]
  },
  {
   "cell_type": "code",
   "execution_count": 12,
   "id": "2af1d4d2",
   "metadata": {},
   "outputs": [],
   "source": [
    "gl = GTS_Graph_Learning(config)"
   ]
  },
  {
   "cell_type": "code",
   "execution_count": 13,
   "id": "8c61bb40",
   "metadata": {},
   "outputs": [
    {
     "data": {
      "text/plain": [
       "GTS_Graph_Learning(\n",
       "  (conv1): Conv1d(1, 4, kernel_size=(200,), stride=(20,))\n",
       "  (conv2): Conv1d(4, 4, kernel_size=(80,), stride=(10,))\n",
       "  (conv3): Conv1d(4, 4, kernel_size=(10,), stride=(5,))\n",
       "  (fc_conv): Conv1d(4, 1, kernel_size=(1,), stride=(1,))\n",
       "  (fc): Linear(in_features=2, out_features=16, bias=True)\n",
       "  (hidden_drop): Dropout(p=0.2, inplace=False)\n",
       "  (bn1): BatchNorm1d(4, eps=1e-05, momentum=0.1, affine=True, track_running_stats=True)\n",
       "  (bn2): BatchNorm1d(4, eps=1e-05, momentum=0.1, affine=True, track_running_stats=True)\n",
       "  (bn3): BatchNorm1d(4, eps=1e-05, momentum=0.1, affine=True, track_running_stats=True)\n",
       "  (fc_cat): Linear(in_features=32, out_features=16, bias=True)\n",
       "  (fc_out): Linear(in_features=16, out_features=1, bias=True)\n",
       ")"
      ]
     },
     "execution_count": 13,
     "metadata": {},
     "output_type": "execute_result"
    }
   ],
   "source": [
    "gl"
   ]
  },
  {
   "cell_type": "code",
   "execution_count": 14,
   "id": "7146fad1",
   "metadata": {},
   "outputs": [],
   "source": [
    "adj = gl(spike, edge_index)"
   ]
  },
  {
   "cell_type": "code",
   "execution_count": 15,
   "id": "8aef8d9e",
   "metadata": {},
   "outputs": [
    {
     "data": {
      "text/plain": [
       "torch.Size([9900, 1])"
      ]
     },
     "execution_count": 15,
     "metadata": {},
     "output_type": "execute_result"
    }
   ],
   "source": [
    "adj.shape"
   ]
  },
  {
   "cell_type": "code",
   "execution_count": 16,
   "id": "08bbaa8f",
   "metadata": {},
   "outputs": [],
   "source": [
    "adj = adj.T"
   ]
  },
  {
   "cell_type": "code",
   "execution_count": 17,
   "id": "22a3a840",
   "metadata": {},
   "outputs": [
    {
     "data": {
      "text/plain": [
       "torch.Size([1, 9900])"
      ]
     },
     "execution_count": 17,
     "metadata": {},
     "output_type": "execute_result"
    }
   ],
   "source": [
    "adj.shape"
   ]
  },
  {
   "cell_type": "code",
   "execution_count": null,
   "id": "40b04bf5",
   "metadata": {},
   "outputs": [],
   "source": [
    "z_1 = F.gumbel_softmax(adj, hard=True)\n",
    "z_1"
   ]
  },
  {
   "cell_type": "code",
   "execution_count": null,
   "id": "386a6684",
   "metadata": {},
   "outputs": [],
   "source": [
    "z_1.shape"
   ]
  },
  {
   "cell_type": "code",
   "execution_count": null,
   "id": "c4e207c8",
   "metadata": {},
   "outputs": [],
   "source": [
    "z_1[:,0].shape"
   ]
  },
  {
   "cell_type": "code",
   "execution_count": null,
   "id": "0d9652bf",
   "metadata": {},
   "outputs": [],
   "source": [
    "edge_index.shape"
   ]
  },
  {
   "cell_type": "code",
   "execution_count": null,
   "id": "6ea81d05",
   "metadata": {},
   "outputs": [],
   "source": [
    "z_adj = torch.where(z_1[:,0])"
   ]
  },
  {
   "cell_type": "code",
   "execution_count": null,
   "id": "c7f53eb9",
   "metadata": {},
   "outputs": [],
   "source": [
    "z_adj"
   ]
  },
  {
   "cell_type": "code",
   "execution_count": null,
   "id": "d1a0a8f8",
   "metadata": {},
   "outputs": [],
   "source": [
    "b= edge_index[0,:][z_adj]"
   ]
  },
  {
   "cell_type": "code",
   "execution_count": null,
   "id": "d4a15c21",
   "metadata": {},
   "outputs": [],
   "source": [
    "c = edge_index[1,:][z_adj]"
   ]
  },
  {
   "cell_type": "code",
   "execution_count": null,
   "id": "d19c4496",
   "metadata": {},
   "outputs": [],
   "source": [
    "a = torch.stack([b,c])"
   ]
  },
  {
   "cell_type": "code",
   "execution_count": null,
   "id": "b6a72d98",
   "metadata": {},
   "outputs": [],
   "source": [
    "a"
   ]
  },
  {
   "cell_type": "code",
   "execution_count": 25,
   "id": "8fd36651",
   "metadata": {},
   "outputs": [],
   "source": [
    "from torch_geometric.utils import *"
   ]
  },
  {
   "cell_type": "code",
   "execution_count": null,
   "id": "0b75546c",
   "metadata": {},
   "outputs": [],
   "source": [
    "is_undirected(a)"
   ]
  },
  {
   "cell_type": "code",
   "execution_count": null,
   "id": "e655e0cd",
   "metadata": {},
   "outputs": [],
   "source": [
    "to_undirected(a)"
   ]
  },
  {
   "cell_type": "code",
   "execution_count": 18,
   "id": "37d061be",
   "metadata": {},
   "outputs": [],
   "source": [
    "from torch_geometric.data import Data, Batch, Dataset, InMemoryDataset\n",
    "from torch_geometric.loader import DataLoader"
   ]
  },
  {
   "cell_type": "code",
   "execution_count": 20,
   "id": "0aa1e545",
   "metadata": {},
   "outputs": [],
   "source": [
    "d = Data(x=spike, edge_index=edge_index, edge_attr=adj)"
   ]
  },
  {
   "cell_type": "code",
   "execution_count": null,
   "id": "e54779fe",
   "metadata": {},
   "outputs": [],
   "source": [
    "from torch_scatter import scatter\n",
    "\n",
    "\n",
    "def to_dense_adj(edge_index, batch=None, edge_attr=None, max_num_nodes=None):\n",
    "    r\"\"\"Converts batched sparse adjacency matrices given by edge indices and\n",
    "    edge attributes to a single dense batched adjacency matrix.\n",
    "    Args:\n",
    "        edge_index (LongTensor): The edge indices.\n",
    "        batch (LongTensor, optional): Batch vector\n",
    "            :math:`\\mathbf{b} \\in {\\{ 0, \\ldots, B-1\\}}^N`, which assigns each\n",
    "            node to a specific example. (default: :obj:`None`)\n",
    "        edge_attr (Tensor, optional): Edge weights or multi-dimensional edge\n",
    "            features. (default: :obj:`None`)\n",
    "        max_num_nodes (int, optional): The size of the output node dimension.\n",
    "            (default: :obj:`None`)\n",
    "    :rtype: :class:`Tensor`\n",
    "    \"\"\"\n",
    "    if batch is None:\n",
    "        batch = edge_index.new_zeros(edge_index.max().item() + 1)\n",
    "\n",
    "    batch_size = batch.max().item() + 1\n",
    "    one = batch.new_ones(batch.size(0))\n",
    "    num_nodes = scatter(one, batch, dim=0, dim_size=batch_size, reduce='add')\n",
    "    cum_nodes = torch.cat([batch.new_zeros(1), num_nodes.cumsum(dim=0)])\n",
    "\n",
    "    idx0 = batch[edge_index[0]]\n",
    "    idx1 = edge_index[0] - cum_nodes[batch][edge_index[0]]\n",
    "    idx2 = edge_index[1] - cum_nodes[batch][edge_index[1]]\n",
    "\n",
    "    if max_num_nodes is None:\n",
    "        max_num_nodes = num_nodes.max().item()\n",
    "\n",
    "    elif idx1.max() >= max_num_nodes or idx2.max() >= max_num_nodes:\n",
    "        mask = (idx1 < max_num_nodes) & (idx2 < max_num_nodes)\n",
    "        idx0 = idx0[mask]\n",
    "        idx1 = idx1[mask]\n",
    "        idx2 = idx2[mask]\n",
    "        edge_attr = None if edge_attr is None else edge_attr[mask]\n",
    "\n",
    "    if edge_attr is None:\n",
    "        edge_attr = torch.ones(idx0.numel(), device=edge_index.device)\n",
    "\n",
    "    size = [batch_size, max_num_nodes, max_num_nodes]\n",
    "    size += list(edge_attr.size())[1:]\n",
    "    adj = torch.zeros(size, dtype=edge_attr.dtype, device=edge_index.device)\n",
    "\n",
    "    flattened_size = batch_size * max_num_nodes * max_num_nodes\n",
    "    adj = adj.view([flattened_size] + list(adj.size())[3:])\n",
    "    idx = idx0 * max_num_nodes * max_num_nodes + idx1 * max_num_nodes + idx2\n",
    "    scatter(edge_attr, idx, dim=0, out=adj, reduce='add')\n",
    "    adj = adj.view(size)\n",
    "\n",
    "    return adj"
   ]
  },
  {
   "cell_type": "code",
   "execution_count": 30,
   "id": "806fcf8b",
   "metadata": {},
   "outputs": [],
   "source": [
    "mat = to_dense_adj(edge_index, edge_attr=adj.T).squeeze()"
   ]
  },
  {
   "cell_type": "code",
   "execution_count": 31,
   "id": "4839efb1",
   "metadata": {},
   "outputs": [
    {
     "data": {
      "text/plain": [
       "torch.Size([100, 100])"
      ]
     },
     "execution_count": 31,
     "metadata": {},
     "output_type": "execute_result"
    }
   ],
   "source": [
    "mat.shape"
   ]
  },
  {
   "cell_type": "code",
   "execution_count": 32,
   "id": "bbae30a2",
   "metadata": {},
   "outputs": [
    {
     "data": {
      "text/plain": [
       "tensor([[0.0000, 0.6418, 0.8678,  ..., 0.8678, 0.8216, 0.8684],\n",
       "        [0.7638, 0.0000, 0.9558,  ..., 0.9558, 0.9096, 0.9577],\n",
       "        [0.4511, 0.4381, 0.0000,  ..., 0.5837, 0.5531, 0.5421],\n",
       "        ...,\n",
       "        [0.4511, 0.4381, 0.5837,  ..., 0.0000, 0.5531, 0.5421],\n",
       "        [0.5148, 0.4944, 0.6722,  ..., 0.6722, 0.0000, 0.6306],\n",
       "        [0.3747, 0.3681, 0.5120,  ..., 0.5120, 0.4828, 0.0000]],\n",
       "       grad_fn=<SqueezeBackward0>)"
      ]
     },
     "execution_count": 32,
     "metadata": {},
     "output_type": "execute_result"
    }
   ],
   "source": [
    "mat"
   ]
  },
  {
   "cell_type": "code",
   "execution_count": 66,
   "id": "5ea343d7",
   "metadata": {},
   "outputs": [
    {
     "data": {
      "text/plain": [
       "torch.Size([9900, 1])"
      ]
     },
     "execution_count": 66,
     "metadata": {},
     "output_type": "execute_result"
    }
   ],
   "source": [
    "adj.shape"
   ]
  },
  {
   "cell_type": "code",
   "execution_count": 34,
   "id": "6bea3543",
   "metadata": {},
   "outputs": [],
   "source": [
    "new_edge = build_batch_edge_index(edge_index, 3)"
   ]
  },
  {
   "cell_type": "code",
   "execution_count": 35,
   "id": "579fa859",
   "metadata": {},
   "outputs": [
    {
     "data": {
      "text/plain": [
       "tensor([[  0,   0,   0,  ..., 299, 299, 299],\n",
       "        [  1,   2,   3,  ..., 296, 297, 298]])"
      ]
     },
     "execution_count": 35,
     "metadata": {},
     "output_type": "execute_result"
    }
   ],
   "source": [
    "new_edge"
   ]
  },
  {
   "cell_type": "code",
   "execution_count": 36,
   "id": "7a1c0cad",
   "metadata": {},
   "outputs": [
    {
     "data": {
      "text/plain": [
       "torch.Size([2, 29700])"
      ]
     },
     "execution_count": 36,
     "metadata": {},
     "output_type": "execute_result"
    }
   ],
   "source": [
    "new_edge.shape"
   ]
  },
  {
   "cell_type": "code",
   "execution_count": 37,
   "id": "c09bc5c6",
   "metadata": {},
   "outputs": [
    {
     "data": {
      "text/plain": [
       "29700"
      ]
     },
     "execution_count": 37,
     "metadata": {},
     "output_type": "execute_result"
    }
   ],
   "source": [
    "9900*3"
   ]
  },
  {
   "cell_type": "code",
   "execution_count": 40,
   "id": "40f79dc9",
   "metadata": {},
   "outputs": [
    {
     "data": {
      "text/plain": [
       "torch.Size([9900, 1])"
      ]
     },
     "execution_count": 40,
     "metadata": {},
     "output_type": "execute_result"
    }
   ],
   "source": [
    "adj.shape"
   ]
  },
  {
   "cell_type": "code",
   "execution_count": 48,
   "id": "a4656a95",
   "metadata": {},
   "outputs": [
    {
     "data": {
      "text/plain": [
       "[tensor([[0.6418],\n",
       "         [0.8678],\n",
       "         [0.8678],\n",
       "         ...,\n",
       "         [0.4806],\n",
       "         [0.5120],\n",
       "         [0.4828]], grad_fn=<PermuteBackward0>),\n",
       " tensor([[0.6418],\n",
       "         [0.8678],\n",
       "         [0.8678],\n",
       "         ...,\n",
       "         [0.4806],\n",
       "         [0.5120],\n",
       "         [0.4828]], grad_fn=<PermuteBackward0>),\n",
       " tensor([[0.6418],\n",
       "         [0.8678],\n",
       "         [0.8678],\n",
       "         ...,\n",
       "         [0.4806],\n",
       "         [0.5120],\n",
       "         [0.4828]], grad_fn=<PermuteBackward0>)]"
      ]
     },
     "execution_count": 48,
     "metadata": {},
     "output_type": "execute_result"
    }
   ],
   "source": [
    "[adj,adj,adj]"
   ]
  },
  {
   "cell_type": "code",
   "execution_count": 54,
   "id": "0d0e7042",
   "metadata": {},
   "outputs": [],
   "source": [
    "a = torch.stack([adj,adj,adj], dim=0).view(-1,1)"
   ]
  },
  {
   "cell_type": "code",
   "execution_count": 55,
   "id": "56c8296d",
   "metadata": {},
   "outputs": [
    {
     "data": {
      "text/plain": [
       "tensor([[0.6418],\n",
       "        [0.8678],\n",
       "        [0.8678],\n",
       "        ...,\n",
       "        [0.4806],\n",
       "        [0.5120],\n",
       "        [0.4828]], grad_fn=<SliceBackward0>)"
      ]
     },
     "execution_count": 55,
     "metadata": {},
     "output_type": "execute_result"
    }
   ],
   "source": [
    "a[:9900]"
   ]
  },
  {
   "cell_type": "code",
   "execution_count": 57,
   "id": "2ac08df5",
   "metadata": {},
   "outputs": [
    {
     "data": {
      "text/plain": [
       "tensor([0.6418], grad_fn=<SelectBackward0>)"
      ]
     },
     "execution_count": 57,
     "metadata": {},
     "output_type": "execute_result"
    }
   ],
   "source": [
    "a[9900]"
   ]
  },
  {
   "cell_type": "code",
   "execution_count": 59,
   "id": "e1716fe9",
   "metadata": {},
   "outputs": [
    {
     "data": {
      "text/plain": [
       "tensor([[1.2836],\n",
       "        [1.7356],\n",
       "        [1.7356],\n",
       "        ...,\n",
       "        [0.9613],\n",
       "        [1.0239],\n",
       "        [0.9657]], grad_fn=<AddBackward0>)"
      ]
     },
     "execution_count": 59,
     "metadata": {},
     "output_type": "execute_result"
    }
   ],
   "source": [
    "adj + adj"
   ]
  },
  {
   "cell_type": "code",
   "execution_count": 64,
   "id": "9f9e710c",
   "metadata": {},
   "outputs": [],
   "source": [
    "out_list = []\n",
    "for _ in range(1):\n",
    "    out_list.append(adj)\n",
    "output = torch.stack(out_list).view(-1,1)"
   ]
  },
  {
   "cell_type": "code",
   "execution_count": 65,
   "id": "59e535ed",
   "metadata": {},
   "outputs": [
    {
     "data": {
      "text/plain": [
       "torch.Size([9900, 1])"
      ]
     },
     "execution_count": 65,
     "metadata": {},
     "output_type": "execute_result"
    }
   ],
   "source": [
    "output.shape"
   ]
  },
  {
   "cell_type": "code",
   "execution_count": 105,
   "id": "2c08c555",
   "metadata": {},
   "outputs": [],
   "source": [
    "temp = add_self_loops(edge_index, adj, 1)"
   ]
  },
  {
   "cell_type": "code",
   "execution_count": 106,
   "id": "91f0d839",
   "metadata": {},
   "outputs": [
    {
     "data": {
      "text/plain": [
       "torch.Size([2, 10000])"
      ]
     },
     "execution_count": 106,
     "metadata": {},
     "output_type": "execute_result"
    }
   ],
   "source": [
    "temp[0].shape"
   ]
  },
  {
   "cell_type": "code",
   "execution_count": 107,
   "id": "290d354c",
   "metadata": {},
   "outputs": [
    {
     "data": {
      "text/plain": [
       "tensor([[1.0000, 0.6418, 0.8678,  ..., 0.8678, 0.8216, 0.8684],\n",
       "        [0.7638, 1.0000, 0.9558,  ..., 0.9558, 0.9096, 0.9577],\n",
       "        [0.4511, 0.4381, 1.0000,  ..., 0.5837, 0.5531, 0.5421],\n",
       "        ...,\n",
       "        [0.4511, 0.4381, 0.5837,  ..., 1.0000, 0.5531, 0.5421],\n",
       "        [0.5148, 0.4944, 0.6722,  ..., 0.6722, 1.0000, 0.6306],\n",
       "        [0.3747, 0.3681, 0.5120,  ..., 0.5120, 0.4828, 1.0000]],\n",
       "       grad_fn=<SqueezeBackward0>)"
      ]
     },
     "execution_count": 107,
     "metadata": {},
     "output_type": "execute_result"
    }
   ],
   "source": [
    "to_dense_adj(temp[0], edge_attr=temp[1]).squeeze()"
   ]
  },
  {
   "cell_type": "code",
   "execution_count": null,
   "id": "4ed2fd77",
   "metadata": {},
   "outputs": [],
   "source": []
  }
 ],
 "metadata": {
  "kernelspec": {
   "display_name": "Python 3 (ipykernel)",
   "language": "python",
   "name": "python3"
  },
  "language_info": {
   "codemirror_mode": {
    "name": "ipython",
    "version": 3
   },
   "file_extension": ".py",
   "mimetype": "text/x-python",
   "name": "python",
   "nbconvert_exporter": "python",
   "pygments_lexer": "ipython3",
   "version": "3.9.7"
  }
 },
 "nbformat": 4,
 "nbformat_minor": 5
}
