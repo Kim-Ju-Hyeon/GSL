{
 "cells": [
  {
   "cell_type": "code",
   "execution_count": 1,
   "id": "c39734a1",
   "metadata": {},
   "outputs": [],
   "source": [
    "import torch\n",
    "import torch.nn as nn\n",
    "from torch.nn import functional as F\n",
    "import numpy as np\n",
    "import mat73\n",
    "\n",
    "from torch_geometric.data import Data as gData\n",
    "from torch_geometric.utils import to_networkx, to_undirected\n",
    "from torch_geometric.nn import MessagePassing\n",
    "\n",
    "import networkx as nx\n",
    "import matplotlib.pyplot as plt\n",
    "\n",
    "from torch_geometric_temporal.nn.recurrent import DCRNN"
   ]
  },
  {
   "cell_type": "code",
   "execution_count": 2,
   "id": "53c46752",
   "metadata": {},
   "outputs": [],
   "source": [
    "folder='./data/'\n",
    "data = mat73.loadmat(folder+'LNP_spk_all.mat')"
   ]
  },
  {
   "cell_type": "code",
   "execution_count": 4,
   "id": "3c2c5fba",
   "metadata": {},
   "outputs": [
    {
     "data": {
      "text/plain": [
       "dict_keys(['spikes'])"
      ]
     },
     "execution_count": 4,
     "metadata": {},
     "output_type": "execute_result"
    }
   ],
   "source": [
    "data.keys()"
   ]
  },
  {
   "cell_type": "code",
   "execution_count": 6,
   "id": "421b2281",
   "metadata": {},
   "outputs": [
    {
     "data": {
      "text/plain": [
       "(4800000, 100)"
      ]
     },
     "execution_count": 6,
     "metadata": {},
     "output_type": "execute_result"
    }
   ],
   "source": [
    "data['spikes'].shape"
   ]
  },
  {
   "cell_type": "code",
   "execution_count": 11,
   "id": "c923fe4d",
   "metadata": {},
   "outputs": [],
   "source": [
    "def build_edge_idx(num_nodes):\n",
    "    # Initialize edge index matrix\n",
    "    E = torch.zeros((2, num_nodes * (num_nodes - 1)), dtype=torch.long)\n",
    "    \n",
    "    # Populate 1st row\n",
    "    for node in range(num_nodes):\n",
    "        for neighbor in range(num_nodes - 1):\n",
    "            E[0, node * (num_nodes - 1) + neighbor] = node\n",
    "\n",
    "    # Populate 2nd row\n",
    "    neighbors = []\n",
    "    for node in range(num_nodes):\n",
    "        neighbors.append(list(np.arange(node)) + list(np.arange(node+1, num_nodes)))\n",
    "    E[1, :] = torch.Tensor([item for sublist in neighbors for item in sublist])\n",
    "    \n",
    "    return E"
   ]
  },
  {
   "cell_type": "code",
   "execution_count": 19,
   "id": "1966af28",
   "metadata": {},
   "outputs": [],
   "source": [
    "class graph_learning(MessagePassing):\n",
    "    def __init__(self, nodes_num, embedding_dim):\n",
    "        super(graph_learning, self).__init__(aggr=None) \n",
    "        \n",
    "        self.embedding_dim = embedding_dim\n",
    "        self.num_nodes = nodes_num\n",
    "        \n",
    "        self.conv1 = torch.nn.Conv1d(1, 8, 10, stride=1)  # .to(device)\n",
    "        self.conv2 = torch.nn.Conv1d(8, 16, 10, stride=1)  # .to(device)\n",
    "        self.hidden_drop = torch.nn.Dropout(0.2)\n",
    "        self.fc = torch.nn.Linear(79712, self.embedding_dim)\n",
    "        self.bn1 = torch.nn.BatchNorm1d(8)\n",
    "        self.bn2 = torch.nn.BatchNorm1d(16)\n",
    "        self.bn3 = torch.nn.BatchNorm1d(self.embedding_dim)\n",
    "        self.fc_out = nn.Linear(self.embedding_dim * 2, self.embedding_dim)\n",
    "        self.fc_cat = nn.Linear(self.embedding_dim, 2)\n",
    "#         self.fc_out = torch.nn.Linear(4, 4)\n",
    "#         self.fc_cat = torch.nn.Linear(4, 2)\n",
    "        self.init_weights()\n",
    "\n",
    "    def init_weights(self):\n",
    "        for m in self.modules():\n",
    "            if isinstance(m, nn.Linear):\n",
    "                nn.init.xavier_normal_(m.weight.data)\n",
    "                m.bias.data.fill_(0.1)\n",
    "\n",
    "    def forward(self, x, edge_index):\n",
    "        batch_size = x.shape[0]\n",
    "        \n",
    "        print(x.shape)\n",
    "        x = x.transpose(1, 0).reshape(self.num_nodes, 1, -1)\n",
    "        print(x.shape)\n",
    "        x = self.conv1(x)\n",
    "        print(x.shape)\n",
    "        x = F.relu(x)\n",
    "        x = self.bn1(x)\n",
    "        x = self.conv2(x)\n",
    "        x = F.relu(x)\n",
    "        x = self.bn2(x)\n",
    "        x = x.view(self.num_nodes, -1)\n",
    "        x = self.fc(x)\n",
    "        x = F.relu(x)\n",
    "        x = self.bn3(x)\n",
    "        \n",
    "        print(f\"before message passing:{x.shape}\")\n",
    "        \n",
    "        x = self.propagate(edge_index,x=x)\n",
    "        \n",
    "        return x\n",
    "\n",
    "    def message(self, x_i, x_j):\n",
    "        print(f'x_i: {x_i.shape}')\n",
    "        print(f'x_j: {x_j.shape}')\n",
    "        \n",
    "        x = torch.cat([x_i, x_j], dim=-1)\n",
    "        print(x.shape)\n",
    "#         x = torch.relu(self.fc_out(x))\n",
    "#         print(x.shape)\n",
    "        \n",
    "        return x\n",
    "\n",
    "    def update(self, aggr_out):\n",
    "        print(f'update: {aggr_out.shape}')\n",
    "        x = self.fc_cat(aggr_out)\n",
    "        print(f'after fc_cat: {x.shape}')\n",
    "        return x\n",
    "\n",
    "    def aggregate(self, x):\n",
    "        print(f'aggregate: {x.shape}')\n",
    "        x = torch.relu(self.fc_out(x))\n",
    "        print(f'after fc_out{x.shape}')\n",
    "        return x"
   ]
  },
  {
   "cell_type": "code",
   "execution_count": 20,
   "id": "488f3414",
   "metadata": {},
   "outputs": [],
   "source": [
    "nodes = 100\n",
    "node_feas = torch.rand(1,nodes,50,100)"
   ]
  },
  {
   "cell_type": "code",
   "execution_count": 21,
   "id": "362b76f4",
   "metadata": {},
   "outputs": [],
   "source": [
    "edge_index = build_edge_idx(num_nodes=nodes)"
   ]
  },
  {
   "cell_type": "code",
   "execution_count": 22,
   "id": "44f1de94",
   "metadata": {},
   "outputs": [
    {
     "data": {
      "text/plain": [
       "tensor([[ 0,  0,  0,  ..., 99, 99, 99],\n",
       "        [ 1,  2,  3,  ..., 96, 97, 98]])"
      ]
     },
     "execution_count": 22,
     "metadata": {},
     "output_type": "execute_result"
    }
   ],
   "source": [
    "edge_index"
   ]
  },
  {
   "cell_type": "code",
   "execution_count": 23,
   "id": "4dc8f145",
   "metadata": {},
   "outputs": [],
   "source": [
    "gl = graph_learning(nodes, 50)"
   ]
  },
  {
   "cell_type": "code",
   "execution_count": 24,
   "id": "05bdc5dc",
   "metadata": {},
   "outputs": [
    {
     "name": "stdout",
     "output_type": "stream",
     "text": [
      "torch.Size([1, 100, 50, 100])\n",
      "torch.Size([100, 1, 5000])\n",
      "torch.Size([100, 8, 4991])\n",
      "before message passing:torch.Size([100, 50])\n",
      "x_i: torch.Size([9900, 50])\n",
      "x_j: torch.Size([9900, 50])\n",
      "torch.Size([9900, 100])\n",
      "aggregate: torch.Size([9900, 100])\n",
      "after fc_outtorch.Size([9900, 50])\n",
      "update: torch.Size([9900, 50])\n",
      "after fc_cat: torch.Size([9900, 2])\n"
     ]
    }
   ],
   "source": [
    "adj = gl(node_feas, edge_index)"
   ]
  },
  {
   "cell_type": "code",
   "execution_count": 25,
   "id": "b1af44b5",
   "metadata": {},
   "outputs": [],
   "source": [
    "z = F.gumbel_softmax(adj, tau=1, hard=True)"
   ]
  },
  {
   "cell_type": "code",
   "execution_count": 26,
   "id": "8dfcec76",
   "metadata": {},
   "outputs": [],
   "source": [
    "z_1 = torch.transpose(z, 0,1).detach()"
   ]
  },
  {
   "cell_type": "code",
   "execution_count": 27,
   "id": "e684422e",
   "metadata": {},
   "outputs": [
    {
     "data": {
      "text/plain": [
       "tensor([[0., 0., 0.,  ..., 0., 1., 1.],\n",
       "        [1., 1., 1.,  ..., 1., 0., 0.]])"
      ]
     },
     "execution_count": 27,
     "metadata": {},
     "output_type": "execute_result"
    }
   ],
   "source": [
    "z_1"
   ]
  },
  {
   "cell_type": "code",
   "execution_count": 28,
   "id": "61d7c65d",
   "metadata": {},
   "outputs": [],
   "source": [
    "edge_ = []\n",
    "\n",
    "for ii, rel in enumerate(z_1[0]):\n",
    "    if bool(rel):\n",
    "        edge_.append(edge_index[:,ii])\n",
    "        \n",
    "new_edge = torch.stack(edge_, dim=-1)"
   ]
  },
  {
   "cell_type": "code",
   "execution_count": 29,
   "id": "09b68b9b",
   "metadata": {},
   "outputs": [
    {
     "data": {
      "text/plain": [
       "tensor([[ 0,  0,  0,  ..., 99, 99, 99],\n",
       "        [10, 12, 15,  ..., 95, 97, 98]])"
      ]
     },
     "execution_count": 29,
     "metadata": {},
     "output_type": "execute_result"
    }
   ],
   "source": [
    "new_edge"
   ]
  },
  {
   "cell_type": "code",
   "execution_count": 30,
   "id": "de7ee352",
   "metadata": {},
   "outputs": [
    {
     "name": "stdout",
     "output_type": "stream",
     "text": [
      "torch.Size([1, 100, 50, 100])\n",
      "torch.Size([100, 1, 5000])\n",
      "torch.Size([100, 8, 4991])\n",
      "before message passing:torch.Size([100, 50])\n",
      "x_i: torch.Size([3167, 50])\n",
      "x_j: torch.Size([3167, 50])\n",
      "torch.Size([3167, 100])\n",
      "aggregate: torch.Size([3167, 100])\n",
      "after fc_outtorch.Size([3167, 50])\n",
      "update: torch.Size([3167, 50])\n",
      "after fc_cat: torch.Size([3167, 2])\n"
     ]
    }
   ],
   "source": [
    "adj = gl(node_feas, new_edge)"
   ]
  },
  {
   "cell_type": "code",
   "execution_count": 31,
   "id": "bb657306",
   "metadata": {},
   "outputs": [],
   "source": [
    "z = F.gumbel_softmax(adj, tau=1, hard=True)\n",
    "z_1 = torch.transpose(z, 0,1).detach()\n",
    "\n",
    "edge_ = []\n",
    "\n",
    "for ii, rel in enumerate(z_1[0]):\n",
    "    if bool(rel):\n",
    "        edge_.append(edge_index[:,ii])\n",
    "        \n",
    "new_edge = torch.stack(edge_, dim=-1)"
   ]
  },
  {
   "cell_type": "code",
   "execution_count": 32,
   "id": "7cecf828",
   "metadata": {},
   "outputs": [
    {
     "data": {
      "text/plain": [
       "tensor([[ 0,  0,  0,  ..., 31, 31, 31],\n",
       "        [ 1,  2,  6,  ..., 95, 96, 98]])"
      ]
     },
     "execution_count": 32,
     "metadata": {},
     "output_type": "execute_result"
    }
   ],
   "source": [
    "new_edge"
   ]
  },
  {
   "cell_type": "code",
   "execution_count": 33,
   "id": "389457c8",
   "metadata": {},
   "outputs": [
    {
     "data": {
      "text/plain": [
       "torch.Size([2, 1607])"
      ]
     },
     "execution_count": 33,
     "metadata": {},
     "output_type": "execute_result"
    }
   ],
   "source": [
    "new_edge.shape"
   ]
  },
  {
   "cell_type": "code",
   "execution_count": 34,
   "id": "f286317f",
   "metadata": {},
   "outputs": [],
   "source": [
    "class RecurrentGCN(torch.nn.Module):\n",
    "    def __init__(self, node_features):\n",
    "        super(RecurrentGCN, self).__init__()\n",
    "        self.recurrent = DCRNN(node_features, 32, 1)\n",
    "        self.linear = torch.nn.Linear(32, 1)\n",
    "\n",
    "    def forward(self, x, edge_index, edge_weight):\n",
    "        h = self.recurrent(x, edge_index, edge_weight)\n",
    "        h = F.relu(h)\n",
    "        h = self.linear(h)\n",
    "        return h"
   ]
  },
  {
   "cell_type": "code",
   "execution_count": 35,
   "id": "c1d1d546",
   "metadata": {},
   "outputs": [
    {
     "data": {
      "text/plain": [
       "RecurrentGCN(\n",
       "  (recurrent): DCRNN(\n",
       "    (conv_x_z): DConv()\n",
       "    (conv_x_r): DConv()\n",
       "    (conv_x_h): DConv()\n",
       "  )\n",
       "  (linear): Linear(in_features=32, out_features=1, bias=True)\n",
       ")"
      ]
     },
     "execution_count": 35,
     "metadata": {},
     "output_type": "execute_result"
    }
   ],
   "source": [
    "from tqdm import tqdm\n",
    "\n",
    "model = RecurrentGCN(node_features = 50)\n",
    "\n",
    "optimizer = torch.optim.Adam(model.parameters(), lr=0.01)\n",
    "\n",
    "model.train()"
   ]
  },
  {
   "cell_type": "code",
   "execution_count": 36,
   "id": "db1db4e1",
   "metadata": {},
   "outputs": [],
   "source": [
    "dcrnn = DCRNN(50, 50, 3)"
   ]
  },
  {
   "cell_type": "code",
   "execution_count": null,
   "id": "f93144a5",
   "metadata": {},
   "outputs": [],
   "source": [
    "x_1.shape"
   ]
  },
  {
   "cell_type": "code",
   "execution_count": null,
   "id": "f46a343a",
   "metadata": {},
   "outputs": [],
   "source": []
  },
  {
   "cell_type": "code",
   "execution_count": null,
   "id": "62da2877",
   "metadata": {},
   "outputs": [],
   "source": []
  },
  {
   "cell_type": "code",
   "execution_count": null,
   "id": "f9ebe790",
   "metadata": {},
   "outputs": [],
   "source": []
  }
 ],
 "metadata": {
  "kernelspec": {
   "display_name": "Python 3 (ipykernel)",
   "language": "python",
   "name": "python3"
  },
  "language_info": {
   "codemirror_mode": {
    "name": "ipython",
    "version": 3
   },
   "file_extension": ".py",
   "mimetype": "text/x-python",
   "name": "python",
   "nbconvert_exporter": "python",
   "pygments_lexer": "ipython3",
   "version": "3.9.7"
  }
 },
 "nbformat": 4,
 "nbformat_minor": 5
}
