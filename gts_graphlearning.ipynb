{
 "cells": [
  {
   "cell_type": "code",
   "execution_count": 1,
   "id": "c39734a1",
   "metadata": {},
   "outputs": [],
   "source": [
    "import torch\n",
    "import torch.nn as nn\n",
    "from torch.nn import functional as F\n",
    "import numpy as np\n",
    "import mat73\n",
    "\n",
    "from torch_geometric.data import Data as gData\n",
    "from torch_geometric.utils import to_networkx, to_undirected\n",
    "from torch_geometric.nn import MessagePassing\n",
    "\n",
    "import networkx as nx\n",
    "import matplotlib.pyplot as plt\n",
    "\n",
    "from torch_geometric_temporal.nn.recurrent import DCRNN"
   ]
  },
  {
   "cell_type": "markdown",
   "id": "9d9d16e7",
   "metadata": {},
   "source": [
    "# GTS"
   ]
  },
  {
   "cell_type": "code",
   "execution_count": 2,
   "id": "62da2877",
   "metadata": {},
   "outputs": [],
   "source": [
    "from models.GTS.graph_learning import GlobalGraphLearning\n",
    "from models.GTS.DCRNN import DCRNN\n",
    "# from torch_geometric_temporal.nn.recurrent import DCRNN as dcrnn\n",
    "from utils.utils import build_edge_idx\n",
    "\n",
    "from glob import glob\n",
    "import yaml\n",
    "from easydict import EasyDict as edict"
   ]
  },
  {
   "cell_type": "code",
   "execution_count": 3,
   "id": "1a1aac1a",
   "metadata": {},
   "outputs": [],
   "source": [
    "config_file = glob('./config/GTS/*.yaml')[0]\n",
    "config = edict(yaml.load(open(config_file, 'r'), Loader=yaml.FullLoader))"
   ]
  },
  {
   "cell_type": "code",
   "execution_count": 4,
   "id": "6f762d4f",
   "metadata": {},
   "outputs": [],
   "source": [
    "node_feas = torch.rand(config.nodes_num, config.node_features, 1000)\n",
    "edge_index = build_edge_idx(num_nodes=config.nodes_num)"
   ]
  },
  {
   "cell_type": "code",
   "execution_count": 5,
   "id": "b0ac465d",
   "metadata": {},
   "outputs": [
    {
     "data": {
      "text/plain": [
       "torch.Size([2, 870])"
      ]
     },
     "execution_count": 5,
     "metadata": {},
     "output_type": "execute_result"
    }
   ],
   "source": [
    "edge_index.shape"
   ]
  },
  {
   "cell_type": "code",
   "execution_count": 6,
   "id": "fe826c54",
   "metadata": {},
   "outputs": [
    {
     "data": {
      "text/plain": [
       "torch.Size([30, 1, 1000])"
      ]
     },
     "execution_count": 6,
     "metadata": {},
     "output_type": "execute_result"
    }
   ],
   "source": [
    "node_feas.shape"
   ]
  },
  {
   "cell_type": "code",
   "execution_count": 7,
   "id": "2af1d4d2",
   "metadata": {},
   "outputs": [],
   "source": [
    "gl = GlobalGraphLearning(config)"
   ]
  },
  {
   "cell_type": "code",
   "execution_count": 8,
   "id": "7146fad1",
   "metadata": {},
   "outputs": [
    {
     "name": "stdout",
     "output_type": "stream",
     "text": [
      "torch.Size([30, 1, 1000])\n",
      "torch.Size([30, 1, 1000])\n",
      "torch.Size([30, 16, 982])\n",
      "torch.Size([30, 15712])\n"
     ]
    }
   ],
   "source": [
    "adj = gl(node_feas, edge_index)"
   ]
  },
  {
   "cell_type": "code",
   "execution_count": 9,
   "id": "40b04bf5",
   "metadata": {},
   "outputs": [],
   "source": [
    "z_1 = F.gumbel_softmax(adj, tau=0.3, hard=True)\n",
    "z_1 = torch.transpose(z_1, 0, 1)"
   ]
  },
  {
   "cell_type": "code",
   "execution_count": 10,
   "id": "15f4572d",
   "metadata": {},
   "outputs": [],
   "source": [
    "edge_ = []\n",
    "\n",
    "for ii, rel in enumerate(z_1[0]):\n",
    "    if bool(rel):\n",
    "        edge_.append(edge_index[:, ii])\n",
    "\n",
    "adj_matrix = torch.stack(edge_, dim=-1)"
   ]
  },
  {
   "cell_type": "code",
   "execution_count": 11,
   "id": "704a0e68",
   "metadata": {},
   "outputs": [
    {
     "data": {
      "text/plain": [
       "{'embedding_dim': 64,\n",
       " 'nodes_num': 30,\n",
       " 'kernel_size': 10,\n",
       " 'stride': 1,\n",
       " 'conv1_dim': 8,\n",
       " 'conv2_dim': 16,\n",
       " 'fc_dim': 15712,\n",
       " 'node_features': 1,\n",
       " 'diffusion_k': 3,\n",
       " 'num_layer': 1,\n",
       " 'tau': 0.3,\n",
       " 'output_dim': 1,\n",
       " 'encoder_length': 70,\n",
       " 'decoder_length': 30}"
      ]
     },
     "execution_count": 11,
     "metadata": {},
     "output_type": "execute_result"
    }
   ],
   "source": [
    "config"
   ]
  },
  {
   "cell_type": "code",
   "execution_count": 12,
   "id": "08e541d4",
   "metadata": {},
   "outputs": [],
   "source": [
    "config.num_layer=2"
   ]
  },
  {
   "cell_type": "code",
   "execution_count": 13,
   "id": "8c24a3c9",
   "metadata": {},
   "outputs": [],
   "source": [
    "config.embedding_dim = 13\n",
    "config.in_channels = 1"
   ]
  },
  {
   "cell_type": "code",
   "execution_count": 14,
   "id": "7a7dea09",
   "metadata": {},
   "outputs": [],
   "source": [
    "encoder_dcrnn = DCRNN(config)\n",
    "decoder_dcrnn = DCRNN(config)"
   ]
  },
  {
   "cell_type": "code",
   "execution_count": 15,
   "id": "a85e59f2",
   "metadata": {},
   "outputs": [
    {
     "data": {
      "text/plain": [
       "torch.Size([10, 30, 1, 100])"
      ]
     },
     "execution_count": 15,
     "metadata": {},
     "output_type": "execute_result"
    }
   ],
   "source": [
    "inputs = node_feas.reshape(-1,30,1,100)\n",
    "inputs.shape\n",
    "# batch, node_num, node_feature, total time step"
   ]
  },
  {
   "cell_type": "code",
   "execution_count": 23,
   "id": "48cb9e64",
   "metadata": {},
   "outputs": [
    {
     "data": {
      "text/plain": [
       "torch.Size([10, 30, 1])"
      ]
     },
     "execution_count": 23,
     "metadata": {},
     "output_type": "execute_result"
    }
   ],
   "source": [
    "inputs[:,:,:,0].shape"
   ]
  },
  {
   "cell_type": "code",
   "execution_count": 27,
   "id": "55f963ea",
   "metadata": {},
   "outputs": [
    {
     "data": {
      "text/plain": [
       "DCRNN(\n",
       "  (recurrent): ModuleList(\n",
       "    (0): DCRNN(\n",
       "      (conv_x_z): DConv()\n",
       "      (conv_x_r): DConv()\n",
       "      (conv_x_h): DConv()\n",
       "    )\n",
       "    (1): DCRNN(\n",
       "      (conv_x_z): DConv()\n",
       "      (conv_x_r): DConv()\n",
       "      (conv_x_h): DConv()\n",
       "    )\n",
       "  )\n",
       ")"
      ]
     },
     "execution_count": 27,
     "metadata": {},
     "output_type": "execute_result"
    }
   ],
   "source": [
    "encoder_dcrnn.eval()"
   ]
  },
  {
   "cell_type": "code",
   "execution_count": 26,
   "id": "252f3785",
   "metadata": {},
   "outputs": [
    {
     "data": {
      "text/plain": [
       "True"
      ]
     },
     "execution_count": 26,
     "metadata": {},
     "output_type": "execute_result"
    }
   ],
   "source": [
    "encoder_dcrnn.training"
   ]
  },
  {
   "cell_type": "code",
   "execution_count": 29,
   "id": "7b8e347b",
   "metadata": {
    "scrolled": false
   },
   "outputs": [
    {
     "name": "stdout",
     "output_type": "stream",
     "text": [
      "0\n",
      "Initial Hidden State Dim: torch.Size([30, 13])\n",
      "Z shape: torch.Size([30, 14])\n",
      "1\n",
      "Initial Hidden State Dim: torch.Size([30, 13])\n",
      "Z shape: torch.Size([30, 26])\n"
     ]
    }
   ],
   "source": [
    "encoder_hidden_state = encoder_dcrnn(inputs[0,:,:,0], adj_matrix)"
   ]
  },
  {
   "cell_type": "code",
   "execution_count": 30,
   "id": "187126f6",
   "metadata": {
    "scrolled": false
   },
   "outputs": [
    {
     "name": "stdout",
     "output_type": "stream",
     "text": [
      "0\n",
      "Initial Hidden State Dim: torch.Size([30, 13])\n",
      "Z shape: torch.Size([30, 14])\n",
      "1\n",
      "Initial Hidden State Dim: torch.Size([30, 13])\n",
      "Z shape: torch.Size([30, 26])\n"
     ]
    }
   ],
   "source": [
    "encoder_hidden_state_2 = encoder_dcrnn(inputs[0,:,:,1], adj_matrix, hidden_state=encoder_hidden_state)"
   ]
  },
  {
   "cell_type": "code",
   "execution_count": 31,
   "id": "5be34065",
   "metadata": {},
   "outputs": [
    {
     "name": "stdout",
     "output_type": "stream",
     "text": [
      "0\n",
      "Initial Hidden State Dim: torch.Size([30, 13])\n",
      "Z shape: torch.Size([30, 14])\n",
      "1\n",
      "Initial Hidden State Dim: torch.Size([30, 13])\n",
      "Z shape: torch.Size([30, 26])\n"
     ]
    }
   ],
   "source": [
    "decoder_hidden_state = decoder_dcrnn(inputs[0,:,:,3], adj_matrix, hidden_state=encoder_hidden_state_2)"
   ]
  },
  {
   "cell_type": "code",
   "execution_count": 32,
   "id": "230497e4",
   "metadata": {},
   "outputs": [
    {
     "data": {
      "text/plain": [
       "torch.Size([30, 13])"
      ]
     },
     "execution_count": 32,
     "metadata": {},
     "output_type": "execute_result"
    }
   ],
   "source": [
    "decoder_hidden_state[-1].shape"
   ]
  },
  {
   "cell_type": "code",
   "execution_count": 34,
   "id": "bded4f72",
   "metadata": {},
   "outputs": [],
   "source": [
    "prediction_layer = nn.Linear(config.embedding_dim, config.output_dim)"
   ]
  },
  {
   "cell_type": "code",
   "execution_count": 35,
   "id": "c150f9e8",
   "metadata": {},
   "outputs": [
    {
     "data": {
      "text/plain": [
       "Linear(in_features=13, out_features=1, bias=True)"
      ]
     },
     "execution_count": 35,
     "metadata": {},
     "output_type": "execute_result"
    }
   ],
   "source": [
    "prediction_layer"
   ]
  },
  {
   "cell_type": "code",
   "execution_count": 37,
   "id": "5bd4387f",
   "metadata": {},
   "outputs": [
    {
     "data": {
      "text/plain": [
       "torch.Size([30, 1])"
      ]
     },
     "execution_count": 37,
     "metadata": {},
     "output_type": "execute_result"
    }
   ],
   "source": [
    "prediction_layer(decoder_hidden_state[-1]).shape"
   ]
  },
  {
   "cell_type": "code",
   "execution_count": null,
   "id": "c5a807da",
   "metadata": {},
   "outputs": [],
   "source": []
  }
 ],
 "metadata": {
  "kernelspec": {
   "display_name": "Python 3 (ipykernel)",
   "language": "python",
   "name": "python3"
  },
  "language_info": {
   "codemirror_mode": {
    "name": "ipython",
    "version": 3
   },
   "file_extension": ".py",
   "mimetype": "text/x-python",
   "name": "python",
   "nbconvert_exporter": "python",
   "pygments_lexer": "ipython3",
   "version": "3.9.7"
  }
 },
 "nbformat": 4,
 "nbformat_minor": 5
}
