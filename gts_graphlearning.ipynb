{
 "cells": [
  {
   "cell_type": "code",
   "execution_count": 1,
   "id": "3b778130",
   "metadata": {},
   "outputs": [],
   "source": [
    "import sys\n",
    "\n",
    "sys.path.append('../GraphStructureLearning')"
   ]
  },
  {
   "cell_type": "code",
   "execution_count": 2,
   "id": "c39734a1",
   "metadata": {},
   "outputs": [],
   "source": [
    "import torch\n",
    "import torch.nn as nn\n",
    "from torch.nn import functional as F\n",
    "import numpy as np\n",
    "import pickle\n",
    "\n",
    "from torch_geometric.data import Data as gData\n",
    "from torch_geometric.utils import to_networkx, to_undirected\n",
    "from torch_geometric.nn import MessagePassing\n",
    "\n",
    "import networkx as nx\n",
    "import matplotlib.pyplot as plt\n",
    "\n",
    "from torch_geometric_temporal.nn.recurrent import DCRNN"
   ]
  },
  {
   "cell_type": "markdown",
   "id": "9d9d16e7",
   "metadata": {},
   "source": [
    "# GTS"
   ]
  },
  {
   "cell_type": "code",
   "execution_count": 3,
   "id": "62da2877",
   "metadata": {},
   "outputs": [],
   "source": [
    "from models.GTS.gts_graph_learning import GTS_Graph_Learning\n",
    "from models.GTS.gts_forecasting_module import GTS_Forecasting_Module\n",
    "from models.GTS.DCRNN import DCRNN\n",
    "from utils.utils import build_fully_connected_edge_idx\n",
    "\n",
    "from glob import glob\n",
    "import yaml\n",
    "from easydict import EasyDict as edict"
   ]
  },
  {
   "cell_type": "code",
   "execution_count": 4,
   "id": "1a1aac1a",
   "metadata": {},
   "outputs": [],
   "source": [
    "config_file = glob('./config/GTS/*.yaml')[0]\n",
    "config = edict(yaml.load(open(config_file, 'r'), Loader=yaml.FullLoader))"
   ]
  },
  {
   "cell_type": "code",
   "execution_count": 5,
   "id": "6f762d4f",
   "metadata": {},
   "outputs": [],
   "source": [
    "# node_feas = torch.rand(config.nodes_num, config.node_features, 1000)\n",
    "# edge_index = build_fully_connected_edge_idx(num_nodes=config.nodes_num)"
   ]
  },
  {
   "cell_type": "code",
   "execution_count": 6,
   "id": "3edda6d7",
   "metadata": {},
   "outputs": [],
   "source": [
    "spike = pickle.load(open('./data/spk_bin_n100.pickle', 'rb'))\n",
    "\n",
    "spike = torch.FloatTensor(spike[:,:4800])"
   ]
  },
  {
   "cell_type": "code",
   "execution_count": 7,
   "id": "0974c59c",
   "metadata": {},
   "outputs": [],
   "source": [
    "config.nodes_num = 100"
   ]
  },
  {
   "cell_type": "code",
   "execution_count": 8,
   "id": "5a2dfd85",
   "metadata": {},
   "outputs": [],
   "source": [
    "edge_index = build_fully_connected_edge_idx(num_nodes=config.nodes_num)"
   ]
  },
  {
   "cell_type": "code",
   "execution_count": 9,
   "id": "b0ac465d",
   "metadata": {},
   "outputs": [
    {
     "data": {
      "text/plain": [
       "torch.Size([2, 9900])"
      ]
     },
     "execution_count": 9,
     "metadata": {},
     "output_type": "execute_result"
    }
   ],
   "source": [
    "edge_index.shape"
   ]
  },
  {
   "cell_type": "code",
   "execution_count": 10,
   "id": "fe826c54",
   "metadata": {},
   "outputs": [
    {
     "data": {
      "text/plain": [
       "torch.Size([100, 4800])"
      ]
     },
     "execution_count": 10,
     "metadata": {},
     "output_type": "execute_result"
    }
   ],
   "source": [
    "spike.shape"
   ]
  },
  {
   "cell_type": "code",
   "execution_count": 11,
   "id": "2af1d4d2",
   "metadata": {},
   "outputs": [],
   "source": [
    "gl = GTS_Graph_Learning(config)"
   ]
  },
  {
   "cell_type": "code",
   "execution_count": 12,
   "id": "8c61bb40",
   "metadata": {},
   "outputs": [
    {
     "data": {
      "text/plain": [
       "GTS_Graph_Learning(\n",
       "  (conv1): Conv1d(1, 4, kernel_size=(200,), stride=(20,))\n",
       "  (conv2): Conv1d(4, 4, kernel_size=(80,), stride=(10,))\n",
       "  (conv3): Conv1d(4, 4, kernel_size=(10,), stride=(5,))\n",
       "  (fc_conv): Conv1d(4, 1, kernel_size=(1,), stride=(1,))\n",
       "  (fc): Linear(in_features=2, out_features=16, bias=True)\n",
       "  (hidden_drop): Dropout(p=0.2, inplace=False)\n",
       "  (bn1): BatchNorm1d(4, eps=1e-05, momentum=0.1, affine=True, track_running_stats=True)\n",
       "  (bn2): BatchNorm1d(4, eps=1e-05, momentum=0.1, affine=True, track_running_stats=True)\n",
       "  (bn3): BatchNorm1d(4, eps=1e-05, momentum=0.1, affine=True, track_running_stats=True)\n",
       "  (fc_cat): Linear(in_features=32, out_features=16, bias=True)\n",
       "  (fc_out): Linear(in_features=16, out_features=2, bias=True)\n",
       ")"
      ]
     },
     "execution_count": 12,
     "metadata": {},
     "output_type": "execute_result"
    }
   ],
   "source": [
    "gl"
   ]
  },
  {
   "cell_type": "code",
   "execution_count": 13,
   "id": "7146fad1",
   "metadata": {},
   "outputs": [],
   "source": [
    "adj = gl(spike, edge_index)"
   ]
  },
  {
   "cell_type": "code",
   "execution_count": 14,
   "id": "8aef8d9e",
   "metadata": {},
   "outputs": [
    {
     "data": {
      "text/plain": [
       "torch.Size([9900, 2])"
      ]
     },
     "execution_count": 14,
     "metadata": {},
     "output_type": "execute_result"
    }
   ],
   "source": [
    "adj.shape"
   ]
  },
  {
   "cell_type": "code",
   "execution_count": 16,
   "id": "dfedf1fd",
   "metadata": {},
   "outputs": [
    {
     "data": {
      "text/plain": [
       "tensor([[0.5970, 0.0000],\n",
       "        [0.5607, 0.0000],\n",
       "        [0.5829, 0.0000],\n",
       "        ...,\n",
       "        [0.6402, 0.0000],\n",
       "        [0.8975, 0.0000],\n",
       "        [1.1305, 0.0000]], grad_fn=<ReluBackward0>)"
      ]
     },
     "execution_count": 16,
     "metadata": {},
     "output_type": "execute_result"
    }
   ],
   "source": [
    "adj"
   ]
  },
  {
   "cell_type": "code",
   "execution_count": null,
   "id": "40b04bf5",
   "metadata": {},
   "outputs": [],
   "source": [
    "z_1 = F.gumbel_softmax(adj, tau=0.9, hard=True)"
   ]
  },
  {
   "cell_type": "code",
   "execution_count": null,
   "id": "386a6684",
   "metadata": {},
   "outputs": [],
   "source": [
    "z_1.shape"
   ]
  },
  {
   "cell_type": "code",
   "execution_count": null,
   "id": "c4e207c8",
   "metadata": {},
   "outputs": [],
   "source": [
    "z_1[:,0].shape"
   ]
  },
  {
   "cell_type": "code",
   "execution_count": null,
   "id": "0d9652bf",
   "metadata": {},
   "outputs": [],
   "source": [
    "edge_index.shape"
   ]
  },
  {
   "cell_type": "code",
   "execution_count": null,
   "id": "6ea81d05",
   "metadata": {},
   "outputs": [],
   "source": [
    "z_adj = torch.where(z_1[:,0])"
   ]
  },
  {
   "cell_type": "code",
   "execution_count": null,
   "id": "c7f53eb9",
   "metadata": {},
   "outputs": [],
   "source": [
    "z_adj"
   ]
  },
  {
   "cell_type": "code",
   "execution_count": null,
   "id": "d1a0a8f8",
   "metadata": {},
   "outputs": [],
   "source": [
    "b= edge_index[0,:][z_adj]"
   ]
  },
  {
   "cell_type": "code",
   "execution_count": null,
   "id": "d4a15c21",
   "metadata": {},
   "outputs": [],
   "source": [
    "c = edge_index[1,:][z_adj]"
   ]
  },
  {
   "cell_type": "code",
   "execution_count": null,
   "id": "d19c4496",
   "metadata": {},
   "outputs": [],
   "source": [
    "a = torch.stack([b,c])"
   ]
  },
  {
   "cell_type": "code",
   "execution_count": null,
   "id": "8fd36651",
   "metadata": {},
   "outputs": [],
   "source": [
    "from torch_geometric.utils import *"
   ]
  },
  {
   "cell_type": "code",
   "execution_count": null,
   "id": "0b75546c",
   "metadata": {},
   "outputs": [],
   "source": [
    "is_undirected(a)"
   ]
  },
  {
   "cell_type": "code",
   "execution_count": null,
   "id": "e655e0cd",
   "metadata": {},
   "outputs": [],
   "source": [
    "to_undirected(a)"
   ]
  },
  {
   "cell_type": "code",
   "execution_count": null,
   "id": "0aa1e545",
   "metadata": {},
   "outputs": [],
   "source": []
  }
 ],
 "metadata": {
  "kernelspec": {
   "display_name": "Python 3 (ipykernel)",
   "language": "python",
   "name": "python3"
  },
  "language_info": {
   "codemirror_mode": {
    "name": "ipython",
    "version": 3
   },
   "file_extension": ".py",
   "mimetype": "text/x-python",
   "name": "python",
   "nbconvert_exporter": "python",
   "pygments_lexer": "ipython3",
   "version": "3.9.7"
  }
 },
 "nbformat": 4,
 "nbformat_minor": 5
}
