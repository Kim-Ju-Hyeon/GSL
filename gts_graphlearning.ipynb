{
 "cells": [
  {
   "cell_type": "code",
   "execution_count": 1,
   "id": "3b778130",
   "metadata": {},
   "outputs": [],
   "source": [
    "import sys\n",
    "\n",
    "sys.path.append('../GraphStructureLearning')"
   ]
  },
  {
   "cell_type": "code",
   "execution_count": 2,
   "id": "c39734a1",
   "metadata": {},
   "outputs": [],
   "source": [
    "import torch\n",
    "import torch.nn as nn\n",
    "from torch.nn import functional as F\n",
    "import numpy as np\n",
    "import pickle\n",
    "\n",
    "from torch_geometric.data import Data as gData\n",
    "from torch_geometric.utils import to_networkx, to_undirected\n",
    "from torch_geometric.nn import MessagePassing\n",
    "\n",
    "import networkx as nx\n",
    "import matplotlib.pyplot as plt\n",
    "\n",
    "from torch_geometric_temporal.nn.recurrent import DCRNN"
   ]
  },
  {
   "cell_type": "markdown",
   "id": "9d9d16e7",
   "metadata": {},
   "source": [
    "# GTS"
   ]
  },
  {
   "cell_type": "code",
   "execution_count": 3,
   "id": "62da2877",
   "metadata": {},
   "outputs": [],
   "source": [
    "from models.GTS.gts_graph_learning import GTS_Graph_Learning\n",
    "from models.GTS.gts_forecasting_module import GTS_Forecasting_Module\n",
    "from models.GTS.DCRNN import DCRNN\n",
    "from utils.utils import build_fully_connected_edge_idx\n",
    "\n",
    "from glob import glob\n",
    "import yaml\n",
    "from easydict import EasyDict as edict"
   ]
  },
  {
   "cell_type": "code",
   "execution_count": 4,
   "id": "1a1aac1a",
   "metadata": {},
   "outputs": [],
   "source": [
    "config_file = glob('./config/GTS/*.yaml')[0]\n",
    "config = edict(yaml.load(open(config_file, 'r'), Loader=yaml.FullLoader))"
   ]
  },
  {
   "cell_type": "code",
   "execution_count": 5,
   "id": "6f762d4f",
   "metadata": {},
   "outputs": [],
   "source": [
    "# node_feas = torch.rand(config.nodes_num, config.node_features, 1000)\n",
    "# edge_index = build_fully_connected_edge_idx(num_nodes=config.nodes_num)"
   ]
  },
  {
   "cell_type": "code",
   "execution_count": 6,
   "id": "3edda6d7",
   "metadata": {},
   "outputs": [],
   "source": [
    "spike = pickle.load(open('./data/LNP_spk_all.pickle', 'rb'))\n",
    "\n",
    "spike = torch.FloatTensor(spike[:,:1000])"
   ]
  },
  {
   "cell_type": "code",
   "execution_count": 7,
   "id": "0974c59c",
   "metadata": {},
   "outputs": [],
   "source": [
    "config.nodes_num = 100"
   ]
  },
  {
   "cell_type": "code",
   "execution_count": 14,
   "id": "5a2dfd85",
   "metadata": {},
   "outputs": [],
   "source": [
    "edge_index = build_fully_connected_edge_idx(num_nodes=config.nodes_num)"
   ]
  },
  {
   "cell_type": "code",
   "execution_count": 21,
   "id": "b0ac465d",
   "metadata": {},
   "outputs": [
    {
     "data": {
      "text/plain": [
       "torch.Size([2, 9900])"
      ]
     },
     "execution_count": 21,
     "metadata": {},
     "output_type": "execute_result"
    }
   ],
   "source": [
    "edge_index.shape"
   ]
  },
  {
   "cell_type": "code",
   "execution_count": 22,
   "id": "fe826c54",
   "metadata": {},
   "outputs": [
    {
     "data": {
      "text/plain": [
       "torch.Size([100, 1000])"
      ]
     },
     "execution_count": 22,
     "metadata": {},
     "output_type": "execute_result"
    }
   ],
   "source": [
    "spike.shape"
   ]
  },
  {
   "cell_type": "code",
   "execution_count": 12,
   "id": "2af1d4d2",
   "metadata": {},
   "outputs": [],
   "source": [
    "gl = GTS_Graph_Learning(config)"
   ]
  },
  {
   "cell_type": "code",
   "execution_count": 15,
   "id": "7146fad1",
   "metadata": {},
   "outputs": [],
   "source": [
    "adj = gl(spike, edge_index)"
   ]
  },
  {
   "cell_type": "code",
   "execution_count": 18,
   "id": "40b04bf5",
   "metadata": {},
   "outputs": [],
   "source": [
    "z_1 = F.gumbel_softmax(adj, tau=0.3, hard=True)\n",
    "z_1 = torch.transpose(z_1, 0, 1)"
   ]
  },
  {
   "cell_type": "code",
   "execution_count": 19,
   "id": "15f4572d",
   "metadata": {},
   "outputs": [],
   "source": [
    "edge_ = []\n",
    "\n",
    "for ii, rel in enumerate(z_1[0]):\n",
    "    if bool(rel):\n",
    "        edge_.append(edge_index[:, ii])\n",
    "\n",
    "adj_matrix = torch.stack(edge_, dim=-1)"
   ]
  },
  {
   "cell_type": "code",
   "execution_count": 20,
   "id": "bf2b196f",
   "metadata": {},
   "outputs": [
    {
     "data": {
      "text/plain": [
       "torch.Size([2, 3867])"
      ]
     },
     "execution_count": 20,
     "metadata": {},
     "output_type": "execute_result"
    }
   ],
   "source": [
    "adj_matrix.shape"
   ]
  },
  {
   "cell_type": "code",
   "execution_count": 23,
   "id": "08e541d4",
   "metadata": {},
   "outputs": [],
   "source": [
    "config.num_layer=2"
   ]
  },
  {
   "cell_type": "code",
   "execution_count": 24,
   "id": "8c24a3c9",
   "metadata": {},
   "outputs": [],
   "source": [
    "config.embedding_dim = 13\n",
    "config.in_channels = 1"
   ]
  },
  {
   "cell_type": "code",
   "execution_count": 25,
   "id": "7a7dea09",
   "metadata": {},
   "outputs": [],
   "source": [
    "encoder_dcrnn = DCRNN(config)\n",
    "decoder_dcrnn = DCRNN(config)"
   ]
  },
  {
   "cell_type": "code",
   "execution_count": 27,
   "id": "80f6f5f4",
   "metadata": {},
   "outputs": [
    {
     "data": {
      "text/plain": [
       "torch.Size([10, 100, 1, 100])"
      ]
     },
     "execution_count": 27,
     "metadata": {},
     "output_type": "execute_result"
    }
   ],
   "source": [
    "inputs = spike.reshape(-1,100,1,100)\n",
    "inputs.shape"
   ]
  },
  {
   "cell_type": "code",
   "execution_count": 28,
   "id": "7b8e347b",
   "metadata": {
    "scrolled": true
   },
   "outputs": [],
   "source": [
    "encoder_hidden_state = encoder_dcrnn(inputs[0,:,:,0], adj_matrix)"
   ]
  },
  {
   "cell_type": "code",
   "execution_count": 29,
   "id": "187126f6",
   "metadata": {
    "scrolled": false
   },
   "outputs": [],
   "source": [
    "encoder_hidden_state_2 = encoder_dcrnn(inputs[0,:,:,1], adj_matrix, hidden_state=encoder_hidden_state)"
   ]
  },
  {
   "cell_type": "code",
   "execution_count": 30,
   "id": "5be34065",
   "metadata": {},
   "outputs": [],
   "source": [
    "decoder_hidden_state = decoder_dcrnn(inputs[0,:,:,3], adj_matrix, hidden_state=encoder_hidden_state_2)"
   ]
  },
  {
   "cell_type": "code",
   "execution_count": 31,
   "id": "230497e4",
   "metadata": {},
   "outputs": [
    {
     "data": {
      "text/plain": [
       "torch.Size([100, 64])"
      ]
     },
     "execution_count": 31,
     "metadata": {},
     "output_type": "execute_result"
    }
   ],
   "source": [
    "decoder_hidden_state[-1].shape"
   ]
  },
  {
   "cell_type": "code",
   "execution_count": 32,
   "id": "c5a807da",
   "metadata": {},
   "outputs": [],
   "source": [
    "forecasting = GTS_Forecasting_Module(config)"
   ]
  },
  {
   "cell_type": "code",
   "execution_count": 33,
   "id": "2faf2fdb",
   "metadata": {},
   "outputs": [],
   "source": [
    "encoder_inputs = torch.rand(config.nodes_num, config.node_features, 70)\n",
    "decoder_inputs = torch.rand(config.nodes_num, config.node_features, 30)"
   ]
  },
  {
   "cell_type": "code",
   "execution_count": null,
   "id": "9a2e6e38",
   "metadata": {},
   "outputs": [],
   "source": []
  }
 ],
 "metadata": {
  "kernelspec": {
   "display_name": "Python 3 (ipykernel)",
   "language": "python",
   "name": "python3"
  },
  "language_info": {
   "codemirror_mode": {
    "name": "ipython",
    "version": 3
   },
   "file_extension": ".py",
   "mimetype": "text/x-python",
   "name": "python",
   "nbconvert_exporter": "python",
   "pygments_lexer": "ipython3",
   "version": "3.9.7"
  }
 },
 "nbformat": 4,
 "nbformat_minor": 5
}
