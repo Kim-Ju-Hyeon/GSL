{
 "cells": [
  {
   "cell_type": "code",
   "execution_count": 1,
   "id": "3b778130",
   "metadata": {},
   "outputs": [],
   "source": [
    "import sys\n",
    "\n",
    "sys.path.append('../GraphStructureLearning')"
   ]
  },
  {
   "cell_type": "code",
   "execution_count": 2,
   "id": "c39734a1",
   "metadata": {},
   "outputs": [],
   "source": [
    "import torch\n",
    "import torch.nn as nn\n",
    "from torch.nn import functional as F\n",
    "import numpy as np\n",
    "import pickle\n",
    "\n",
    "from torch_geometric.data import Data as gData\n",
    "from torch_geometric.utils import to_networkx, to_undirected\n",
    "from torch_geometric.nn import MessagePassing\n",
    "\n",
    "import networkx as nx\n",
    "import matplotlib.pyplot as plt\n",
    "\n",
    "from torch_geometric_temporal.nn.recurrent import DCRNN"
   ]
  },
  {
   "cell_type": "markdown",
   "id": "9d9d16e7",
   "metadata": {},
   "source": [
    "# GTS"
   ]
  },
  {
   "cell_type": "code",
   "execution_count": 3,
   "id": "62da2877",
   "metadata": {},
   "outputs": [
    {
     "name": "stderr",
     "output_type": "stream",
     "text": [
      "C:\\Users\\KimJuHyeon\\GSL\\utils\\utils.py:22: SyntaxWarning: \"is not\" with a literal. Did you mean \"!=\"?\n",
      "  if len(edge_index) is not 1:\n"
     ]
    }
   ],
   "source": [
    "from models.GTS.gts_graph_learning import GTS_Graph_Learning\n",
    "from models.GTS.gts_forecasting_module import GTS_Forecasting_Module\n",
    "from models.GTS.DCRNN import DCRNN\n",
    "from utils.utils import build_fully_connected_edge_idx\n",
    "\n",
    "from glob import glob\n",
    "import yaml\n",
    "from easydict import EasyDict as edict"
   ]
  },
  {
   "cell_type": "code",
   "execution_count": 4,
   "id": "1a1aac1a",
   "metadata": {},
   "outputs": [],
   "source": [
    "config_file = glob('./config/GTS/*.yaml')[0]\n",
    "config = edict(yaml.load(open(config_file, 'r'), Loader=yaml.FullLoader))"
   ]
  },
  {
   "cell_type": "code",
   "execution_count": 5,
   "id": "6f762d4f",
   "metadata": {},
   "outputs": [],
   "source": [
    "# node_feas = torch.rand(config.nodes_num, config.node_features, 1000)\n",
    "# edge_index = build_fully_connected_edge_idx(num_nodes=config.nodes_num)"
   ]
  },
  {
   "cell_type": "code",
   "execution_count": 6,
   "id": "3edda6d7",
   "metadata": {},
   "outputs": [],
   "source": [
    "spike = pickle.load(open('./data/LNP_spk_all.pickle', 'rb'))\n",
    "\n",
    "spike = torch.FloatTensor(spike[:,:1000])"
   ]
  },
  {
   "cell_type": "code",
   "execution_count": 7,
   "id": "0974c59c",
   "metadata": {},
   "outputs": [],
   "source": [
    "config.nodes_num = 100"
   ]
  },
  {
   "cell_type": "code",
   "execution_count": 14,
   "id": "5a2dfd85",
   "metadata": {},
   "outputs": [],
   "source": [
    "edge_index = build_fully_connected_edge_idx(num_nodes=config.nodes_num)"
   ]
  },
  {
   "cell_type": "code",
   "execution_count": 21,
   "id": "b0ac465d",
   "metadata": {},
   "outputs": [
    {
     "data": {
      "text/plain": [
       "torch.Size([2, 9900])"
      ]
     },
     "execution_count": 21,
     "metadata": {},
     "output_type": "execute_result"
    }
   ],
   "source": [
    "edge_index.shape"
   ]
  },
  {
   "cell_type": "code",
   "execution_count": 22,
   "id": "fe826c54",
   "metadata": {},
   "outputs": [
    {
     "data": {
      "text/plain": [
       "torch.Size([100, 1000])"
      ]
     },
     "execution_count": 22,
     "metadata": {},
     "output_type": "execute_result"
    }
   ],
   "source": [
    "spike.shape"
   ]
  },
  {
   "cell_type": "code",
   "execution_count": 12,
   "id": "2af1d4d2",
   "metadata": {},
   "outputs": [],
   "source": [
    "gl = GTS_Graph_Learning(config)"
   ]
  },
  {
   "cell_type": "code",
   "execution_count": 15,
   "id": "7146fad1",
   "metadata": {},
   "outputs": [],
   "source": [
    "adj = gl(spike, edge_index)"
   ]
  },
  {
   "cell_type": "code",
   "execution_count": 18,
   "id": "40b04bf5",
   "metadata": {},
   "outputs": [],
   "source": [
    "z_1 = F.gumbel_softmax(adj, tau=0.3, hard=True)\n",
    "z_1 = torch.transpose(z_1, 0, 1)"
   ]
  },
  {
   "cell_type": "code",
   "execution_count": 19,
   "id": "15f4572d",
   "metadata": {},
   "outputs": [],
   "source": [
    "edge_ = []\n",
    "\n",
    "for ii, rel in enumerate(z_1[0]):\n",
    "    if bool(rel):\n",
    "        edge_.append(edge_index[:, ii])\n",
    "\n",
    "adj_matrix = torch.stack(edge_, dim=-1)"
   ]
  },
  {
   "cell_type": "code",
   "execution_count": 20,
   "id": "bf2b196f",
   "metadata": {},
   "outputs": [
    {
     "data": {
      "text/plain": [
       "torch.Size([2, 3867])"
      ]
     },
     "execution_count": 20,
     "metadata": {},
     "output_type": "execute_result"
    }
   ],
   "source": [
    "adj_matrix.shape"
   ]
  },
  {
   "cell_type": "code",
   "execution_count": 23,
   "id": "08e541d4",
   "metadata": {},
   "outputs": [],
   "source": [
    "config.num_layer=2"
   ]
  },
  {
   "cell_type": "code",
   "execution_count": 24,
   "id": "8c24a3c9",
   "metadata": {},
   "outputs": [],
   "source": [
    "config.embedding_dim = 13\n",
    "config.in_channels = 1"
   ]
  },
  {
   "cell_type": "code",
   "execution_count": 25,
   "id": "7a7dea09",
   "metadata": {},
   "outputs": [],
   "source": [
    "encoder_dcrnn = DCRNN(config)\n",
    "decoder_dcrnn = DCRNN(config)"
   ]
  },
  {
   "cell_type": "code",
   "execution_count": 27,
   "id": "80f6f5f4",
   "metadata": {},
   "outputs": [
    {
     "data": {
      "text/plain": [
       "torch.Size([10, 100, 1, 100])"
      ]
     },
     "execution_count": 27,
     "metadata": {},
     "output_type": "execute_result"
    }
   ],
   "source": [
    "inputs = spike.reshape(-1,100,1,100)\n",
    "inputs.shape"
   ]
  },
  {
   "cell_type": "code",
   "execution_count": 28,
   "id": "7b8e347b",
   "metadata": {
    "scrolled": true
   },
   "outputs": [],
   "source": [
    "encoder_hidden_state = encoder_dcrnn(inputs[0,:,:,0], adj_matrix)"
   ]
  },
  {
   "cell_type": "code",
   "execution_count": 29,
   "id": "187126f6",
   "metadata": {
    "scrolled": false
   },
   "outputs": [],
   "source": [
    "encoder_hidden_state_2 = encoder_dcrnn(inputs[0,:,:,1], adj_matrix, hidden_state=encoder_hidden_state)"
   ]
  },
  {
   "cell_type": "code",
   "execution_count": 30,
   "id": "5be34065",
   "metadata": {},
   "outputs": [],
   "source": [
    "decoder_hidden_state = decoder_dcrnn(inputs[0,:,:,3], adj_matrix, hidden_state=encoder_hidden_state_2)"
   ]
  },
  {
   "cell_type": "code",
   "execution_count": 31,
   "id": "230497e4",
   "metadata": {},
   "outputs": [
    {
     "data": {
      "text/plain": [
       "torch.Size([100, 64])"
      ]
     },
     "execution_count": 31,
     "metadata": {},
     "output_type": "execute_result"
    }
   ],
   "source": [
    "decoder_hidden_state[-1].shape"
   ]
  },
  {
   "cell_type": "code",
   "execution_count": 32,
   "id": "c5a807da",
   "metadata": {},
   "outputs": [],
   "source": [
    "forecasting = GTS_Forecasting_Module(config)"
   ]
  },
  {
   "cell_type": "code",
   "execution_count": 33,
   "id": "2faf2fdb",
   "metadata": {},
   "outputs": [],
   "source": [
    "encoder_inputs = torch.rand(config.nodes_num, config.node_features, 70)\n",
    "decoder_inputs = torch.rand(config.nodes_num, config.node_features, 30)"
   ]
  },
  {
   "cell_type": "code",
   "execution_count": 15,
   "id": "9a2e6e38",
   "metadata": {},
   "outputs": [],
   "source": [
    "a = torch.rand(2, 1)\n",
    "b = torch.rand(2, 1)"
   ]
  },
  {
   "cell_type": "code",
   "execution_count": 16,
   "id": "dad591ff",
   "metadata": {},
   "outputs": [],
   "source": [
    "output = []\n",
    "\n",
    "output.append(a)\n",
    "output.append(b)"
   ]
  },
  {
   "cell_type": "code",
   "execution_count": 17,
   "id": "70b0f615",
   "metadata": {},
   "outputs": [
    {
     "data": {
      "text/plain": [
       "torch.Size([2, 1, 2])"
      ]
     },
     "execution_count": 17,
     "metadata": {},
     "output_type": "execute_result"
    }
   ],
   "source": [
    "torch.stack(output, dim=-1).shape"
   ]
  },
  {
   "cell_type": "code",
   "execution_count": 18,
   "id": "3bb39b4c",
   "metadata": {},
   "outputs": [
    {
     "data": {
      "text/plain": [
       "torch.Size([2, 2])"
      ]
     },
     "execution_count": 18,
     "metadata": {},
     "output_type": "execute_result"
    }
   ],
   "source": [
    "torch.concat([a,b], dim=-1).shape"
   ]
  },
  {
   "cell_type": "code",
   "execution_count": 19,
   "id": "5bbd41a1",
   "metadata": {},
   "outputs": [
    {
     "data": {
      "text/plain": [
       "tensor([[0.2259],\n",
       "        [0.2618]])"
      ]
     },
     "execution_count": 19,
     "metadata": {},
     "output_type": "execute_result"
    }
   ],
   "source": [
    "a"
   ]
  },
  {
   "cell_type": "code",
   "execution_count": 20,
   "id": "674882d0",
   "metadata": {},
   "outputs": [
    {
     "data": {
      "text/plain": [
       "tensor([[0.6195],\n",
       "        [0.2255]])"
      ]
     },
     "execution_count": 20,
     "metadata": {},
     "output_type": "execute_result"
    }
   ],
   "source": [
    "b"
   ]
  },
  {
   "cell_type": "code",
   "execution_count": 21,
   "id": "ba611e3a",
   "metadata": {},
   "outputs": [
    {
     "data": {
      "text/plain": [
       "tensor([[0.2259, 0.6195],\n",
       "        [0.2618, 0.2255]])"
      ]
     },
     "execution_count": 21,
     "metadata": {},
     "output_type": "execute_result"
    }
   ],
   "source": [
    "torch.concat([a,b], dim=-1)"
   ]
  },
  {
   "cell_type": "code",
   "execution_count": 22,
   "id": "0ac9465a",
   "metadata": {},
   "outputs": [],
   "source": [
    "outputs = []\n",
    "\n",
    "for i in range(20):\n",
    "    output = torch.rand(2, 1)\n",
    "    outputs.append(output)"
   ]
  },
  {
   "cell_type": "code",
   "execution_count": 25,
   "id": "4e135e68",
   "metadata": {},
   "outputs": [
    {
     "data": {
      "text/plain": [
       "torch.Size([2, 20])"
      ]
     },
     "execution_count": 25,
     "metadata": {},
     "output_type": "execute_result"
    }
   ],
   "source": [
    "torch.cat(outputs,dim=-1).shape"
   ]
  },
  {
   "cell_type": "code",
   "execution_count": 26,
   "id": "170ca44d",
   "metadata": {},
   "outputs": [
    {
     "data": {
      "text/plain": [
       "0.13928512732914022"
      ]
     },
     "execution_count": 26,
     "metadata": {},
     "output_type": "execute_result"
    }
   ],
   "source": [
    "np.random.random()"
   ]
  },
  {
   "cell_type": "code",
   "execution_count": 60,
   "id": "279d6c5c",
   "metadata": {},
   "outputs": [
    {
     "data": {
      "text/plain": [
       "0.45935605045067873"
      ]
     },
     "execution_count": 60,
     "metadata": {},
     "output_type": "execute_result"
    }
   ],
   "source": [
    "np.random.random()"
   ]
  },
  {
   "cell_type": "code",
   "execution_count": 6,
   "id": "d68b5cb6",
   "metadata": {},
   "outputs": [],
   "source": [
    "from torch_geometric_temporal.dataset import ChickenpoxDatasetLoader\n",
    "from torch_geometric_temporal.signal import temporal_signal_split\n",
    "\n",
    "loader = ChickenpoxDatasetLoader()\n",
    "\n",
    "dataset = loader.get_dataset()\n",
    "\n",
    "train_dataset, test_dataset = temporal_signal_split(dataset, train_ratio=0.2)"
   ]
  },
  {
   "cell_type": "code",
   "execution_count": 8,
   "id": "875d960d",
   "metadata": {},
   "outputs": [],
   "source": [
    "import torch\n",
    "import torch.nn.functional as F\n",
    "from torch_geometric_temporal.nn.recurrent import DCRNN\n",
    "\n",
    "class RecurrentGCN(torch.nn.Module):\n",
    "    def __init__(self, node_features):\n",
    "        super(RecurrentGCN, self).__init__()\n",
    "        self.recurrent = DCRNN(node_features, 32, 1)\n",
    "        self.linear = torch.nn.Linear(32, 1)\n",
    "\n",
    "    def forward(self, x, edge_index, edge_weight):\n",
    "        print(x.shape)\n",
    "        h = self.recurrent(x, edge_index, edge_weight)\n",
    "        print(h.shape)\n",
    "        h = F.relu(h)\n",
    "        h = self.linear(h)\n",
    "        return h"
   ]
  },
  {
   "cell_type": "code",
   "execution_count": 14,
   "id": "45ba347e",
   "metadata": {},
   "outputs": [
    {
     "data": {
      "text/plain": [
       "<torch_geometric_temporal.signal.static_graph_temporal_signal.StaticGraphTemporalSignal at 0x214ec3d99d0>"
      ]
     },
     "execution_count": 14,
     "metadata": {},
     "output_type": "execute_result"
    }
   ],
   "source": [
    "train_dataset"
   ]
  },
  {
   "cell_type": "code",
   "execution_count": 54,
   "id": "4c594294",
   "metadata": {},
   "outputs": [
    {
     "data": {
      "text/plain": [
       "tensor([[-5.9412e-01, -1.0814e-03,  9.4778e-01, -2.9760e-01],\n",
       "        [-1.1995e+00,  6.7890e-01,  9.0432e-01, -9.3655e-01],\n",
       "        [ 5.3065e-01,  1.2104e+00, -1.6286e+00,  2.3300e+00],\n",
       "        [-3.2629e-01,  2.1240e-01,  7.5109e-01,  2.0564e+00],\n",
       "        [-4.0526e-01,  8.6434e-01,  4.7727e-01, -8.0782e-01],\n",
       "        [ 6.2654e-01, -6.4068e-02,  2.3037e+00, -2.5305e+00],\n",
       "        [ 1.3063e-01,  2.1869e+00, -1.2402e+00, -1.6031e+00],\n",
       "        [-2.3423e-01,  1.1811e+00, -2.3423e-01, -1.1629e-01],\n",
       "        [-1.0827e-01,  1.1149e+00, -1.6516e-01, -2.7894e-01],\n",
       "        [-9.5250e-01,  2.3186e+00,  2.9811e+00, -4.4306e+00],\n",
       "        [-1.4333e+00,  1.6566e+00,  2.5876e-01, -1.3230e+00],\n",
       "        [-3.4669e-01,  4.4487e-01,  1.4343e+00, -1.5835e+00],\n",
       "        [-2.3837e+00,  1.5276e+00,  4.0118e+00, -2.6479e+00],\n",
       "        [-1.1852e+00,  2.2989e+00,  5.3610e-01, -1.8074e+00],\n",
       "        [-2.6931e+00,  2.4792e+00,  8.8681e-02, -2.0411e+00],\n",
       "        [-1.2430e-01,  1.5093e-03,  1.6371e+00, -4.7029e-01],\n",
       "        [-2.6330e-01,  2.0775e-01, -1.6073e-03, -2.6330e-01],\n",
       "        [-3.6272e-01,  5.4801e-01,  2.0963e+00, -1.1368e+00],\n",
       "        [ 1.8507e-01, -3.8386e-02,  4.4576e-01, -1.1184e+00],\n",
       "        [-3.4430e-01,  7.8633e-01,  9.1679e-01, -1.1705e+00]])"
      ]
     },
     "execution_count": 54,
     "metadata": {},
     "output_type": "execute_result"
    }
   ],
   "source": [
    "snapshot.x"
   ]
  },
  {
   "cell_type": "code",
   "execution_count": 57,
   "id": "0eded0ea",
   "metadata": {},
   "outputs": [
    {
     "data": {
      "text/plain": [
       "tensor([[ 0,  0,  0,  0,  0,  0,  0,  1,  1,  1,  1,  2,  2,  2,  2,  3,  3,  3,\n",
       "          3,  3,  3,  4,  4,  5,  5,  5,  5,  6,  6,  6,  6,  6,  6,  6,  7,  7,\n",
       "          7,  7,  8,  8,  8,  8,  8,  9,  9,  9,  9,  9, 10, 10, 10, 10, 10, 10,\n",
       "         10, 10, 11, 11, 11, 11, 11, 12, 12, 12, 12, 13, 13, 13, 13, 13, 13, 13,\n",
       "         13, 14, 14, 14, 14, 14, 14, 15, 15, 15, 16, 16, 16, 16, 16, 17, 17, 17,\n",
       "         17, 18, 18, 18, 18, 18, 18, 18, 19, 19, 19, 19],\n",
       "        [10,  6, 13,  1,  0,  5, 16,  0, 16,  1, 14, 10,  8,  2,  5,  8, 15, 12,\n",
       "          9, 10,  3,  4, 13,  0, 10,  2,  5,  0, 16,  6, 14, 13, 11, 18,  7, 17,\n",
       "         11, 18,  3,  2, 15,  8, 10,  9, 13,  3, 12, 10,  5,  9,  8,  3, 10,  2,\n",
       "         13,  0,  6, 11,  7, 13, 18,  3,  9, 13, 12, 13,  9,  6,  4, 12,  0, 11,\n",
       "         10, 18, 19,  1, 14,  6, 16,  3, 15,  8, 16, 14,  1,  0,  6,  7, 19, 17,\n",
       "         18, 14, 18, 17,  7,  6, 19, 11, 18, 14, 19, 17]])"
      ]
     },
     "execution_count": 57,
     "metadata": {},
     "output_type": "execute_result"
    }
   ],
   "source": [
    "snapshot.edge_index"
   ]
  },
  {
   "cell_type": "code",
   "execution_count": 9,
   "id": "0b95ac9e",
   "metadata": {},
   "outputs": [
    {
     "name": "stderr",
     "output_type": "stream",
     "text": [
      "\r",
      "  0%|          | 0/1 [00:00<?, ?it/s]"
     ]
    },
    {
     "name": "stdout",
     "output_type": "stream",
     "text": [
      "torch.Size([20, 4])\n",
      "torch.Size([20, 32])\n",
      "torch.Size([20, 4])\n",
      "torch.Size([20, 32])\n",
      "torch.Size([20, 4])\n",
      "torch.Size([20, 32])\n",
      "torch.Size([20, 4])\n",
      "torch.Size([20, 32])\n",
      "torch.Size([20, 4])\n",
      "torch.Size([20, 32])\n",
      "torch.Size([20, 4])\n",
      "torch.Size([20, 32])\n",
      "torch.Size([20, 4])\n",
      "torch.Size([20, 32])\n",
      "torch.Size([20, 4])\n",
      "torch.Size([20, 32])\n",
      "torch.Size([20, 4])\n",
      "torch.Size([20, 32])\n",
      "torch.Size([20, 4])\n",
      "torch.Size([20, 32])\n",
      "torch.Size([20, 4])\n",
      "torch.Size([20, 32])\n",
      "torch.Size([20, 4])\n",
      "torch.Size([20, 32])\n",
      "torch.Size([20, 4])\n",
      "torch.Size([20, 32])\n",
      "torch.Size([20, 4])\n",
      "torch.Size([20, 32])\n",
      "torch.Size([20, 4])\n",
      "torch.Size([20, 32])\n",
      "torch.Size([20, 4])\n",
      "torch.Size([20, 32])\n",
      "torch.Size([20, 4])\n",
      "torch.Size([20, 32])\n",
      "torch.Size([20, 4])\n",
      "torch.Size([20, 32])\n",
      "torch.Size([20, 4])\n",
      "torch.Size([20, 32])\n",
      "torch.Size([20, 4])\n",
      "torch.Size([20, 32])\n",
      "torch.Size([20, 4])\n",
      "torch.Size([20, 32])\n",
      "torch.Size([20, 4])\n",
      "torch.Size([20, 32])\n",
      "torch.Size([20, 4])\n",
      "torch.Size([20, 32])\n",
      "torch.Size([20, 4])\n",
      "torch.Size([20, 32])\n",
      "torch.Size([20, 4])\n",
      "torch.Size([20, 32])\n",
      "torch.Size([20, 4])\n",
      "torch.Size([20, 32])\n",
      "torch.Size([20, 4])\n",
      "torch.Size([20, 32])\n",
      "torch.Size([20, 4])\n",
      "torch.Size([20, 32])\n",
      "torch.Size([20, 4])\n",
      "torch.Size([20, 32])\n",
      "torch.Size([20, 4])\n",
      "torch.Size([20, 32])\n",
      "torch.Size([20, 4])\n",
      "torch.Size([20, 32])\n",
      "torch.Size([20, 4])\n",
      "torch.Size([20, 32])\n",
      "torch.Size([20, 4])\n",
      "torch.Size([20, 32])\n",
      "torch.Size([20, 4])\n",
      "torch.Size([20, 32])\n",
      "torch.Size([20, 4])\n",
      "torch.Size([20, 32])\n",
      "torch.Size([20, 4])\n",
      "torch.Size([20, 32])\n",
      "torch.Size([20, 4])\n",
      "torch.Size([20, 32])\n",
      "torch.Size([20, 4])\n",
      "torch.Size([20, 32])\n",
      "torch.Size([20, 4])\n",
      "torch.Size([20, 32])\n",
      "torch.Size([20, 4])\n",
      "torch.Size([20, 32])\n",
      "torch.Size([20, 4])\n",
      "torch.Size([20, 32])\n",
      "torch.Size([20, 4])\n",
      "torch.Size([20, 32])\n",
      "torch.Size([20, 4])\n",
      "torch.Size([20, 32])\n",
      "torch.Size([20, 4])\n",
      "torch.Size([20, 32])\n",
      "torch.Size([20, 4])\n",
      "torch.Size([20, 32])\n",
      "torch.Size([20, 4])\n",
      "torch.Size([20, 32])\n",
      "torch.Size([20, 4])\n",
      "torch.Size([20, 32])\n",
      "torch.Size([20, 4])\n",
      "torch.Size([20, 32])\n",
      "torch.Size([20, 4])\n",
      "torch.Size([20, 32])\n",
      "torch.Size([20, 4])\n",
      "torch.Size([20, 32])\n",
      "torch.Size([20, 4])\n",
      "torch.Size([20, 32])\n",
      "torch.Size([20, 4])\n",
      "torch.Size([20, 32])\n",
      "torch.Size([20, 4])\n",
      "torch.Size([20, 32])\n",
      "torch.Size([20, 4])\n",
      "torch.Size([20, 32])\n",
      "torch.Size([20, 4])\n",
      "torch.Size([20, 32])\n",
      "torch.Size([20, 4])\n",
      "torch.Size([20, 32])\n",
      "torch.Size([20, 4])\n",
      "torch.Size([20, 32])\n",
      "torch.Size([20, 4])\n",
      "torch.Size([20, 32])\n",
      "torch.Size([20, 4])\n",
      "torch.Size([20, 32])\n",
      "torch.Size([20, 4])\n",
      "torch.Size([20, 32])\n",
      "torch.Size([20, 4])\n",
      "torch.Size([20, 32])\n",
      "torch.Size([20, 4])\n",
      "torch.Size([20, 32])\n",
      "torch.Size([20, 4])\n",
      "torch.Size([20, 32])\n",
      "torch.Size([20, 4])\n",
      "torch.Size([20, 32])\n",
      "torch.Size([20, 4])\n",
      "torch.Size([20, 32])\n",
      "torch.Size([20, 4])\n",
      "torch.Size([20, 32])\n",
      "torch.Size([20, 4])\n",
      "torch.Size([20, 32])\n",
      "torch.Size([20, 4])\n",
      "torch.Size([20, 32])\n"
     ]
    },
    {
     "name": "stderr",
     "output_type": "stream",
     "text": [
      "100%|██████████| 1/1 [00:00<00:00,  2.92it/s]"
     ]
    },
    {
     "name": "stdout",
     "output_type": "stream",
     "text": [
      "torch.Size([20, 4])\n",
      "torch.Size([20, 32])\n",
      "torch.Size([20, 4])\n",
      "torch.Size([20, 32])\n",
      "torch.Size([20, 4])\n",
      "torch.Size([20, 32])\n",
      "torch.Size([20, 4])\n",
      "torch.Size([20, 32])\n",
      "torch.Size([20, 4])\n",
      "torch.Size([20, 32])\n",
      "torch.Size([20, 4])\n",
      "torch.Size([20, 32])\n",
      "torch.Size([20, 4])\n",
      "torch.Size([20, 32])\n",
      "torch.Size([20, 4])\n",
      "torch.Size([20, 32])\n",
      "torch.Size([20, 4])\n",
      "torch.Size([20, 32])\n",
      "torch.Size([20, 4])\n",
      "torch.Size([20, 32])\n",
      "torch.Size([20, 4])\n",
      "torch.Size([20, 32])\n",
      "torch.Size([20, 4])\n",
      "torch.Size([20, 32])\n",
      "torch.Size([20, 4])\n",
      "torch.Size([20, 32])\n",
      "torch.Size([20, 4])\n",
      "torch.Size([20, 32])\n",
      "torch.Size([20, 4])\n",
      "torch.Size([20, 32])\n",
      "torch.Size([20, 4])\n",
      "torch.Size([20, 32])\n",
      "torch.Size([20, 4])\n",
      "torch.Size([20, 32])\n",
      "torch.Size([20, 4])\n",
      "torch.Size([20, 32])\n",
      "torch.Size([20, 4])\n",
      "torch.Size([20, 32])\n",
      "torch.Size([20, 4])\n",
      "torch.Size([20, 32])\n",
      "torch.Size([20, 4])\n",
      "torch.Size([20, 32])\n",
      "torch.Size([20, 4])\n",
      "torch.Size([20, 32])\n",
      "torch.Size([20, 4])\n",
      "torch.Size([20, 32])\n",
      "torch.Size([20, 4])\n",
      "torch.Size([20, 32])\n",
      "torch.Size([20, 4])\n",
      "torch.Size([20, 32])\n",
      "torch.Size([20, 4])\n",
      "torch.Size([20, 32])\n",
      "torch.Size([20, 4])\n",
      "torch.Size([20, 32])\n",
      "torch.Size([20, 4])\n",
      "torch.Size([20, 32])\n",
      "torch.Size([20, 4])\n",
      "torch.Size([20, 32])\n",
      "torch.Size([20, 4])\n",
      "torch.Size([20, 32])\n",
      "torch.Size([20, 4])\n",
      "torch.Size([20, 32])\n",
      "torch.Size([20, 4])\n",
      "torch.Size([20, 32])\n",
      "torch.Size([20, 4])\n",
      "torch.Size([20, 32])\n",
      "torch.Size([20, 4])\n",
      "torch.Size([20, 32])\n",
      "torch.Size([20, 4])\n",
      "torch.Size([20, 32])\n"
     ]
    },
    {
     "name": "stderr",
     "output_type": "stream",
     "text": [
      "\n"
     ]
    }
   ],
   "source": [
    "from tqdm import tqdm\n",
    "\n",
    "model = RecurrentGCN(node_features = 4)\n",
    "\n",
    "optimizer = torch.optim.Adam(model.parameters(), lr=0.01)\n",
    "\n",
    "model.train()\n",
    "\n",
    "for epoch in tqdm(range(1)):\n",
    "    cost = 0\n",
    "    for time, snapshot in enumerate(train_dataset):\n",
    "        y_hat = model(snapshot.x, snapshot.edge_index, snapshot.edge_attr)\n",
    "        cost = cost + torch.mean((y_hat-snapshot.y)**2)\n",
    "    cost = cost / (time+1)\n",
    "    cost.backward()\n",
    "    optimizer.step()\n",
    "    optimizer.zero_grad()"
   ]
  },
  {
   "cell_type": "code",
   "execution_count": 11,
   "id": "763baf77",
   "metadata": {},
   "outputs": [
    {
     "data": {
      "text/plain": [
       "torch.Size([20, 1])"
      ]
     },
     "execution_count": 11,
     "metadata": {},
     "output_type": "execute_result"
    }
   ],
   "source": [
    "y_hat.shape"
   ]
  },
  {
   "cell_type": "code",
   "execution_count": 18,
   "id": "a70cc121",
   "metadata": {},
   "outputs": [],
   "source": [
    "import torch.nn as nn"
   ]
  },
  {
   "cell_type": "code",
   "execution_count": 46,
   "id": "70deedd9",
   "metadata": {},
   "outputs": [],
   "source": [
    "class EncoderModel(nn.Module):\n",
    "    def __init__(self, kernel_size, stride, conv1_dim, conv2_dim, fc_dim):\n",
    "        super(EncoderModel, self).__init__()\n",
    "        self.nodes_feas = 1\n",
    "        self.kernel_size = kernel_size\n",
    "        self.stride = stride\n",
    "        self.conv1_dim = conv1_dim\n",
    "        self.conv2_dim = conv2_dim\n",
    "        self.fc_dim = fc_dim\n",
    "        \n",
    "        self.conv1 = torch.nn.Conv1d(self.nodes_feas, self.conv1_dim, self.kernel_size, stride=self.stride)\n",
    "        self.conv2 = torch.nn.Conv1d(self.conv1_dim, self.conv2_dim, self.kernel_size, stride=self.stride)\n",
    "        self.fc = torch.nn.Linear(self.fc_dim, 1)\n",
    "        \n",
    "        self.bn1 = torch.nn.BatchNorm1d(self.conv1_dim)\n",
    "        self.bn2 = torch.nn.BatchNorm1d(self.conv2_dim)\n",
    "        \n",
    "\n",
    "    def forward(self, inputs):\n",
    "        if len(inputs.shape) == 2:\n",
    "            inputs = inputs.reshape(98, 1, -1)\n",
    "            \n",
    "        x = self.conv1(inputs)\n",
    "        x = F.relu(x)\n",
    "        print(x.shape)\n",
    "        x = self.bn1(x)\n",
    "        x = self.conv2(x)\n",
    "        x = F.relu(x)\n",
    "        print(x.shape)\n",
    "        x = self.bn2(x)\n",
    "        \n",
    "        x = x.view(98, -1)\n",
    "        \n",
    "        x = self.fc(x)\n",
    "        x = F.relu(x)\n",
    "        print(x.shape)        \n",
    "        \n",
    "        return x"
   ]
  },
  {
   "cell_type": "code",
   "execution_count": 47,
   "id": "bad40872",
   "metadata": {},
   "outputs": [],
   "source": [
    "input = torch.Tensor(98,212)"
   ]
  },
  {
   "cell_type": "code",
   "execution_count": 50,
   "id": "b3ccb67d",
   "metadata": {},
   "outputs": [],
   "source": [
    "embedding = EncoderModel(20, 5, 8, 16, 64)"
   ]
  },
  {
   "cell_type": "code",
   "execution_count": 51,
   "id": "07916da8",
   "metadata": {},
   "outputs": [
    {
     "name": "stdout",
     "output_type": "stream",
     "text": [
      "torch.Size([98, 8, 39])\n",
      "torch.Size([98, 16, 4])\n",
      "torch.Size([98, 1])\n"
     ]
    }
   ],
   "source": [
    "out = embedding(input)"
   ]
  },
  {
   "cell_type": "code",
   "execution_count": null,
   "id": "fbe9acb2",
   "metadata": {},
   "outputs": [],
   "source": []
  }
 ],
 "metadata": {
  "kernelspec": {
   "display_name": "Python 3 (ipykernel)",
   "language": "python",
   "name": "python3"
  },
  "language_info": {
   "codemirror_mode": {
    "name": "ipython",
    "version": 3
   },
   "file_extension": ".py",
   "mimetype": "text/x-python",
   "name": "python",
   "nbconvert_exporter": "python",
   "pygments_lexer": "ipython3",
   "version": "3.9.7"
  }
 },
 "nbformat": 4,
 "nbformat_minor": 5
}
