{
 "cells": [
  {
   "cell_type": "code",
   "execution_count": 1,
   "id": "8ce989bf",
   "metadata": {},
   "outputs": [],
   "source": [
    "import sys\n",
    "\n",
    "sys.path.append('../GraphStructureLearning')"
   ]
  },
  {
   "cell_type": "code",
   "execution_count": 2,
   "id": "330bed55",
   "metadata": {},
   "outputs": [],
   "source": [
    "from glob import glob\n",
    "import yaml\n",
    "from easydict import EasyDict as edict"
   ]
  },
  {
   "cell_type": "code",
   "execution_count": 3,
   "id": "d27fd5d1",
   "metadata": {},
   "outputs": [],
   "source": [
    "import pickle\n",
    "import os\n",
    "from os import path\n",
    "import torch\n",
    "import numpy\n",
    "\n",
    "from torch_geometric.data import Data"
   ]
  },
  {
   "cell_type": "code",
   "execution_count": 144,
   "id": "3789f043",
   "metadata": {},
   "outputs": [],
   "source": [
    "class MakeDataset:\n",
    "    def __init__(self, config):\n",
    "        super(MakeDataset, self).__init__()\n",
    "\n",
    "        self.data_dir = config.dataset.root\n",
    "        self.window_size = config.dataset.window_size\n",
    "        self.slide = config.dataset.slide\n",
    "        self.pred_step = config.dataset.pred_step\n",
    "        self.idx_ratio = config.dataset.idx_ratio\n",
    "        self.train_valid_test = config.dataset.train_valid_test\n",
    "        self.encoder_step = config.encoder_step\n",
    "        self.decoder_step = config.decoder_step\n",
    "        \n",
    "        self.load = None\n",
    "        \n",
    "        self.total_input_size = (self.encoder_step + self.decoder_step -1) * self.slide + self.window_size\n",
    "        self.batch_idx = int(self.total_input_size * self.idx_ratio)\n",
    "\n",
    "        self.save_dir = path.join(config.dataset.save, f'{config.dataset.name}_{self.window_size}_{self.slide}')\n",
    "\n",
    "        if path.exists(self.save_dir):\n",
    "            self.dataset = pickle.load(open(self.save_dir, 'rb'))\n",
    "            self.load = True\n",
    "        else:\n",
    "            self.spk_bin = pickle.load(open('./data/spk_bin_n100.pickle', 'rb'))\n",
    "            self.lam_bin = pickle.load(open('./data/lam_bin_n100.pickle', 'rb'))\n",
    "            self.load = False\n",
    "\n",
    "    def _save_dataset(self):\n",
    "        pass\n",
    "\n",
    "    def _valid_sampling(self, i):\n",
    "        if i == 0:\n",
    "            start = 0\n",
    "            total_length = self.train_valid_test[i]\n",
    "        else:\n",
    "            start = self.train_valid_test[i - 1]\n",
    "            total_length = self.train_valid_test[i] - self.train_valid_test[i - 1]\n",
    "\n",
    "        valid_sampling_locations = []\n",
    "        valid_sampling_locations += [\n",
    "            i\n",
    "            for i in range(start, start + total_length + 1 - self.pred_step - self.total_input_size)\n",
    "            if (i % self.batch_idx) == 0\n",
    "        ]\n",
    "        \n",
    "        return valid_sampling_locations\n",
    "\n",
    "    def _split(self, i):\n",
    "        if i == 0:\n",
    "            data = self.spk_bin[:self.train_valid_test[i]]\n",
    "            lam = self.lam_bin[:self.train_valid_test[i]]\n",
    "        else:\n",
    "            data = self.spk_bin[self.train_valid_test[i - 1]:self.train_valid_test[i]]\n",
    "            lam = self.lam_bin[self.train_valid_test[i - 1]:self.train_valid_test[i]]\n",
    "\n",
    "        return data, lam\n",
    "\n",
    "    def make(self):\n",
    "        data_dict = {'train': None,\n",
    "                     'valid': None,\n",
    "                     'test': None}\n",
    "\n",
    "        if not self.load:\n",
    "            for i, types in enumerate(list(data_dict.keys())):\n",
    "                data, lam = self._split(i)\n",
    "                valid_sampling_locations = self._valid_sampling(i)\n",
    "\n",
    "                data_list = []\n",
    "                for start_idx in valid_sampling_locations:\n",
    "                    spike_input = data[:, start_idx:start_idx + self.total_input_size]\n",
    "                    lam_output = lam[:, start_idx+self.encoder_step*self.slide+self.window_size:start_idx+self.total_input_size+self.pred_step]\n",
    "                    \n",
    "                    print(start_idx+self.encoder_step*self.slide+self.window_size)\n",
    "                    print(start_idx+self.total_input_size+self.pred_step)\n",
    "                    data_item = Data(x=torch.FloatTensor(spike_input), edge_index=None, y=torch.FloatTensor(lam_output))\n",
    "                    data_list.append(data_item)\n",
    "\n",
    "                if types == 'train':\n",
    "                    data_dict['train'] = data_list\n",
    "                elif types == 'valid':\n",
    "                    data_dict['valid'] = data_list\n",
    "                elif types == 'test':\n",
    "                    data_dict['test'] = data_list\n",
    "\n",
    "#                 pickle.dump(data_dict, open(self.save_dir, 'wb'))\n",
    "\n",
    "            return data_dict\n",
    "\n",
    "        else:\n",
    "            return self.dataset\n"
   ]
  },
  {
   "cell_type": "code",
   "execution_count": 145,
   "id": "92367cda",
   "metadata": {},
   "outputs": [],
   "source": [
    "config_file = glob('./config/GTS/*.yaml')[0]\n",
    "config = edict(yaml.load(open(config_file, 'r'), Loader=yaml.FullLoader))"
   ]
  },
  {
   "cell_type": "code",
   "execution_count": 149,
   "id": "8853471a",
   "metadata": {},
   "outputs": [],
   "source": [
    "config.decoder_step =10"
   ]
  },
  {
   "cell_type": "code",
   "execution_count": 150,
   "id": "120f1c37",
   "metadata": {},
   "outputs": [],
   "source": [
    "data = MakeDataset(config)"
   ]
  },
  {
   "cell_type": "code",
   "execution_count": 151,
   "id": "1e154e50",
   "metadata": {},
   "outputs": [
    {
     "data": {
      "text/plain": [
       "1150"
      ]
     },
     "execution_count": 151,
     "metadata": {},
     "output_type": "execute_result"
    }
   ],
   "source": [
    "data.total_input_size"
   ]
  },
  {
   "cell_type": "code",
   "execution_count": 152,
   "id": "91933a38",
   "metadata": {},
   "outputs": [
    {
     "name": "stdout",
     "output_type": "stream",
     "text": [
      "700\n",
      "1200\n",
      "1275\n",
      "1775\n",
      "1850\n",
      "2350\n",
      "2425\n",
      "2925\n",
      "3000\n",
      "3500\n",
      "3575\n",
      "4075\n",
      "4150\n",
      "4650\n",
      "4725\n",
      "5225\n",
      "5300\n",
      "5800\n",
      "5875\n",
      "6375\n",
      "6450\n",
      "6950\n",
      "7025\n",
      "7525\n",
      "7600\n",
      "8100\n",
      "8175\n",
      "8675\n",
      "8750\n",
      "9250\n",
      "9325\n",
      "9825\n",
      "9900\n",
      "10400\n",
      "10475\n",
      "10975\n",
      "11050\n",
      "11550\n",
      "11625\n",
      "12125\n",
      "12200\n",
      "12700\n",
      "12775\n",
      "13275\n",
      "13350\n",
      "13850\n",
      "13925\n",
      "14425\n",
      "14500\n",
      "15000\n",
      "15075\n",
      "15575\n",
      "15650\n",
      "16150\n",
      "16225\n",
      "16725\n",
      "16800\n",
      "17300\n",
      "17375\n",
      "17875\n",
      "17950\n",
      "18450\n",
      "18525\n",
      "19025\n",
      "19100\n",
      "19600\n",
      "19675\n",
      "20175\n",
      "20250\n",
      "20750\n",
      "20825\n",
      "21325\n",
      "21400\n",
      "21900\n",
      "21975\n",
      "22475\n",
      "22550\n",
      "23050\n",
      "23125\n",
      "23625\n",
      "23700\n",
      "24200\n",
      "24275\n",
      "24775\n",
      "24850\n",
      "25350\n",
      "25425\n",
      "25925\n",
      "26000\n",
      "26500\n",
      "26575\n",
      "27075\n",
      "27150\n",
      "27650\n",
      "27725\n",
      "28225\n",
      "28300\n",
      "28800\n",
      "28875\n",
      "29375\n",
      "29450\n",
      "29950\n",
      "30025\n",
      "30525\n",
      "30600\n",
      "31100\n",
      "31175\n",
      "31675\n",
      "31750\n",
      "32250\n",
      "32325\n",
      "32825\n",
      "32900\n",
      "33400\n",
      "33475\n",
      "33975\n",
      "34050\n",
      "34550\n",
      "34625\n",
      "35125\n",
      "35200\n",
      "35700\n",
      "35775\n",
      "36275\n",
      "36350\n",
      "36850\n",
      "36925\n",
      "37425\n",
      "37500\n",
      "38000\n",
      "38075\n",
      "38575\n",
      "38650\n",
      "39150\n",
      "39225\n",
      "39725\n",
      "40950\n",
      "41450\n",
      "41525\n",
      "42025\n",
      "42100\n",
      "42600\n",
      "42675\n",
      "43175\n",
      "43250\n",
      "43750\n",
      "44975\n",
      "45475\n",
      "45550\n",
      "46050\n",
      "46125\n",
      "46625\n",
      "46700\n",
      "47200\n",
      "47275\n",
      "47775\n"
     ]
    }
   ],
   "source": [
    "a = data.make()"
   ]
  },
  {
   "cell_type": "code",
   "execution_count": 153,
   "id": "cb32899f",
   "metadata": {},
   "outputs": [],
   "source": [
    "from torch_geometric.loader import DataLoader"
   ]
  },
  {
   "cell_type": "code",
   "execution_count": 154,
   "id": "632cfe43",
   "metadata": {},
   "outputs": [],
   "source": [
    "d = DataLoader(a['train'], batch_size=1)"
   ]
  },
  {
   "cell_type": "code",
   "execution_count": 155,
   "id": "13867e5f",
   "metadata": {},
   "outputs": [
    {
     "data": {
      "text/plain": [
       "DataBatch(x=[100, 1150], y=[100, 500], batch=[100], ptr=[2])"
      ]
     },
     "execution_count": 155,
     "metadata": {},
     "output_type": "execute_result"
    }
   ],
   "source": [
    "next(iter(d))"
   ]
  },
  {
   "cell_type": "code",
   "execution_count": 123,
   "id": "bd506386",
   "metadata": {},
   "outputs": [],
   "source": [
    "for batch in d:\n",
    "    pass"
   ]
  },
  {
   "cell_type": "code",
   "execution_count": 92,
   "id": "52bf8ec0",
   "metadata": {},
   "outputs": [
    {
     "data": {
      "text/plain": [
       "DataBatch(x=[100, 800], y=[100, 50], batch=[100], ptr=[2])"
      ]
     },
     "execution_count": 92,
     "metadata": {},
     "output_type": "execute_result"
    }
   ],
   "source": [
    "batch"
   ]
  },
  {
   "cell_type": "code",
   "execution_count": 99,
   "id": "23e24f16",
   "metadata": {},
   "outputs": [
    {
     "data": {
      "text/plain": [
       "torch.Size([100, 100])"
      ]
     },
     "execution_count": 99,
     "metadata": {},
     "output_type": "execute_result"
    }
   ],
   "source": [
    "batch.x[:, 100:200].shape"
   ]
  },
  {
   "cell_type": "code",
   "execution_count": 105,
   "id": "e6409042",
   "metadata": {},
   "outputs": [
    {
     "data": {
      "text/plain": [
       "torch.Size([100, 50])"
      ]
     },
     "execution_count": 105,
     "metadata": {},
     "output_type": "execute_result"
    }
   ],
   "source": [
    "batch.y.shape"
   ]
  },
  {
   "cell_type": "code",
   "execution_count": 101,
   "id": "070d8edb",
   "metadata": {},
   "outputs": [],
   "source": [
    "total_input_size = 800"
   ]
  },
  {
   "cell_type": "code",
   "execution_count": 102,
   "id": "a7401339",
   "metadata": {},
   "outputs": [],
   "source": [
    "        valid_sampling_locations = []\n",
    "        valid_sampling_locations += [\n",
    "            i\n",
    "            for i in range(0, total_input_size)\n",
    "            if (i % 50) == 0\n",
    "        ]"
   ]
  },
  {
   "cell_type": "code",
   "execution_count": 103,
   "id": "47f99791",
   "metadata": {},
   "outputs": [
    {
     "data": {
      "text/plain": [
       "[0, 50, 100, 150, 200, 250, 300, 350, 400, 450, 500, 550, 600, 650, 700, 750]"
      ]
     },
     "execution_count": 103,
     "metadata": {},
     "output_type": "execute_result"
    }
   ],
   "source": [
    "valid_sampling_locations"
   ]
  },
  {
   "cell_type": "code",
   "execution_count": 104,
   "id": "daa2e84d",
   "metadata": {},
   "outputs": [
    {
     "data": {
      "text/plain": [
       "16"
      ]
     },
     "execution_count": 104,
     "metadata": {},
     "output_type": "execute_result"
    }
   ],
   "source": [
    "len(valid_sampling_locations)"
   ]
  },
  {
   "cell_type": "code",
   "execution_count": null,
   "id": "58f969af",
   "metadata": {},
   "outputs": [],
   "source": []
  }
 ],
 "metadata": {
  "kernelspec": {
   "display_name": "Python 3 (ipykernel)",
   "language": "python",
   "name": "python3"
  },
  "language_info": {
   "codemirror_mode": {
    "name": "ipython",
    "version": 3
   },
   "file_extension": ".py",
   "mimetype": "text/x-python",
   "name": "python",
   "nbconvert_exporter": "python",
   "pygments_lexer": "ipython3",
   "version": "3.9.7"
  }
 },
 "nbformat": 4,
 "nbformat_minor": 5
}
