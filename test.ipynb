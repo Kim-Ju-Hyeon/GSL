{
 "cells": [
  {
   "cell_type": "code",
   "execution_count": 1,
   "id": "8ce989bf",
   "metadata": {},
   "outputs": [],
   "source": [
    "import sys\n",
    "\n",
    "sys.path.append('../GraphStructureLearning')"
   ]
  },
  {
   "cell_type": "code",
   "execution_count": 2,
   "id": "330bed55",
   "metadata": {},
   "outputs": [],
   "source": [
    "from glob import glob\n",
    "import yaml\n",
    "from easydict import EasyDict as edict"
   ]
  },
  {
   "cell_type": "code",
   "execution_count": 3,
   "id": "d27fd5d1",
   "metadata": {},
   "outputs": [],
   "source": [
    "import pickle\n",
    "import os\n",
    "from os import path\n",
    "import torch\n",
    "import numpy as np\n",
    "\n",
    "from torch_geometric.data import Data"
   ]
  },
  {
   "cell_type": "code",
   "execution_count": 4,
   "id": "4febcc89",
   "metadata": {},
   "outputs": [],
   "source": [
    "from torch_geometric.utils import dense_to_sparse\n",
    "from dataset.make_traffic_dataset import TrafficDatasetLoader\n",
    "from utils.utils import build_fully_connected_edge_idx"
   ]
  },
  {
   "cell_type": "code",
   "execution_count": 5,
   "id": "63e9d9e1",
   "metadata": {},
   "outputs": [],
   "source": [
    "from models.GTS.self_attention_graph_learning import Attention_Graph_Learning\n",
    "from models.GTS.gts_graph_learning import GTS_Graph_Learning\n",
    "\n",
    "from torch.nn import functional as F\n"
   ]
  },
  {
   "cell_type": "code",
   "execution_count": 6,
   "id": "92367cda",
   "metadata": {},
   "outputs": [],
   "source": [
    "config_file = glob('./config/GTS/metr_la.yaml')[0]\n",
    "config = edict(yaml.load(open(config_file, 'r'), Loader=yaml.FullLoader))"
   ]
  },
  {
   "cell_type": "code",
   "execution_count": 7,
   "id": "9622ba6e",
   "metadata": {},
   "outputs": [],
   "source": [
    "model = Attention_Graph_Learning(config)"
   ]
  },
  {
   "cell_type": "code",
   "execution_count": 8,
   "id": "1b395e80",
   "metadata": {},
   "outputs": [
    {
     "data": {
      "text/plain": [
       "Attention_Graph_Learning(\n",
       "  (attention_gl): GraphLearningMultiHeadAttention(\n",
       "    (dropout): Dropout(p=0.5, inplace=False)\n",
       "    (q_layers): ModuleList(\n",
       "      (0): Linear(in_features=512, out_features=128, bias=False)\n",
       "      (1): Linear(in_features=512, out_features=128, bias=False)\n",
       "      (2): Linear(in_features=512, out_features=128, bias=False)\n",
       "      (3): Linear(in_features=512, out_features=128, bias=False)\n",
       "    )\n",
       "    (k_layers): ModuleList(\n",
       "      (0): Linear(in_features=512, out_features=128, bias=False)\n",
       "      (1): Linear(in_features=512, out_features=128, bias=False)\n",
       "      (2): Linear(in_features=512, out_features=128, bias=False)\n",
       "      (3): Linear(in_features=512, out_features=128, bias=False)\n",
       "    )\n",
       "    (attention): GraphLearningScaledDotProductAttention(\n",
       "      (dropout): Dropout(p=0.4, inplace=False)\n",
       "      (softmax): Softmax(dim=1)\n",
       "    )\n",
       "    (output): Linear(in_features=828, out_features=207, bias=True)\n",
       "  )\n",
       "  (fc_concat): Linear(in_features=1472, out_features=512, bias=True)\n",
       "  (hidden_drop): Dropout(p=0.4, inplace=False)\n",
       "  (feature_extracotr): ModuleList(\n",
       "    (0): Conv1d(2, 16, kernel_size=(200,), stride=(20,))\n",
       "    (1): Conv1d(16, 32, kernel_size=(100,), stride=(10,))\n",
       "    (2): Conv1d(32, 64, kernel_size=(50,), stride=(5,))\n",
       "  )\n",
       "  (feature_batchnorm): ModuleList(\n",
       "    (0): BatchNorm1d(16, eps=1e-05, momentum=0.1, affine=True, track_running_stats=True)\n",
       "    (1): BatchNorm1d(32, eps=1e-05, momentum=0.1, affine=True, track_running_stats=True)\n",
       "    (2): BatchNorm1d(64, eps=1e-05, momentum=0.1, affine=True, track_running_stats=True)\n",
       "    (3): BatchNorm1d(512, eps=1e-05, momentum=0.1, affine=True, track_running_stats=True)\n",
       "  )\n",
       ")"
      ]
     },
     "execution_count": 8,
     "metadata": {},
     "output_type": "execute_result"
    }
   ],
   "source": [
    "model"
   ]
  },
  {
   "cell_type": "code",
   "execution_count": 9,
   "id": "b4061684",
   "metadata": {},
   "outputs": [],
   "source": [
    "metr = TrafficDatasetLoader(raw_data_dir='./data/METR-LA', dataset_name='METR-LA')\n",
    "data_list, X = metr.get_dataset(12, 3, 1)"
   ]
  },
  {
   "cell_type": "code",
   "execution_count": 10,
   "id": "b50e3170",
   "metadata": {},
   "outputs": [],
   "source": [
    "out = model(X, _)"
   ]
  },
  {
   "cell_type": "code",
   "execution_count": 20,
   "id": "6a1c0357",
   "metadata": {},
   "outputs": [
    {
     "data": {
      "text/plain": [
       "torch.Size([207, 207])"
      ]
     },
     "execution_count": 20,
     "metadata": {},
     "output_type": "execute_result"
    }
   ],
   "source": [
    "out.shape"
   ]
  },
  {
   "cell_type": "code",
   "execution_count": 11,
   "id": "acde5be1",
   "metadata": {},
   "outputs": [],
   "source": [
    "edge_probability = F.gumbel_softmax(out, hard=True)"
   ]
  },
  {
   "cell_type": "code",
   "execution_count": 12,
   "id": "7ca2e0b8",
   "metadata": {},
   "outputs": [
    {
     "data": {
      "text/plain": [
       "tensor([[0., 0., 0.,  ..., 0., 0., 0.],\n",
       "        [0., 0., 0.,  ..., 0., 0., 0.],\n",
       "        [0., 0., 0.,  ..., 0., 0., 0.],\n",
       "        ...,\n",
       "        [0., 0., 0.,  ..., 0., 0., 0.],\n",
       "        [0., 0., 0.,  ..., 0., 0., 0.],\n",
       "        [0., 0., 0.,  ..., 0., 0., 0.]], grad_fn=<AddBackward0>)"
      ]
     },
     "execution_count": 12,
     "metadata": {},
     "output_type": "execute_result"
    }
   ],
   "source": [
    "edge_probability"
   ]
  },
  {
   "cell_type": "code",
   "execution_count": 21,
   "id": "77f2a6c5",
   "metadata": {},
   "outputs": [],
   "source": [
    "from torch_geometric.utils import to_undirected, to_dense_adj, dense_to_sparse\n"
   ]
  },
  {
   "cell_type": "code",
   "execution_count": 23,
   "id": "30f77281",
   "metadata": {},
   "outputs": [],
   "source": [
    "a, b =dense_to_sparse(edge_probability)"
   ]
  },
  {
   "cell_type": "code",
   "execution_count": 25,
   "id": "e083a799",
   "metadata": {},
   "outputs": [
    {
     "data": {
      "text/plain": [
       "torch.Size([2, 207])"
      ]
     },
     "execution_count": 25,
     "metadata": {},
     "output_type": "execute_result"
    }
   ],
   "source": [
    "a.shape"
   ]
  },
  {
   "cell_type": "code",
   "execution_count": 26,
   "id": "c96224f4",
   "metadata": {},
   "outputs": [
    {
     "data": {
      "text/plain": [
       "torch.Size([207])"
      ]
     },
     "execution_count": 26,
     "metadata": {},
     "output_type": "execute_result"
    }
   ],
   "source": [
    "b.shape"
   ]
  },
  {
   "cell_type": "code",
   "execution_count": 27,
   "id": "b0713fcd",
   "metadata": {},
   "outputs": [
    {
     "data": {
      "text/plain": [
       "tensor([1., 1., 1., 1., 1., 1., 1., 1., 1., 1., 1., 1., 1., 1., 1., 1., 1., 1.,\n",
       "        1., 1., 1., 1., 1., 1., 1., 1., 1., 1., 1., 1., 1., 1., 1., 1., 1., 1.,\n",
       "        1., 1., 1., 1., 1., 1., 1., 1., 1., 1., 1., 1., 1., 1., 1., 1., 1., 1.,\n",
       "        1., 1., 1., 1., 1., 1., 1., 1., 1., 1., 1., 1., 1., 1., 1., 1., 1., 1.,\n",
       "        1., 1., 1., 1., 1., 1., 1., 1., 1., 1., 1., 1., 1., 1., 1., 1., 1., 1.,\n",
       "        1., 1., 1., 1., 1., 1., 1., 1., 1., 1., 1., 1., 1., 1., 1., 1., 1., 1.,\n",
       "        1., 1., 1., 1., 1., 1., 1., 1., 1., 1., 1., 1., 1., 1., 1., 1., 1., 1.,\n",
       "        1., 1., 1., 1., 1., 1., 1., 1., 1., 1., 1., 1., 1., 1., 1., 1., 1., 1.,\n",
       "        1., 1., 1., 1., 1., 1., 1., 1., 1., 1., 1., 1., 1., 1., 1., 1., 1., 1.,\n",
       "        1., 1., 1., 1., 1., 1., 1., 1., 1., 1., 1., 1., 1., 1., 1., 1., 1., 1.,\n",
       "        1., 1., 1., 1., 1., 1., 1., 1., 1., 1., 1., 1., 1., 1., 1., 1., 1., 1.,\n",
       "        1., 1., 1., 1., 1., 1., 1., 1., 1.], grad_fn=<IndexBackward0>)"
      ]
     },
     "execution_count": 27,
     "metadata": {},
     "output_type": "execute_result"
    }
   ],
   "source": [
    "b"
   ]
  },
  {
   "cell_type": "code",
   "execution_count": null,
   "id": "2cb993ef",
   "metadata": {},
   "outputs": [],
   "source": []
  }
 ],
 "metadata": {
  "kernelspec": {
   "display_name": "Python 3 (ipykernel)",
   "language": "python",
   "name": "python3"
  },
  "language_info": {
   "codemirror_mode": {
    "name": "ipython",
    "version": 3
   },
   "file_extension": ".py",
   "mimetype": "text/x-python",
   "name": "python",
   "nbconvert_exporter": "python",
   "pygments_lexer": "ipython3",
   "version": "3.8.12"
  }
 },
 "nbformat": 4,
 "nbformat_minor": 5
}
