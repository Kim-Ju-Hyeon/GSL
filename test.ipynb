{
 "cells": [
  {
   "cell_type": "code",
   "execution_count": 1,
   "id": "8ce989bf",
   "metadata": {},
   "outputs": [],
   "source": [
    "import sys\n",
    "\n",
    "sys.path.append('../GraphStructureLearning')"
   ]
  },
  {
   "cell_type": "code",
   "execution_count": 2,
   "id": "330bed55",
   "metadata": {},
   "outputs": [],
   "source": [
    "from glob import glob\n",
    "import yaml\n",
    "from easydict import EasyDict as edict"
   ]
  },
  {
   "cell_type": "code",
   "execution_count": 3,
   "id": "d27fd5d1",
   "metadata": {},
   "outputs": [],
   "source": [
    "import pickle\n",
    "import os\n",
    "from os import path\n",
    "import torch\n",
    "import numpy as np\n",
    "\n",
    "from torch_geometric.data import Data"
   ]
  },
  {
   "cell_type": "code",
   "execution_count": 10,
   "id": "4febcc89",
   "metadata": {},
   "outputs": [],
   "source": [
    "from torch_geometric.utils import dense_to_sparse\n"
   ]
  },
  {
   "cell_type": "code",
   "execution_count": 4,
   "id": "92367cda",
   "metadata": {},
   "outputs": [],
   "source": [
    "config_file = glob('./config/GTS/*.yaml')[0]\n",
    "config = edict(yaml.load(open(config_file, 'r'), Loader=yaml.FullLoader))"
   ]
  },
  {
   "cell_type": "code",
   "execution_count": 8,
   "id": "58f969af",
   "metadata": {},
   "outputs": [],
   "source": [
    "A = np.array([[1,1,0], [1,0,1], [0,1,0]])"
   ]
  },
  {
   "cell_type": "code",
   "execution_count": 30,
   "id": "b884af0a",
   "metadata": {},
   "outputs": [],
   "source": [
    "A = np.array([[5,2,0], [3,0,2], [0,2,0]])"
   ]
  },
  {
   "cell_type": "code",
   "execution_count": 16,
   "id": "b9309f4f",
   "metadata": {},
   "outputs": [
    {
     "data": {
      "text/plain": [
       "array([[2, 1, 1],\n",
       "       [1, 2, 0],\n",
       "       [1, 0, 1]])"
      ]
     },
     "execution_count": 16,
     "metadata": {},
     "output_type": "execute_result"
    }
   ],
   "source": [
    "A_2 = np.matmul(A,A)\n",
    "A_2"
   ]
  },
  {
   "cell_type": "code",
   "execution_count": 17,
   "id": "486b24b6",
   "metadata": {},
   "outputs": [],
   "source": [
    "D = np.array([[2,0,0], [0,2,0], [0,0,1]])"
   ]
  },
  {
   "cell_type": "code",
   "execution_count": 20,
   "id": "2686bc56",
   "metadata": {},
   "outputs": [],
   "source": [
    "D_ = np.linalg.inv(D)"
   ]
  },
  {
   "cell_type": "code",
   "execution_count": 31,
   "id": "6d4de2fd",
   "metadata": {},
   "outputs": [
    {
     "data": {
      "text/plain": [
       "array([[0.5, 0. , 0. ],\n",
       "       [0. , 0.5, 0. ],\n",
       "       [0. , 0. , 1. ]])"
      ]
     },
     "execution_count": 31,
     "metadata": {},
     "output_type": "execute_result"
    }
   ],
   "source": [
    "D_"
   ]
  },
  {
   "cell_type": "code",
   "execution_count": 32,
   "id": "5842e3b8",
   "metadata": {},
   "outputs": [],
   "source": [
    "t = np.matmul(D_, A)"
   ]
  },
  {
   "cell_type": "code",
   "execution_count": 33,
   "id": "65a23198",
   "metadata": {},
   "outputs": [
    {
     "data": {
      "text/plain": [
       "array([[2.5, 1. , 0. ],\n",
       "       [1.5, 0. , 1. ],\n",
       "       [0. , 2. , 0. ]])"
      ]
     },
     "execution_count": 33,
     "metadata": {},
     "output_type": "execute_result"
    }
   ],
   "source": [
    "t"
   ]
  },
  {
   "cell_type": "code",
   "execution_count": 34,
   "id": "ce3d08ec",
   "metadata": {},
   "outputs": [],
   "source": [
    "t_2 = np.matmul(t,t)"
   ]
  },
  {
   "cell_type": "code",
   "execution_count": 35,
   "id": "07bac141",
   "metadata": {},
   "outputs": [
    {
     "data": {
      "text/plain": [
       "array([[7.75, 2.5 , 1.  ],\n",
       "       [3.75, 3.5 , 0.  ],\n",
       "       [3.  , 0.  , 2.  ]])"
      ]
     },
     "execution_count": 35,
     "metadata": {},
     "output_type": "execute_result"
    }
   ],
   "source": [
    "t_2"
   ]
  },
  {
   "cell_type": "code",
   "execution_count": 36,
   "id": "ba4b470d",
   "metadata": {},
   "outputs": [],
   "source": [
    "t_3 = np.matmul(t_2, t)"
   ]
  },
  {
   "cell_type": "code",
   "execution_count": 37,
   "id": "33a63495",
   "metadata": {},
   "outputs": [
    {
     "data": {
      "text/plain": [
       "array([[23.125,  9.75 ,  2.5  ],\n",
       "       [14.625,  3.75 ,  3.5  ],\n",
       "       [ 7.5  ,  7.   ,  0.   ]])"
      ]
     },
     "execution_count": 37,
     "metadata": {},
     "output_type": "execute_result"
    }
   ],
   "source": [
    "t_3"
   ]
  },
  {
   "cell_type": "code",
   "execution_count": 15,
   "id": "3da59463",
   "metadata": {},
   "outputs": [],
   "source": [
    "a = torch.Tensor(100,100) + 1"
   ]
  },
  {
   "cell_type": "code",
   "execution_count": 16,
   "id": "f542be19",
   "metadata": {},
   "outputs": [],
   "source": [
    "outputs, attr = dense_to_sparse(a)"
   ]
  },
  {
   "cell_type": "code",
   "execution_count": 17,
   "id": "cad8f616",
   "metadata": {},
   "outputs": [
    {
     "data": {
      "text/plain": [
       "tensor([[ 0,  0,  0,  ..., 99, 99, 99],\n",
       "        [ 0,  1,  2,  ..., 97, 98, 99]])"
      ]
     },
     "execution_count": 17,
     "metadata": {},
     "output_type": "execute_result"
    }
   ],
   "source": [
    "outputs"
   ]
  },
  {
   "cell_type": "code",
   "execution_count": 18,
   "id": "41f76301",
   "metadata": {},
   "outputs": [
    {
     "data": {
      "text/plain": [
       "torch.Size([10000])"
      ]
     },
     "execution_count": 18,
     "metadata": {},
     "output_type": "execute_result"
    }
   ],
   "source": [
    "attr.shape"
   ]
  },
  {
   "cell_type": "code",
   "execution_count": 19,
   "id": "40a8de59",
   "metadata": {},
   "outputs": [
    {
     "data": {
      "text/plain": [
       "torch.Size([2, 10000])"
      ]
     },
     "execution_count": 19,
     "metadata": {},
     "output_type": "execute_result"
    }
   ],
   "source": [
    "outputs.shape"
   ]
  },
  {
   "cell_type": "code",
   "execution_count": null,
   "id": "9622ba6e",
   "metadata": {},
   "outputs": [],
   "source": []
  }
 ],
 "metadata": {
  "kernelspec": {
   "display_name": "Python 3 (ipykernel)",
   "language": "python",
   "name": "python3"
  },
  "language_info": {
   "codemirror_mode": {
    "name": "ipython",
    "version": 3
   },
   "file_extension": ".py",
   "mimetype": "text/x-python",
   "name": "python",
   "nbconvert_exporter": "python",
   "pygments_lexer": "ipython3",
   "version": "3.8.12"
  }
 },
 "nbformat": 4,
 "nbformat_minor": 5
}
