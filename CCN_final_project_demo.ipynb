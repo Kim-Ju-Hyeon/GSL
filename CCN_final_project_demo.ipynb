{
 "cells": [
  {
   "cell_type": "code",
   "execution_count": 1,
   "id": "50bd77d3",
   "metadata": {},
   "outputs": [],
   "source": [
    "import sys\n",
    "\n",
    "sys.path.append('../GraphStructureLearning')"
   ]
  },
  {
   "cell_type": "code",
   "execution_count": 2,
   "id": "9bb64fde",
   "metadata": {},
   "outputs": [],
   "source": [
    "import torch\n",
    "import torch.nn as nn\n",
    "from torch.nn import functional as F\n",
    "import numpy as np\n",
    "import pickle\n",
    "import matplotlib.pyplot as plt"
   ]
  },
  {
   "cell_type": "code",
   "execution_count": 3,
   "id": "133b42eb",
   "metadata": {},
   "outputs": [],
   "source": [
    "from torch_geometric.data import Data\n",
    "from torch_geometric.loader import DataLoader"
   ]
  },
  {
   "cell_type": "code",
   "execution_count": 4,
   "id": "b64d9c0b",
   "metadata": {},
   "outputs": [],
   "source": [
    "dataset = pickle.load(open('./data/CCN/monkeydata.pickle', 'rb'))"
   ]
  },
  {
   "cell_type": "code",
   "execution_count": 5,
   "id": "4b6db47b",
   "metadata": {},
   "outputs": [
    {
     "data": {
      "text/plain": [
       "torch.Size([8, 100, 101, 742])"
      ]
     },
     "execution_count": 5,
     "metadata": {},
     "output_type": "execute_result"
    }
   ],
   "source": [
    "dataset.shape"
   ]
  },
  {
   "cell_type": "code",
   "execution_count": 6,
   "id": "0f6b9de3",
   "metadata": {},
   "outputs": [],
   "source": [
    "dataset = dataset.reshape(-1, 101, 742)"
   ]
  },
  {
   "cell_type": "code",
   "execution_count": 7,
   "id": "ce7b087f",
   "metadata": {},
   "outputs": [],
   "source": [
    "train_valid_test = dataset[:, :98, :]\n",
    "target = dataset[:, 98:, :]"
   ]
  },
  {
   "cell_type": "code",
   "execution_count": null,
   "id": "a5462f8f",
   "metadata": {},
   "outputs": [],
   "source": [
    "class EncoderModel(nn.Module):\n",
    "    def __init__(self, config):\n",
    "        super(EncoderModel, self).__init__()\n",
    "\n",
    "        # self.embedding_layer = nn.Linear(config.dataset.window_size, config.embedding_dim)\n",
    "        self.num_nodes = config.nodes_num\n",
    "\n",
    "        self.kernel_size = config.embedding.kernel_size\n",
    "        self.stride = config.embedding.stride\n",
    "        self.conv1_dim = config.embedding.conv1_dim\n",
    "        self.conv2_dim = config.embedding.conv2_dim\n",
    "        self.fc_dim = config.embedding.fc_dim\n",
    "\n",
    "        self.nodes_feas = config.node_features\n",
    "\n",
    "        self.conv1 = torch.nn.Conv1d(self.nodes_feas, self.conv1_dim, self.kernel_size, stride=self.stride)\n",
    "        self.conv2 = torch.nn.Conv1d(self.conv1_dim, self.conv2_dim, self.kernel_size, stride=self.stride)\n",
    "        self.fc = torch.nn.Linear(self.fc_dim, 1)\n",
    "\n",
    "        self.bn1 = torch.nn.BatchNorm1d(self.conv1_dim)\n",
    "        self.bn2 = torch.nn.BatchNorm1d(self.conv2_dim)\n",
    "\n",
    "        self.encoder_dcrnn = DCRNN(config)\n",
    "\n",
    "    def forward(self, inputs, adj, hidden_state=None):\n",
    "        batch_nodes = inputs.shape[0]\n",
    "        if len(inputs.shape) == 2:\n",
    "            inputs = inputs.reshape(batch_nodes, 1, -1)\n",
    "        x = self.conv1(inputs)\n",
    "        x = F.relu(x)\n",
    "        x = self.bn1(x)\n",
    "        x = self.conv2(x)\n",
    "        x = F.relu(x)\n",
    "        x = self.bn2(x)\n",
    "\n",
    "        x = x.view(batch_nodes, -1)\n",
    "\n",
    "        x = self.fc(x)\n",
    "        x = F.relu(x)\n",
    "\n",
    "        hidden_state = self.encoder_dcrnn(x, adj, hidden_state)\n",
    "        return hidden_state"
   ]
  },
  {
   "cell_type": "code",
   "execution_count": null,
   "id": "eef55500",
   "metadata": {},
   "outputs": [],
   "source": [
    "import torch\n",
    "import torch.nn.functional as F\n",
    "from torch_geometric_temporal.nn.recurrent import DCRNN\n",
    "\n",
    "class RecurrentGCN(torch.nn.Module):\n",
    "    def __init__(self, node_features):\n",
    "        super(RecurrentGCN, self).__init__()\n",
    "        self.recurrent = DCRNN(node_features, 16, 1)\n",
    "        self.linear = torch.nn.Linear(16, 3)\n",
    "\n",
    "    def forward(self, x, edge_index):\n",
    "        h = self.recurrent(x, edge_index)\n",
    "        h = F.relu(h)\n",
    "        h = self.linear(h)\n",
    "        return h"
   ]
  }
 ],
 "metadata": {
  "kernelspec": {
   "display_name": "Python 3 (ipykernel)",
   "language": "python",
   "name": "python3"
  },
  "language_info": {
   "codemirror_mode": {
    "name": "ipython",
    "version": 3
   },
   "file_extension": ".py",
   "mimetype": "text/x-python",
   "name": "python",
   "nbconvert_exporter": "python",
   "pygments_lexer": "ipython3",
   "version": "3.9.7"
  }
 },
 "nbformat": 4,
 "nbformat_minor": 5
}
