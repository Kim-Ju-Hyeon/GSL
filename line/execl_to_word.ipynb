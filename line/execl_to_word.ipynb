{
 "cells": [
  {
   "cell_type": "code",
   "execution_count": 1,
   "id": "6e2587d5",
   "metadata": {},
   "outputs": [],
   "source": [
    "from openpyxl import load_workbook\n",
    "\n",
    "import docx\n",
    "from docx import Document\n",
    "from docx.enum.text import WD_ALIGN_PARAGRAPH\n",
    "from docx.enum.style import WD_STYLE_TYPE\n",
    "\n",
    "from glob import glob"
   ]
  },
  {
   "cell_type": "code",
   "execution_count": 2,
   "id": "1b318c63",
   "metadata": {},
   "outputs": [],
   "source": [
    "excel_ = load_workbook('./temp.xlsx')\n",
    "score_xel = excel_['Sheet1']"
   ]
  },
  {
   "cell_type": "code",
   "execution_count": 3,
   "id": "7a73bac7",
   "metadata": {},
   "outputs": [],
   "source": [
    "good = '꼭 뽑자'\n",
    "soso = '회의해서 결정하자'\n",
    "bad = '다음에 보자'"
   ]
  },
  {
   "cell_type": "code",
   "execution_count": 4,
   "id": "fd95a79c",
   "metadata": {},
   "outputs": [],
   "source": [
    "Good_list = []\n",
    "\n",
    "SoSo_list = []\n",
    "\n",
    "Bad_list = []"
   ]
  },
  {
   "cell_type": "code",
   "execution_count": 5,
   "id": "b890edbf",
   "metadata": {},
   "outputs": [],
   "source": [
    "Good_list = []\n",
    "\n",
    "SoSo_list = []\n",
    "\n",
    "Bad_list = []\n",
    "\n",
    "for col in range(1,140):\n",
    "    A, B, F = 0, 0, 0\n",
    "    for row in range(2,7):\n",
    "        score = score_xel.cell(row=row, column=col).value\n",
    "        \n",
    "        if score == good:\n",
    "            A += 1\n",
    "            \n",
    "        elif score == soso:\n",
    "            B += 1\n",
    "        \n",
    "        elif score == bad:\n",
    "            F += 1\n",
    "            \n",
    "    if (A >= 3) and (F == 0):\n",
    "        Good_list.append(col)\n",
    "        \n",
    "    elif F >= 2:\n",
    "        Bad_list.append(col)\n",
    "    \n",
    "    else:\n",
    "        SoSo_list.append(col)\n"
   ]
  },
  {
   "cell_type": "code",
   "execution_count": 6,
   "id": "f6a2715f",
   "metadata": {},
   "outputs": [
    {
     "name": "stdout",
     "output_type": "stream",
     "text": [
      "19 [14, 24, 25, 32, 34, 37, 49, 64, 65, 72, 77, 87, 106, 109, 117, 127, 131, 134, 139]\n"
     ]
    }
   ],
   "source": [
    "print(len(Good_list), Good_list)"
   ]
  },
  {
   "cell_type": "code",
   "execution_count": 7,
   "id": "a45aa2ae",
   "metadata": {},
   "outputs": [
    {
     "name": "stdout",
     "output_type": "stream",
     "text": [
      "56 [1, 4, 6, 8, 15, 16, 20, 23, 31, 33, 36, 38, 39, 40, 41, 42, 43, 47, 48, 50, 51, 52, 55, 57, 58, 59, 60, 61, 62, 63, 66, 67, 71, 73, 75, 79, 83, 84, 88, 90, 91, 93, 95, 97, 98, 99, 102, 111, 112, 122, 123, 128, 130, 133, 135, 137]\n"
     ]
    }
   ],
   "source": [
    "print(len(Bad_list), Bad_list)"
   ]
  },
  {
   "cell_type": "code",
   "execution_count": 8,
   "id": "f9162654",
   "metadata": {},
   "outputs": [
    {
     "name": "stdout",
     "output_type": "stream",
     "text": [
      "64 [2, 3, 5, 7, 9, 10, 11, 12, 13, 17, 18, 19, 21, 22, 26, 27, 28, 29, 30, 35, 44, 45, 46, 53, 54, 56, 68, 69, 70, 74, 76, 78, 80, 81, 82, 85, 86, 89, 92, 94, 96, 100, 101, 103, 104, 105, 107, 108, 110, 113, 114, 115, 116, 118, 119, 120, 121, 124, 125, 126, 129, 132, 136, 138]\n"
     ]
    }
   ],
   "source": [
    "print(len(SoSo_list), SoSo_list)"
   ]
  },
  {
   "cell_type": "code",
   "execution_count": 9,
   "id": "abe690be",
   "metadata": {},
   "outputs": [],
   "source": [
    "__excel = load_workbook('./line_up.xlsx')\n",
    "temp = __excel['Sheet1']"
   ]
  },
  {
   "cell_type": "code",
   "execution_count": 10,
   "id": "dbae1bfe",
   "metadata": {},
   "outputs": [],
   "source": [
    "# name = []\n",
    "# age = []\n",
    "# sex = []\n",
    "# school = []\n",
    "# phone = []\n",
    "# military = []\n",
    "# team = []\n",
    "# intro = []\n",
    "# why = []\n",
    "# what = []\n",
    "# advice = []\n",
    "# meeting = []"
   ]
  },
  {
   "cell_type": "code",
   "execution_count": 11,
   "id": "b9dbbf05",
   "metadata": {},
   "outputs": [],
   "source": [
    "kbo_team = {\n",
    "    'KT 위즈': [],\n",
    "    '두산 베어스': [],\n",
    "    '삼성 라이온즈': [],\n",
    "    'LG 트윈스': [],\n",
    "    '키움 히어로즈': [],\n",
    "    'SSG 랜더스': [],\n",
    "    '롯데 자이언츠': [],\n",
    "    'KIA 타이거즈': [],\n",
    "    '한화 이글스': [],\n",
    "}"
   ]
  },
  {
   "cell_type": "code",
   "execution_count": 12,
   "id": "53ad5fd1",
   "metadata": {},
   "outputs": [],
   "source": [
    "accept = [5,\n",
    "11,\n",
    "12,\n",
    "13,\n",
    "14,\n",
    "17,\n",
    "22,\n",
    "24,\n",
    "25,\n",
    "26,\n",
    "28,\n",
    "30,\n",
    "32,\n",
    "34,\n",
    "35,\n",
    "37,\n",
    "44,\n",
    "45,\n",
    "46,\n",
    "49,\n",
    "54,\n",
    "56,\n",
    "65,\n",
    "69,\n",
    "72,\n",
    "77,\n",
    "87,\n",
    "94,\n",
    "96,\n",
    "100,\n",
    "104,\n",
    "105,\n",
    "106,\n",
    "109,\n",
    "117,\n",
    "127,\n",
    "131,\n",
    "134,\n",
    "139,\n",
    "]"
   ]
  },
  {
   "cell_type": "code",
   "execution_count": 13,
   "id": "b9ddefcb",
   "metadata": {},
   "outputs": [
    {
     "data": {
      "text/plain": [
       "['KIA 타이거즈',\n",
       " 'KT 위즈',\n",
       " 'LG 트윈스',\n",
       " 'SSG 랜더스',\n",
       " '두산 베어스',\n",
       " '롯데 자이언츠',\n",
       " '삼성 라이온즈',\n",
       " '키움 히어로즈',\n",
       " '한화 이글스']"
      ]
     },
     "execution_count": 13,
     "metadata": {},
     "output_type": "execute_result"
    }
   ],
   "source": [
    "teams = list(kbo_team.keys())\n",
    "teams.sort()\n",
    "teams"
   ]
  },
  {
   "cell_type": "code",
   "execution_count": 15,
   "id": "f00293c1",
   "metadata": {},
   "outputs": [],
   "source": [
    "for ii in accept:\n",
    "    _team = temp.cell(row=ii, column=7).value\n",
    "    \n",
    "    for team in teams:\n",
    "        if _team == team:\n",
    "            kbo_team[team].append(ii)"
   ]
  },
  {
   "cell_type": "code",
   "execution_count": 16,
   "id": "b3231cbd",
   "metadata": {},
   "outputs": [
    {
     "name": "stdout",
     "output_type": "stream",
     "text": [
      "KIA 타이거즈: 9\n",
      "KT 위즈: 2\n",
      "LG 트윈스: 3\n",
      "SSG 랜더스: 3\n",
      "두산 베어스: 5\n",
      "롯데 자이언츠: 3\n",
      "삼성 라이온즈: 9\n",
      "키움 히어로즈: 2\n",
      "한화 이글스: 3\n"
     ]
    }
   ],
   "source": [
    "total = 0\n",
    "for team in teams:\n",
    "    print(f'{team}: {len(kbo_team[team])}')\n",
    "    total += len(kbo_team[team])"
   ]
  },
  {
   "cell_type": "code",
   "execution_count": 17,
   "id": "5e5ee427",
   "metadata": {},
   "outputs": [
    {
     "data": {
      "text/plain": [
       "39"
      ]
     },
     "execution_count": 17,
     "metadata": {},
     "output_type": "execute_result"
    }
   ],
   "source": [
    "total"
   ]
  },
  {
   "cell_type": "code",
   "execution_count": 18,
   "id": "d44b0f65",
   "metadata": {},
   "outputs": [],
   "source": [
    "doc = Document()\n",
    "\n",
    "for i in accept:\n",
    "    para = doc.add_paragraph()\n",
    "    \n",
    "    run1 = para.add_run(f'{i}번 지원자 \\n\\n')\n",
    "    run1.bold = True\n",
    "    run1.font.size = docx.shared.Pt(20)\n",
    "        \n",
    "    run = para.add_run('1. 이름, 나이, 성별, 연락처, 군 복무\\n')\n",
    "    run.bold = True\n",
    "    para.add_run(temp.cell(row=i, column=1).value + '    ')\n",
    "    para.add_run(str(temp.cell(row=i, column=2).value) + '    ')\n",
    "    para.add_run(temp.cell(row=i, column=3).value + '    ')\n",
    "    para.add_run(temp.cell(row=i, column=5).value + '    ')\n",
    "    para.add_run(temp.cell(row=i, column=6).value + '\\n\\n')\n",
    "\n",
    "    run2 = para.add_run('2. 학교\\n')\n",
    "    run2.bold = True\n",
    "    para.add_run(temp.cell(row=i, column=4).value+ '\\n\\n')\n",
    "\n",
    "    run3 = para.add_run('3. 응원하는 팀\\n')\n",
    "    run3.bold = True\n",
    "    para.add_run(temp.cell(row=i, column=7).value+ '\\n\\n')\n",
    "\n",
    "    run4 = para.add_run('4. 간단한 자기소개\\n')\n",
    "    run4.bold = True\n",
    "    para.add_run(temp.cell(row=i, column=8).value+ '\\n\\n')\n",
    "\n",
    "    run5 = para.add_run('5. 지원 동기\\n')\n",
    "    run5.bold = True\n",
    "    para.add_run(temp.cell(row=i, column=9).value+ '\\n\\n')\n",
    "\n",
    "    run6 = para.add_run('6. 동아리에서 하고 싶은 것\\n')\n",
    "    run6.bold = True\n",
    "    para.add_run(temp.cell(row=i, column=10).value+ '\\n\\n')\n",
    "\n",
    "    run7 = para.add_run('6. 동아리에서 원하는 점\\n')\n",
    "    run7.bold = True\n",
    "    para.add_run(str(temp.cell(row=i, column=11).value)+ '\\n\\n')\n",
    "    \n",
    "    doc.add_page_break()\n",
    "\n",
    "doc.save('./Accept.docx')"
   ]
  },
  {
   "cell_type": "code",
   "execution_count": null,
   "id": "2a6299fd",
   "metadata": {
    "scrolled": true
   },
   "outputs": [],
   "source": [
    "for team in teams:\n",
    "    length = len(kbo_team[_team])\n",
    "    \n",
    "    doc = Document()\n",
    "\n",
    "    for i in kbo_team[team]:\n",
    "        para = doc.add_paragraph()\n",
    "    \n",
    "        run1 = para.add_run(f'{i}번 지원자 \\n\\n')\n",
    "        run1.bold = True\n",
    "        run1.font.size = docx.shared.Pt(20)\n",
    "\n",
    "        run = para.add_run('1. 이름, 나이, 성별, 연락처, 군 복무\\n')\n",
    "        run.bold = True\n",
    "        para.add_run(temp.cell(row=i, column=1).value + '    ')\n",
    "        para.add_run(str(temp.cell(row=i, column=2).value) + '    ')\n",
    "        para.add_run(temp.cell(row=i, column=3).value + '    ')\n",
    "        para.add_run(temp.cell(row=i, column=5).value + '    ')\n",
    "        para.add_run(temp.cell(row=i, column=6).value + '\\n\\n')\n",
    "\n",
    "        run2 = para.add_run('2. 학교\\n')\n",
    "        run2.bold = True\n",
    "        para.add_run(temp.cell(row=i, column=4).value+ '\\n\\n')\n",
    "\n",
    "        run3 = para.add_run('3. 응원하는 팀\\n')\n",
    "        run3.bold = True\n",
    "        para.add_run(temp.cell(row=i, column=7).value+ '\\n\\n')\n",
    "\n",
    "        run4 = para.add_run('4. 간단한 자기소개\\n')\n",
    "        run4.bold = True\n",
    "        para.add_run(temp.cell(row=i, column=8).value+ '\\n\\n')\n",
    "\n",
    "        run5 = para.add_run('5. 지원 동기\\n')\n",
    "        run5.bold = True\n",
    "        para.add_run(temp.cell(row=i, column=9).value+ '\\n\\n')\n",
    "\n",
    "        run6 = para.add_run('6. 동아리에서 하고 싶은 것\\n')\n",
    "        run6.bold = True\n",
    "        para.add_run(temp.cell(row=i, column=10).value+ '\\n\\n')\n",
    "\n",
    "        run7 = para.add_run('6. 동아리에서 원하는 점\\n')\n",
    "        run7.bold = True\n",
    "        para.add_run(str(temp.cell(row=i, column=11).value)+ '\\n\\n')\n",
    "\n",
    "        doc.add_page_break()\n",
    "\n",
    "    doc.save(f'./{team}.docx')"
   ]
  },
  {
   "cell_type": "code",
   "execution_count": null,
   "id": "5deba909",
   "metadata": {},
   "outputs": [],
   "source": [
    "doc = Document()\n",
    "\n",
    "for i in range(1, 140):    \n",
    "    para = doc.add_paragraph()\n",
    "    \n",
    "    run1 = para.add_run(f'{i}번 지원자 \\n\\n')\n",
    "    run1.bold = True\n",
    "    run1.font.size = docx.shared.Pt(20)\n",
    "        \n",
    "    run = para.add_run('1. 이름, 나이, 성별, 연락처, 군 복무\\n')\n",
    "    run.bold = True\n",
    "    para.add_run(temp.cell(row=i, column=1).value + '    ')\n",
    "    para.add_run(str(temp.cell(row=i, column=2).value) + '    ')\n",
    "    para.add_run(temp.cell(row=i, column=3).value + '    ')\n",
    "    para.add_run(temp.cell(row=i, column=5).value + '    ')\n",
    "    para.add_run(temp.cell(row=i, column=6).value + '\\n\\n')\n",
    "\n",
    "    run2 = para.add_run('2. 학교\\n')\n",
    "    run2.bold = True\n",
    "    para.add_run(temp.cell(row=i, column=4).value+ '\\n\\n')\n",
    "\n",
    "    run3 = para.add_run('3. 응원하는 팀\\n')\n",
    "    run3.bold = True\n",
    "    para.add_run(temp.cell(row=i, column=7).value+ '\\n\\n')\n",
    "\n",
    "    run4 = para.add_run('4. 간단한 자기소개\\n')\n",
    "    run4.bold = True\n",
    "    para.add_run(temp.cell(row=i, column=8).value+ '\\n\\n')\n",
    "\n",
    "    run5 = para.add_run('5. 지원 동기\\n')\n",
    "    run5.bold = True\n",
    "    para.add_run(temp.cell(row=i, column=9).value+ '\\n\\n')\n",
    "\n",
    "    run6 = para.add_run('6. 동아리에서 하고 싶은 것\\n')\n",
    "    run6.bold = True\n",
    "    para.add_run(temp.cell(row=i, column=10).value+ '\\n\\n')\n",
    "\n",
    "    run7 = para.add_run('6. 동아리에서 원하는 점\\n')\n",
    "    run7.bold = True\n",
    "    para.add_run(str(temp.cell(row=i, column=11).value)+ '\\n\\n')\n",
    "    \n",
    "    doc.add_page_break()\n",
    "\n",
    "doc.save('./temp.docx')"
   ]
  },
  {
   "cell_type": "code",
   "execution_count": null,
   "id": "0d91b602",
   "metadata": {},
   "outputs": [],
   "source": [
    "for i in range(1, 140):\n",
    "    temp.cell(row=i, column=1).value"
   ]
  }
 ],
 "metadata": {
  "kernelspec": {
   "display_name": "Python 3 (ipykernel)",
   "language": "python",
   "name": "python3"
  },
  "language_info": {
   "codemirror_mode": {
    "name": "ipython",
    "version": 3
   },
   "file_extension": ".py",
   "mimetype": "text/x-python",
   "name": "python",
   "nbconvert_exporter": "python",
   "pygments_lexer": "ipython3",
   "version": "3.9.7"
  }
 },
 "nbformat": 4,
 "nbformat_minor": 5
}
