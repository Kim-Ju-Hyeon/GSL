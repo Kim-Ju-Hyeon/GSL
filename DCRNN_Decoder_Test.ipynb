{
 "cells": [
  {
   "cell_type": "code",
   "execution_count": 3,
   "id": "1a7bcad0",
   "metadata": {},
   "outputs": [],
   "source": [
    "import sys\n",
    "\n",
    "sys.path.append('../GraphStructureLearning')"
   ]
  },
  {
   "cell_type": "code",
   "execution_count": 4,
   "id": "64089db4",
   "metadata": {},
   "outputs": [],
   "source": [
    "import torch\n",
    "import torch.nn as nn\n",
    "from torch.nn import functional as F\n",
    "\n",
    "from models.GTS.DCRNN import DCRNN\n",
    "\n",
    "from torch_geometric.utils import to_dense_adj, dense_to_sparse\n",
    "from torch_geometric_temporal.dataset import METRLADatasetLoader, PemsBayDatasetLoader\n",
    "from torch_geometric_temporal.signal import temporal_signal_split, StaticGraphTemporalSignalBatch\n",
    "\n",
    "import seaborn as sns\n",
    "import matplotlib.pyplot as plt\n",
    "import numpy as np\n",
    "\n",
    "from glob import glob\n",
    "import yaml\n",
    "from easydict import EasyDict as edict"
   ]
  },
  {
   "cell_type": "code",
   "execution_count": 5,
   "id": "5b0057c3",
   "metadata": {},
   "outputs": [],
   "source": [
    "config_file = glob('./config/GTS/test.yaml')[0]\n",
    "config = edict(yaml.load(open(config_file, 'r'), Loader=yaml.FullLoader))"
   ]
  },
  {
   "cell_type": "code",
   "execution_count": 6,
   "id": "ce8436f5",
   "metadata": {},
   "outputs": [],
   "source": [
    "metr_la = np.load('./data/METR-LA/node_values.npy')\n",
    "adj_matrix = np.load('./data/METR-LA/adj_mat.npy')\n",
    "\n",
    "loader = METRLADatasetLoader(raw_data_dir='./data/METR-LA')"
   ]
  },
  {
   "cell_type": "code",
   "execution_count": 9,
   "id": "22a0fafc",
   "metadata": {},
   "outputs": [
    {
     "data": {
      "text/plain": [
       "(34272, 207, 2)"
      ]
     },
     "execution_count": 9,
     "metadata": {},
     "output_type": "execute_result"
    }
   ],
   "source": [
    "metr_la.shape"
   ]
  },
  {
   "cell_type": "code",
   "execution_count": 7,
   "id": "de20d36d",
   "metadata": {},
   "outputs": [
    {
     "data": {
      "text/plain": [
       "{'root': './data/spike_lambda_bin100',\n",
       " 'name': 'spike_lambda_bin100',\n",
       " 'graph_learning_length': 4800,\n",
       " 'idx_ratio': 0.5,\n",
       " 'window_size': 20,\n",
       " 'slide': 5,\n",
       " 'pred_step': 5,\n",
       " 'train_valid_test': [4000, 4400, 4800],\n",
       " 'save': './data/spike_lambda_bin100/'}"
      ]
     },
     "execution_count": 7,
     "metadata": {},
     "output_type": "execute_result"
    }
   ],
   "source": [
    "config.dataset"
   ]
  },
  {
   "cell_type": "code",
   "execution_count": 8,
   "id": "c2ff5b5b",
   "metadata": {},
   "outputs": [
    {
     "data": {
      "text/plain": [
       "{'exp_name': 1,\n",
       " 'exp_dir': './exp',\n",
       " 'use_gpu': False,\n",
       " 'device': 'cpu',\n",
       " 'seed': 1010,\n",
       " 'model_name': 'GTS',\n",
       " 'graph_learning_module': 'GTS',\n",
       " 'graph_forecasting_module': 'GTS',\n",
       " 'initial_edge_index': 'Fully Connected',\n",
       " 'dataset': {'root': './data/spike_lambda_bin100',\n",
       "  'name': 'spike_lambda_bin100',\n",
       "  'graph_learning_length': 4800,\n",
       "  'idx_ratio': 0.5,\n",
       "  'window_size': 20,\n",
       "  'slide': 5,\n",
       "  'pred_step': 5,\n",
       "  'train_valid_test': [4000, 4400, 4800],\n",
       "  'save': './data/spike_lambda_bin100/'},\n",
       " 'train': {'optimizer': 'Adam',\n",
       "  'epoch': 2,\n",
       "  'loss_function': 'MAE',\n",
       "  'lr': 0.001,\n",
       "  'momentum': 0.9,\n",
       "  'wd': 0.0,\n",
       "  'batch_size': 2,\n",
       "  'lr_decay': 0.1,\n",
       "  'lr_decay_steps': [10000]},\n",
       " 'nodes_num': 100,\n",
       " 'node_features': 1,\n",
       " 'hidden_dim': 16,\n",
       " 'embedding_dim': 16,\n",
       " 'graph_learning': {'sequence': 3,\n",
       "  'mode': 'attention',\n",
       "  'to_symmetric': True,\n",
       "  'correlation_act_fnc': 'sigmoid',\n",
       "  'kernel_size': [200, 80, 10],\n",
       "  'stride': [20, 10, 5],\n",
       "  'conv1_dim': 4,\n",
       "  'conv2_dim': 4,\n",
       "  'conv3_dim': 4,\n",
       "  'n_head': 16},\n",
       " 'forecasting_module': {'diffusion_k': 1,\n",
       "  'num_layer': 1,\n",
       "  'use_teacher_forcing': True,\n",
       "  'teacher_forcing_ratio': 0.5,\n",
       "  'embedding': {'kernel_size': [3, 3],\n",
       "   'stride': [1, 1],\n",
       "   'conv1_dim': 2,\n",
       "   'conv2_dim': 2}},\n",
       " 'encoder_step': 2,\n",
       " 'decoder_step': 2,\n",
       " 'tau': 0.3}"
      ]
     },
     "execution_count": 8,
     "metadata": {},
     "output_type": "execute_result"
    }
   ],
   "source": [
    "config"
   ]
  },
  {
   "cell_type": "code",
   "execution_count": 64,
   "id": "04cf732c",
   "metadata": {},
   "outputs": [],
   "source": [
    "config.hidden_dim = 16\n",
    "config.encoder_step = 12\n",
    "config.decoder_step = 3\n",
    "config.dataset.pred_step = 1\n",
    "config.embedding_dim = 1\n",
    "config.nodes_num = 207"
   ]
  },
  {
   "cell_type": "code",
   "execution_count": 65,
   "id": "aab3770d",
   "metadata": {},
   "outputs": [],
   "source": [
    "total_length, num_nudes, num_features = metr_la.shape"
   ]
  },
  {
   "cell_type": "code",
   "execution_count": 66,
   "id": "05c706c8",
   "metadata": {},
   "outputs": [],
   "source": [
    "edge_index, edge_attr = dense_to_sparse(torch.Tensor(adj_matrix))"
   ]
  },
  {
   "cell_type": "code",
   "execution_count": 68,
   "id": "26124942",
   "metadata": {},
   "outputs": [],
   "source": [
    "dataset = loader.get_dataset(num_timesteps_in=12, num_timesteps_out=3)"
   ]
  },
  {
   "cell_type": "code",
   "execution_count": 31,
   "id": "5309eaf2",
   "metadata": {},
   "outputs": [],
   "source": [
    "_, dataset = temporal_signal_split(dataset, train_ratio=0.8)"
   ]
  },
  {
   "cell_type": "code",
   "execution_count": 60,
   "id": "d15910aa",
   "metadata": {},
   "outputs": [
    {
     "data": {
      "text/plain": [
       "<torch_geometric_temporal.signal.static_graph_temporal_signal.StaticGraphTemporalSignal at 0x7f50884ed750>"
      ]
     },
     "execution_count": 60,
     "metadata": {},
     "output_type": "execute_result"
    }
   ],
   "source": [
    "dataset"
   ]
  },
  {
   "cell_type": "code",
   "execution_count": 59,
   "id": "2e2c2a0a",
   "metadata": {},
   "outputs": [
    {
     "ename": "TypeError",
     "evalue": "__init__() missing 4 required positional arguments: 'edge_weight', 'features', 'targets', and 'batches'",
     "output_type": "error",
     "traceback": [
      "\u001b[0;31m---------------------------------------------------------------------------\u001b[0m",
      "\u001b[0;31mTypeError\u001b[0m                                 Traceback (most recent call last)",
      "\u001b[0;32m/tmp/ipykernel_1457/2414460243.py\u001b[0m in \u001b[0;36m<module>\u001b[0;34m\u001b[0m\n\u001b[0;32m----> 1\u001b[0;31m \u001b[0mStaticGraphTemporalSignalBatch\u001b[0m\u001b[0;34m(\u001b[0m\u001b[0mdataset\u001b[0m\u001b[0;34m)\u001b[0m\u001b[0;34m\u001b[0m\u001b[0;34m\u001b[0m\u001b[0m\n\u001b[0m",
      "\u001b[0;31mTypeError\u001b[0m: __init__() missing 4 required positional arguments: 'edge_weight', 'features', 'targets', and 'batches'"
     ]
    }
   ],
   "source": [
    "StaticGraphTemporalSignalBatch()"
   ]
  },
  {
   "cell_type": "code",
   "execution_count": null,
   "id": "4590f79f",
   "metadata": {},
   "outputs": [],
   "source": []
  },
  {
   "cell_type": "code",
   "execution_count": null,
   "id": "9a7c6914",
   "metadata": {},
   "outputs": [],
   "source": []
  },
  {
   "cell_type": "code",
   "execution_count": null,
   "id": "9ea7f0de",
   "metadata": {},
   "outputs": [],
   "source": []
  },
  {
   "cell_type": "code",
   "execution_count": 32,
   "id": "df7d1c71",
   "metadata": {},
   "outputs": [],
   "source": [
    "class DecoderModel(nn.Module):\n",
    "    def __init__(self, config):\n",
    "        super(DecoderModel, self).__init__()\n",
    "        self.output_dim = config.dataset.pred_step\n",
    "        self.hidden_dim = config.hidden_dim\n",
    "\n",
    "        self.decoder_dcrnn = DCRNN(config)\n",
    "        self.prediction_layer = nn.Linear(self.hidden_dim, self.output_dim)\n",
    "\n",
    "        self.init_weights()\n",
    "\n",
    "    def init_weights(self):\n",
    "        for m in self.modules():\n",
    "            if isinstance(m, nn.Linear):\n",
    "                nn.init.xavier_normal_(m.weight.data)\n",
    "                m.bias.data.fill_(0.1)\n",
    "\n",
    "    def forward(self, inputs, adj, hidden_state, weight_matrix=None):\n",
    "        decoder_hidden_state = hidden_state\n",
    "\n",
    "        decoder_hidden_state = self.decoder_dcrnn(inputs, adj, hidden_state=decoder_hidden_state, weight_matrix=weight_matrix)\n",
    "        prediction = self.prediction_layer(decoder_hidden_state[-1].view(-1, self.hidden_dim))\n",
    "\n",
    "        output = prediction.view(inputs.shape[0], self.output_dim)\n",
    "\n",
    "        return output, decoder_hidden_state\n",
    "\n",
    "\n",
    "class GTS_Forecasting_Module(nn.Module):\n",
    "    def __init__(self, config):\n",
    "        super(GTS_Forecasting_Module, self).__init__()\n",
    "\n",
    "        self.config = config\n",
    "\n",
    "        self.nodes_num = config.nodes_num\n",
    "\n",
    "        self.nodes_feas = config.node_features\n",
    "\n",
    "        self.encoder_step = config.encoder_step\n",
    "        self.decoder_step = config.decoder_step\n",
    "\n",
    "        self.encoder_model = DCRNN(config)\n",
    "        self.decoder_model = DecoderModel(config)\n",
    "\n",
    "\n",
    "    def forward(self, inputs, targets, adj_matrix, weight_matrix=None):\n",
    "        # DCRNN encoder\n",
    "        encoder_hidden_state = None\n",
    "        for i in range(self.encoder_step):\n",
    "            encoder_hidden_state = self.encoder_model(inputs[:,i].unsqueeze(dim=-1), adj_matrix,\n",
    "                                                      encoder_hidden_state, weight_matrix)\n",
    "\n",
    "        # DCRNN decoder\n",
    "        outputs = []\n",
    "        decoder_input = torch.zeros((self.nodes_num, 1)).to('cuda')\n",
    "        \n",
    "        decoder_hidden_state = encoder_hidden_state\n",
    "        for j in range(self.decoder_step):\n",
    "            output, decoder_hidden_state = self.decoder_model(decoder_input, adj_matrix, decoder_hidden_state, weight_matrix)\n",
    "            outputs.append(output)\n",
    "            \n",
    "            decoder_input = targets[:,j].unsqueeze(dim=-1)\n",
    "\n",
    "        outputs = torch.cat(outputs, dim=-1)\n",
    "        return outputs\n"
   ]
  },
  {
   "cell_type": "code",
   "execution_count": 33,
   "id": "d568c831",
   "metadata": {},
   "outputs": [],
   "source": [
    "model = GTS_Forecasting_Module(config)"
   ]
  },
  {
   "cell_type": "code",
   "execution_count": 34,
   "id": "9479a20c",
   "metadata": {},
   "outputs": [],
   "source": [
    "model = model.to('cuda')"
   ]
  },
  {
   "cell_type": "code",
   "execution_count": 35,
   "id": "c0fd02ef",
   "metadata": {},
   "outputs": [
    {
     "data": {
      "text/plain": [
       "GTS_Forecasting_Module(\n",
       "  (encoder_model): DCRNN(\n",
       "    (recurrent): ModuleList(\n",
       "      (0): DCRNN(\n",
       "        (conv_x_z): DConv()\n",
       "        (conv_x_r): DConv()\n",
       "        (conv_x_h): DConv()\n",
       "      )\n",
       "    )\n",
       "  )\n",
       "  (decoder_model): DecoderModel(\n",
       "    (decoder_dcrnn): DCRNN(\n",
       "      (recurrent): ModuleList(\n",
       "        (0): DCRNN(\n",
       "          (conv_x_z): DConv()\n",
       "          (conv_x_r): DConv()\n",
       "          (conv_x_h): DConv()\n",
       "        )\n",
       "      )\n",
       "    )\n",
       "    (prediction_layer): Linear(in_features=16, out_features=1, bias=True)\n",
       "  )\n",
       ")"
      ]
     },
     "execution_count": 35,
     "metadata": {},
     "output_type": "execute_result"
    }
   ],
   "source": [
    "model"
   ]
  },
  {
   "cell_type": "code",
   "execution_count": 36,
   "id": "30f70c4f",
   "metadata": {},
   "outputs": [
    {
     "data": {
      "text/plain": [
       "GTS_Forecasting_Module(\n",
       "  (encoder_model): DCRNN(\n",
       "    (recurrent): ModuleList(\n",
       "      (0): DCRNN(\n",
       "        (conv_x_z): DConv()\n",
       "        (conv_x_r): DConv()\n",
       "        (conv_x_h): DConv()\n",
       "      )\n",
       "    )\n",
       "  )\n",
       "  (decoder_model): DecoderModel(\n",
       "    (decoder_dcrnn): DCRNN(\n",
       "      (recurrent): ModuleList(\n",
       "        (0): DCRNN(\n",
       "          (conv_x_z): DConv()\n",
       "          (conv_x_r): DConv()\n",
       "          (conv_x_h): DConv()\n",
       "        )\n",
       "      )\n",
       "    )\n",
       "    (prediction_layer): Linear(in_features=16, out_features=1, bias=True)\n",
       "  )\n",
       ")"
      ]
     },
     "execution_count": 36,
     "metadata": {},
     "output_type": "execute_result"
    }
   ],
   "source": [
    "optimizer = torch.optim.Adam(model.parameters(), lr=0.01)\n",
    "loss_fnc = nn.L1Loss().to('cuda')\n",
    "model.train()"
   ]
  },
  {
   "cell_type": "code",
   "execution_count": 37,
   "id": "1120b3cf",
   "metadata": {},
   "outputs": [],
   "source": [
    "for epoch in range(2):\n",
    "    loss = 0\n",
    "    \n",
    "    for batch in dataset:\n",
    "        input_x = batch.x[:,0,:].to('cuda')\n",
    "        target = batch.y.to('cuda')\n",
    "    \n",
    "        y_hat = model(input_x, adj_matrix = batch.edge_index.to('cuda'), targets=target)\n",
    "        loss = loss + loss_fnc(y_hat, target)"
   ]
  },
  {
   "cell_type": "code",
   "execution_count": 38,
   "id": "1b2c82fc",
   "metadata": {},
   "outputs": [
    {
     "data": {
      "text/plain": [
       "tensor(5715.9536, device='cuda:0', grad_fn=<AddBackward0>)"
      ]
     },
     "execution_count": 38,
     "metadata": {},
     "output_type": "execute_result"
    }
   ],
   "source": [
    "loss"
   ]
  },
  {
   "cell_type": "code",
   "execution_count": 40,
   "id": "ce6f9403",
   "metadata": {},
   "outputs": [
    {
     "data": {
      "text/plain": [
       "torch.Size([207, 3])"
      ]
     },
     "execution_count": 40,
     "metadata": {},
     "output_type": "execute_result"
    }
   ],
   "source": [
    "y_hat.shape"
   ]
  },
  {
   "cell_type": "code",
   "execution_count": 41,
   "id": "4de4494d",
   "metadata": {},
   "outputs": [
    {
     "data": {
      "text/plain": [
       "torch.Size([207, 3])"
      ]
     },
     "execution_count": 41,
     "metadata": {},
     "output_type": "execute_result"
    }
   ],
   "source": [
    "target.shape"
   ]
  },
  {
   "cell_type": "code",
   "execution_count": 50,
   "id": "b48d18b5",
   "metadata": {},
   "outputs": [
    {
     "data": {
      "text/plain": [
       "[<matplotlib.lines.Line2D at 0x7f511ffb54d0>]"
      ]
     },
     "execution_count": 50,
     "metadata": {},
     "output_type": "execute_result"
    },
    {
     "data": {
      "image/png": "[encoded data removed]",
      "text/plain": [
       "<Figure size 432x288 with 1 Axes>"
      ]
     },
     "metadata": {
      "needs_background": "light"
     },
     "output_type": "display_data"
    }
   ],
   "source": [
    "plt.plot(target[5,:].cpu())"
   ]
  },
  {
   "cell_type": "code",
   "execution_count": 51,
   "id": "4dc347da",
   "metadata": {},
   "outputs": [
    {
     "data": {
      "text/plain": [
       "[<matplotlib.lines.Line2D at 0x7f5081545310>]"
      ]
     },
     "execution_count": 51,
     "metadata": {},
     "output_type": "execute_result"
    },
    {
     "data": {
      "image/png": "[encoded data removed]",
      "text/plain": [
       "<Figure size 432x288 with 1 Axes>"
      ]
     },
     "metadata": {
      "needs_background": "light"
     },
     "output_type": "display_data"
    }
   ],
   "source": [
    "plt.plot(y_hat[5,:].detach().cpu())"
   ]
  },
  {
   "cell_type": "code",
   "execution_count": 47,
   "id": "4af59de3",
   "metadata": {},
   "outputs": [
    {
     "data": {
      "text/plain": [
       "[<matplotlib.lines.Line2D at 0x7f5120022550>]"
      ]
     },
     "execution_count": 47,
     "metadata": {},
     "output_type": "execute_result"
    },
    {
     "data": {
      "image/png": "[encoded data removed]",
      "text/plain": [
       "<Figure size 432x288 with 1 Axes>"
      ]
     },
     "metadata": {
      "needs_background": "light"
     },
     "output_type": "display_data"
    }
   ],
   "source": [
    "plt.plot(y_hat[100,:].detach().cpu())"
   ]
  },
  {
   "cell_type": "code",
   "execution_count": 48,
   "id": "882fa196",
   "metadata": {},
   "outputs": [
    {
     "data": {
      "text/plain": [
       "tensor([[0.0927, 0.0709, 0.0617],\n",
       "        [0.0907, 0.0812, 0.0739],\n",
       "        [0.0896, 0.0636, 0.0585],\n",
       "        [0.0937, 0.0818, 0.0792],\n",
       "        [0.1344, 0.2044, 0.2378],\n",
       "        [0.1007, 0.1149, 0.1089],\n",
       "        [0.0932, 0.0760, 0.0685],\n",
       "        [0.0912, 0.0747, 0.0675],\n",
       "        [0.0931, 0.0832, 0.0777],\n",
       "        [0.0904, 0.0842, 0.0686],\n",
       "        [0.0934, 0.0757, 0.0732],\n",
       "        [0.0923, 0.0742, 0.0663],\n",
       "        [0.0929, 0.0752, 0.0670],\n",
       "        [0.0904, 0.0696, 0.0671],\n",
       "        [0.0963, 0.0925, 0.1128],\n",
       "        [0.0923, 0.0837, 0.0698],\n",
       "        [0.1344, 0.2044, 0.2378],\n",
       "        [0.0917, 0.0740, 0.0702],\n",
       "        [0.1046, 0.1067, 0.1050],\n",
       "        [0.0927, 0.0775, 0.0681],\n",
       "        [0.0902, 0.0690, 0.0603],\n",
       "        [0.1013, 0.0963, 0.1020],\n",
       "        [0.1005, 0.1005, 0.1048],\n",
       "        [0.0959, 0.0833, 0.0867],\n",
       "        [0.0931, 0.0718, 0.0594],\n",
       "        [0.0950, 0.0868, 0.0771],\n",
       "        [0.0951, 0.0866, 0.0827],\n",
       "        [0.0934, 0.0774, 0.0734],\n",
       "        [0.0896, 0.0702, 0.0557],\n",
       "        [0.0904, 0.0669, 0.0570],\n",
       "        [0.0914, 0.0726, 0.0653],\n",
       "        [0.0925, 0.0698, 0.0611],\n",
       "        [0.0897, 0.0678, 0.0584],\n",
       "        [0.0918, 0.0701, 0.0639],\n",
       "        [0.0901, 0.0664, 0.0614],\n",
       "        [0.1033, 0.1007, 0.0994],\n",
       "        [0.0978, 0.0787, 0.0876],\n",
       "        [0.0905, 0.0749, 0.0640],\n",
       "        [0.0947, 0.0761, 0.0601],\n",
       "        [0.0964, 0.0837, 0.0784],\n",
       "        [0.0910, 0.0732, 0.0609],\n",
       "        [0.0960, 0.0777, 0.0699],\n",
       "        [0.0901, 0.0711, 0.0586],\n",
       "        [0.0922, 0.0719, 0.0660],\n",
       "        [0.0900, 0.0667, 0.0635],\n",
       "        [0.0910, 0.0684, 0.0594],\n",
       "        [0.0936, 0.0775, 0.0748],\n",
       "        [0.0924, 0.0772, 0.0735],\n",
       "        [0.0964, 0.0988, 0.0906],\n",
       "        [0.0969, 0.0824, 0.0742],\n",
       "        [0.1011, 0.0957, 0.0939],\n",
       "        [0.1020, 0.1090, 0.1010],\n",
       "        [0.0904, 0.0677, 0.0583],\n",
       "        [0.0966, 0.0940, 0.0977],\n",
       "        [0.0942, 0.0840, 0.0753],\n",
       "        [0.0937, 0.0828, 0.0781],\n",
       "        [0.1081, 0.1241, 0.1297],\n",
       "        [0.0943, 0.0804, 0.0777],\n",
       "        [0.0934, 0.0776, 0.0873],\n",
       "        [0.0938, 0.0830, 0.0794],\n",
       "        [0.0941, 0.0768, 0.0705],\n",
       "        [0.0904, 0.0723, 0.0645],\n",
       "        [0.0931, 0.0824, 0.0834],\n",
       "        [0.0900, 0.0665, 0.0581],\n",
       "        [0.0913, 0.0682, 0.0600],\n",
       "        [0.0956, 0.0897, 0.0733],\n",
       "        [0.0903, 0.0733, 0.0622],\n",
       "        [0.0902, 0.0660, 0.0580],\n",
       "        [0.0903, 0.0682, 0.0626],\n",
       "        [0.0891, 0.0683, 0.0590],\n",
       "        [0.0944, 0.0781, 0.0726],\n",
       "        [0.0905, 0.0704, 0.0617],\n",
       "        [0.0900, 0.0685, 0.0587],\n",
       "        [0.0950, 0.0832, 0.0711],\n",
       "        [0.0881, 0.0631, 0.0535],\n",
       "        [0.0997, 0.0990, 0.1108],\n",
       "        [0.0976, 0.0935, 0.0890],\n",
       "        [0.0952, 0.0841, 0.0766],\n",
       "        [0.0900, 0.0639, 0.0604],\n",
       "        [0.0895, 0.0693, 0.0599],\n",
       "        [0.0887, 0.0640, 0.0539],\n",
       "        [0.0922, 0.0732, 0.0687],\n",
       "        [0.0927, 0.0729, 0.0639],\n",
       "        [0.0936, 0.0758, 0.0723],\n",
       "        [0.0950, 0.0826, 0.0791],\n",
       "        [0.0909, 0.0731, 0.0625],\n",
       "        [0.0910, 0.0672, 0.0571],\n",
       "        [0.0922, 0.0780, 0.0707],\n",
       "        [0.0911, 0.0767, 0.0647],\n",
       "        [0.0892, 0.0693, 0.0633],\n",
       "        [0.0916, 0.0675, 0.0594],\n",
       "        [0.0999, 0.1002, 0.0990],\n",
       "        [0.0891, 0.0674, 0.0578],\n",
       "        [0.0915, 0.0712, 0.0617],\n",
       "        [0.0917, 0.0752, 0.0693],\n",
       "        [0.0993, 0.0944, 0.0897],\n",
       "        [0.0907, 0.0644, 0.0530],\n",
       "        [0.0886, 0.0627, 0.0538],\n",
       "        [0.0955, 0.0802, 0.0800],\n",
       "        [0.0892, 0.0651, 0.0591],\n",
       "        [0.0933, 0.0820, 0.0758],\n",
       "        [0.0935, 0.0754, 0.0694],\n",
       "        [0.0939, 0.0812, 0.0775],\n",
       "        [0.0929, 0.0749, 0.0687],\n",
       "        [0.0932, 0.0759, 0.0664],\n",
       "        [0.0889, 0.0705, 0.0569],\n",
       "        [0.0906, 0.0684, 0.0588],\n",
       "        [0.0888, 0.0644, 0.0625],\n",
       "        [0.0893, 0.0733, 0.0624],\n",
       "        [0.0954, 0.0897, 0.0791],\n",
       "        [0.0932, 0.0705, 0.0639],\n",
       "        [0.0893, 0.0696, 0.0597],\n",
       "        [0.0963, 0.0876, 0.0787],\n",
       "        [0.0941, 0.0749, 0.0685],\n",
       "        [0.0909, 0.0720, 0.0705],\n",
       "        [0.0923, 0.0717, 0.0630],\n",
       "        [0.0910, 0.0754, 0.0668],\n",
       "        [0.0892, 0.0684, 0.0579],\n",
       "        [0.0927, 0.0722, 0.0636],\n",
       "        [0.0884, 0.0645, 0.0549],\n",
       "        [0.0953, 0.0843, 0.0850],\n",
       "        [0.1007, 0.1031, 0.0980],\n",
       "        [0.0904, 0.0672, 0.0725],\n",
       "        [0.0895, 0.0651, 0.0542],\n",
       "        [0.0974, 0.0781, 0.0802],\n",
       "        [0.0975, 0.0955, 0.0904],\n",
       "        [0.1037, 0.1277, 0.0994],\n",
       "        [0.0911, 0.0718, 0.0596],\n",
       "        [0.0898, 0.0702, 0.0574],\n",
       "        [0.0960, 0.0818, 0.0698],\n",
       "        [0.0920, 0.0715, 0.0664],\n",
       "        [0.0917, 0.0727, 0.0683],\n",
       "        [0.0898, 0.0641, 0.0611],\n",
       "        [0.0939, 0.0757, 0.0721],\n",
       "        [0.0926, 0.0715, 0.0657],\n",
       "        [0.0910, 0.0739, 0.0693],\n",
       "        [0.0900, 0.0667, 0.0593],\n",
       "        [0.0935, 0.0752, 0.0675],\n",
       "        [0.1344, 0.2044, 0.2378],\n",
       "        [0.0930, 0.0806, 0.0780],\n",
       "        [0.0928, 0.0805, 0.0744],\n",
       "        [0.0904, 0.0675, 0.0586],\n",
       "        [0.0923, 0.0750, 0.0674],\n",
       "        [0.0930, 0.0817, 0.0826],\n",
       "        [0.0959, 0.0892, 0.0837],\n",
       "        [0.0902, 0.0681, 0.0582],\n",
       "        [0.0901, 0.0691, 0.0624],\n",
       "        [0.0947, 0.0803, 0.0740],\n",
       "        [0.0917, 0.0739, 0.0683],\n",
       "        [0.0881, 0.0622, 0.0551],\n",
       "        [0.0914, 0.0744, 0.0650],\n",
       "        [0.0964, 0.0970, 0.0908],\n",
       "        [0.0932, 0.0781, 0.0801],\n",
       "        [0.0936, 0.0740, 0.0670],\n",
       "        [0.0933, 0.0791, 0.0688],\n",
       "        [0.0924, 0.0747, 0.0658],\n",
       "        [0.0974, 0.0916, 0.0982],\n",
       "        [0.0896, 0.0703, 0.0575],\n",
       "        [0.0895, 0.0643, 0.0549],\n",
       "        [0.0921, 0.0719, 0.0638],\n",
       "        [0.1344, 0.2044, 0.2378],\n",
       "        [0.1344, 0.2044, 0.2378],\n",
       "        [0.0897, 0.0679, 0.0567],\n",
       "        [0.0899, 0.0650, 0.0547],\n",
       "        [0.0917, 0.0719, 0.0621],\n",
       "        [0.1014, 0.0990, 0.1069],\n",
       "        [0.1344, 0.2044, 0.2378],\n",
       "        [0.0903, 0.0695, 0.0625],\n",
       "        [0.0899, 0.0683, 0.0544],\n",
       "        [0.0904, 0.0710, 0.0570],\n",
       "        [0.0980, 0.0948, 0.0943],\n",
       "        [0.0903, 0.0719, 0.0582],\n",
       "        [0.0915, 0.0693, 0.0605],\n",
       "        [0.0903, 0.0717, 0.0602],\n",
       "        [0.0977, 0.1001, 0.0877],\n",
       "        [0.0915, 0.0783, 0.0615],\n",
       "        [0.0915, 0.0677, 0.0592],\n",
       "        [0.0926, 0.0777, 0.0798],\n",
       "        [0.0920, 0.0746, 0.0707],\n",
       "        [0.0996, 0.1003, 0.1006],\n",
       "        [0.0911, 0.0711, 0.0618],\n",
       "        [0.0915, 0.0740, 0.0673],\n",
       "        [0.0896, 0.0657, 0.0581],\n",
       "        [0.0887, 0.0672, 0.0574],\n",
       "        [0.0916, 0.0699, 0.0644],\n",
       "        [0.0918, 0.0766, 0.0690],\n",
       "        [0.0911, 0.0678, 0.0643],\n",
       "        [0.0925, 0.0720, 0.0611],\n",
       "        [0.0882, 0.0629, 0.0526],\n",
       "        [0.0993, 0.0870, 0.0775],\n",
       "        [0.0896, 0.0687, 0.0585],\n",
       "        [0.0922, 0.0815, 0.0669],\n",
       "        [0.0900, 0.0710, 0.0604],\n",
       "        [0.0931, 0.0715, 0.0618],\n",
       "        [0.0981, 0.1067, 0.0996],\n",
       "        [0.0889, 0.0625, 0.0517],\n",
       "        [0.1344, 0.2044, 0.2378],\n",
       "        [0.1003, 0.1039, 0.1061],\n",
       "        [0.0889, 0.0656, 0.0536],\n",
       "        [0.0931, 0.0758, 0.0728],\n",
       "        [0.0955, 0.0902, 0.0825],\n",
       "        [0.0902, 0.0701, 0.0625],\n",
       "        [0.0944, 0.0797, 0.0672],\n",
       "        [0.0900, 0.0655, 0.0537],\n",
       "        [0.0927, 0.0770, 0.0710],\n",
       "        [0.0884, 0.0660, 0.0563],\n",
       "        [0.0943, 0.0820, 0.0730]], device='cuda:0', grad_fn=<CatBackward>)"
      ]
     },
     "execution_count": 48,
     "metadata": {},
     "output_type": "execute_result"
    }
   ],
   "source": [
    "y_hat"
   ]
  },
  {
   "cell_type": "code",
   "execution_count": 49,
   "id": "bbcd11ad",
   "metadata": {},
   "outputs": [
    {
     "data": {
      "text/plain": [
       "tensor([[ 6.6306e-01,  6.5069e-01,  5.6960e-01],\n",
       "        [ 3.0020e-01,  4.2803e-01,  6.5756e-01],\n",
       "        [ 7.8951e-01,  6.1358e-01,  6.5206e-01],\n",
       "        [ 3.6617e-01,  2.9814e-01,  3.7717e-01],\n",
       "        [-2.6522e+00, -2.6522e+00, -2.6522e+00],\n",
       "        [-4.3651e-01, -2.9672e-02, -2.0011e-01],\n",
       "        [ 5.2561e-01,  5.2875e-01,  6.0258e-01],\n",
       "        [ 5.0362e-01,  5.2080e-01,  5.6960e-01],\n",
       "        [ 3.0570e-01,  3.5999e-01,  4.6514e-01],\n",
       "        [ 2.0124e-01,  6.2595e-01,  3.9916e-01],\n",
       "        [ 5.3661e-01,  3.8473e-01,  3.7167e-01],\n",
       "        [ 5.4760e-01,  5.5791e-01,  5.4760e-01],\n",
       "        [ 5.3661e-01,  5.5791e-01,  5.3111e-01],\n",
       "        [ 6.3557e-01,  4.5277e-01,  6.6856e-01],\n",
       "        [ 1.0777e-01, -5.4922e-01,  5.8059e-01],\n",
       "        [ 2.6721e-01,  5.9502e-01,  6.0808e-01],\n",
       "        [-2.6522e+00, -2.6522e+00, -2.6522e+00],\n",
       "        [ 5.3661e-01,  4.3421e-01,  5.6960e-01],\n",
       "        [-6.8157e-02, -1.1117e-02,  5.8294e-02],\n",
       "        [ 4.6514e-01,  5.5791e-01,  4.4314e-01],\n",
       "        [ 6.4657e-01,  6.4450e-01,  7.1804e-01],\n",
       "        [ 1.4626e-01, -1.1008e-01,  3.5518e-01],\n",
       "        [-2.1828e-03, -1.3482e-01, -1.1764e-01],\n",
       "        [ 3.8267e-01,  1.1259e-01,  2.4522e-01],\n",
       "        [ 6.5206e-01,  7.3728e-01,  7.1254e-01],\n",
       "        [ 2.5072e-01,  4.4658e-01,  5.6960e-01],\n",
       "        [ 2.6171e-01,  2.7958e-01,  3.9366e-01],\n",
       "        [ 4.8713e-01,  4.0328e-01,  5.8059e-01],\n",
       "        [ 5.9708e-01,  7.9295e-01,  7.1804e-01],\n",
       "        [ 7.1254e-01,  7.1254e-01,  6.5756e-01],\n",
       "        [ 5.7509e-01,  5.5791e-01,  5.0362e-01],\n",
       "        [ 6.9055e-01,  6.5069e-01,  7.5102e-01],\n",
       "        [ 6.6856e-01,  6.8161e-01,  7.0154e-01],\n",
       "        [ 6.5756e-01,  5.6410e-01,  6.4107e-01],\n",
       "        [ 7.1804e-01,  5.7028e-01,  6.9055e-01],\n",
       "        [ 6.9289e-02,  5.0734e-02,  2.6171e-01],\n",
       "        [ 5.7509e-01,  3.2179e-02,  5.9708e-01],\n",
       "        [ 4.8163e-01,  6.2595e-01,  6.0258e-01],\n",
       "        [ 5.6410e-01,  7.9171e-01,  3.2906e-01],\n",
       "        [ 3.8817e-01,  3.7236e-01,  3.6068e-01],\n",
       "        [ 5.4760e-01,  6.9398e-01,  5.9708e-01],\n",
       "        [ 5.5310e-01,  5.3317e-01,  5.3661e-01],\n",
       "        [ 5.8059e-01,  7.2491e-01,  6.9055e-01],\n",
       "        [ 6.1908e-01,  5.3317e-01,  5.0912e-01],\n",
       "        [ 7.0704e-01,  5.1462e-01,  6.0808e-01],\n",
       "        [ 6.8505e-01,  6.6924e-01,  5.7509e-01],\n",
       "        [ 4.8713e-01,  3.6617e-01,  3.9366e-01],\n",
       "        [ 4.6514e-01,  3.9091e-01,  4.1565e-01],\n",
       "        [-6.6783e-02,  2.3629e-01,  1.3114e-01],\n",
       "        [ 4.4314e-01,  4.8369e-01,  3.0020e-01],\n",
       "        [ 1.6275e-01,  1.2496e-01,  2.6171e-01],\n",
       "        [-2.1660e-01,  1.2496e-01, -2.7158e-01],\n",
       "        [ 6.9055e-01,  6.8780e-01,  6.4657e-01],\n",
       "        [ 8.5783e-02, -4.8227e-02,  1.9024e-01],\n",
       "        [ 3.1120e-01,  4.5277e-01,  4.7613e-01],\n",
       "        [ 3.3868e-01,  3.4762e-01,  3.3319e-01],\n",
       "        [-5.0799e-01, -4.6793e-01, -4.2002e-01],\n",
       "        [ 4.2665e-01,  3.2906e-01,  3.0020e-01],\n",
       "        [ 4.8163e-01, -1.1117e-02,  4.4314e-01],\n",
       "        [ 3.3319e-01,  3.1051e-01,  3.6617e-01],\n",
       "        [ 5.2011e-01,  4.8369e-01,  5.6410e-01],\n",
       "        [ 5.5310e-01,  5.7028e-01,  4.2115e-01],\n",
       "        [ 3.3319e-01,  1.8062e-01,  1.1877e-01],\n",
       "        [ 7.1254e-01,  6.6924e-01,  6.8505e-01],\n",
       "        [ 7.0154e-01,  6.5069e-01,  6.5756e-01],\n",
       "        [ 1.7925e-01,  6.0739e-01,  3.5518e-01],\n",
       "        [ 5.2011e-01,  6.5069e-01,  3.5518e-01],\n",
       "        [ 7.3453e-01,  6.6924e-01,  6.0258e-01],\n",
       "        [ 6.7405e-01,  5.6410e-01,  5.6960e-01],\n",
       "        [ 6.3557e-01,  6.6306e-01,  7.0704e-01],\n",
       "        [ 4.9812e-01,  4.4658e-01,  3.7717e-01],\n",
       "        [ 6.1358e-01,  6.2595e-01,  6.5206e-01],\n",
       "        [ 6.5206e-01,  6.8161e-01,  3.7717e-01],\n",
       "        [ 3.6068e-01,  5.7028e-01,  4.3215e-01],\n",
       "        [ 7.6202e-01,  7.4347e-01,  7.1254e-01],\n",
       "        [ 1.9809e-02, -3.5130e-01, -2.9672e-02],\n",
       "        [ 1.2427e-01,  2.1155e-01,  2.2873e-01],\n",
       "        [ 3.3868e-01,  4.2184e-01, -3.5857e-02],\n",
       "        [ 7.8951e-01,  5.6410e-01,  6.0258e-01],\n",
       "        [ 6.1908e-01,  6.5687e-01,  6.6856e-01],\n",
       "        [ 7.5102e-01,  7.4965e-01,  8.1150e-01],\n",
       "        [ 5.8059e-01,  4.7132e-01,  5.3111e-01],\n",
       "        [ 6.0258e-01,  6.1358e-01,  6.4107e-01],\n",
       "        [ 5.4211e-01,  4.1565e-01,  5.9708e-01],\n",
       "        [ 3.7717e-01,  3.2288e-01,  3.0804e-02],\n",
       "        [ 5.4211e-01,  6.4450e-01,  6.0258e-01],\n",
       "        [ 7.1804e-01,  7.1872e-01,  6.3557e-01],\n",
       "        [ 4.3765e-01,  4.8369e-01,  5.3111e-01],\n",
       "        [ 4.4314e-01,  6.3213e-01,  4.1565e-01],\n",
       "        [ 6.0808e-01,  5.5173e-01,  6.1358e-01],\n",
       "        [ 7.2903e-01,  6.5687e-01,  5.9159e-01],\n",
       "        [-7.6808e-03,  3.2179e-02,  9.1281e-02],\n",
       "        [ 6.6306e-01,  6.8780e-01,  6.2457e-01],\n",
       "        [ 6.1908e-01,  6.4450e-01,  5.9708e-01],\n",
       "        [ 5.0912e-01,  4.8369e-01,  3.8267e-01],\n",
       "        [ 1.4626e-01,  2.1773e-01,  1.9024e-01],\n",
       "        [ 8.0051e-01,  7.9913e-01,  7.8951e-01],\n",
       "        [ 7.8951e-01,  7.3110e-01,  6.3557e-01],\n",
       "        [ 4.6514e-01,  2.6721e-01,  1.8474e-01],\n",
       "        [ 7.3453e-01,  6.1358e-01,  6.3557e-01],\n",
       "        [ 3.4968e-01,  4.0328e-01,  4.3765e-01],\n",
       "        [ 5.5310e-01,  4.9606e-01,  4.4314e-01],\n",
       "        [ 3.8817e-01,  3.4143e-01,  3.6068e-01],\n",
       "        [ 5.4760e-01,  5.0225e-01,  5.0912e-01],\n",
       "        [ 5.3111e-01,  5.8884e-01,  5.7509e-01],\n",
       "        [ 5.6410e-01,  7.5584e-01,  7.8951e-01],\n",
       "        [ 6.7405e-01,  6.8161e-01,  6.4107e-01],\n",
       "        [ 7.4003e-01,  5.0225e-01,  6.1908e-01],\n",
       "        [ 4.9263e-01,  6.3832e-01,  5.7509e-01],\n",
       "        [ 1.7925e-01,  4.3421e-01,  1.7925e-01],\n",
       "        [ 6.9055e-01,  5.8265e-01,  6.3007e-01],\n",
       "        [ 6.0258e-01,  6.6306e-01,  7.7851e-01],\n",
       "        [ 2.6721e-01,  4.2184e-01,  4.6514e-01],\n",
       "        [ 5.8609e-01,  5.2080e-01,  5.3661e-01],\n",
       "        [ 5.8059e-01,  3.9091e-01,  6.0808e-01],\n",
       "        [ 6.3007e-01,  6.1976e-01,  5.9708e-01],\n",
       "        [ 4.8163e-01,  5.5173e-01,  5.9159e-01],\n",
       "        [ 6.3557e-01,  7.0017e-01,  6.9605e-01],\n",
       "        [ 6.2457e-01,  6.1358e-01,  5.3661e-01],\n",
       "        [ 7.2903e-01,  7.2491e-01,  7.0704e-01],\n",
       "        [ 3.3868e-01,  1.7444e-01,  4.2665e-01],\n",
       "        [-7.2968e-02,  1.1259e-01,  1.5726e-01],\n",
       "        [ 7.0154e-01,  2.5484e-01,  6.4107e-01],\n",
       "        [ 7.4003e-01,  7.6202e-01,  7.6202e-01],\n",
       "        [ 5.8059e-01,  2.4247e-01,  2.3972e-01],\n",
       "        [ 6.3792e-02,  1.9918e-01,  2.7821e-01],\n",
       "        [-7.6089e-01,  4.7751e-01, -8.1037e-01],\n",
       "        [ 5.9159e-01,  7.1254e-01,  6.5206e-01],\n",
       "        [ 5.9708e-01,  7.4347e-01,  7.0704e-01],\n",
       "        [ 4.3215e-01,  5.9502e-01,  3.4418e-01],\n",
       "        [ 6.2457e-01,  5.1462e-01,  5.3111e-01],\n",
       "        [ 5.8059e-01,  4.7132e-01,  5.3111e-01],\n",
       "        [ 7.7851e-01,  5.4554e-01,  5.9159e-01],\n",
       "        [ 5.5173e-01,  4.2184e-01,  4.1565e-01],\n",
       "        [ 6.3557e-01,  5.3936e-01,  4.5964e-01],\n",
       "        [ 5.2011e-01,  4.5277e-01,  5.0362e-01],\n",
       "        [ 7.1254e-01,  6.3832e-01,  6.7405e-01],\n",
       "        [ 5.5310e-01,  5.4554e-01,  5.0912e-01],\n",
       "        [-2.6522e+00, -2.6522e+00, -2.6522e+00],\n",
       "        [ 3.8267e-01,  3.1051e-01,  4.4864e-01],\n",
       "        [ 3.7717e-01,  4.1565e-01,  2.2323e-01],\n",
       "        [ 6.9605e-01,  6.7543e-01,  6.4107e-01],\n",
       "        [ 5.2561e-01,  5.3936e-01,  5.4211e-01],\n",
       "        [ 3.4968e-01,  1.9299e-01,  4.2115e-01],\n",
       "        [ 2.0674e-01,  2.9195e-01,  2.6721e-01],\n",
       "        [ 6.7405e-01,  6.9398e-01,  6.2457e-01],\n",
       "        [ 6.4107e-01,  5.8265e-01,  6.1908e-01],\n",
       "        [ 4.3765e-01,  4.4040e-01,  5.0912e-01],\n",
       "        [ 5.4211e-01,  4.8988e-01,  5.8609e-01],\n",
       "        [ 7.8951e-01,  6.8161e-01,  7.5102e-01],\n",
       "        [ 5.2011e-01,  5.9502e-01,  5.8059e-01],\n",
       "        [-1.3179e-02,  2.0536e-01,  1.0228e-01],\n",
       "        [ 4.5964e-01,  2.1155e-01,  3.9916e-01],\n",
       "        [ 5.9159e-01,  5.4554e-01,  5.6410e-01],\n",
       "        [ 4.3215e-01,  5.6410e-01,  4.7063e-01],\n",
       "        [ 5.3661e-01,  5.8265e-01,  4.9263e-01],\n",
       "        [ 1.7375e-01, -9.7708e-02,  1.5726e-01],\n",
       "        [ 5.9159e-01,  7.4347e-01,  6.5206e-01],\n",
       "        [ 7.6752e-01,  7.3110e-01,  6.7405e-01],\n",
       "        [ 6.1358e-01,  5.9502e-01,  5.9708e-01],\n",
       "        [-2.6522e+00, -2.6522e+00, -2.6522e+00],\n",
       "        [-2.6522e+00, -2.6522e+00, -2.6522e+00],\n",
       "        [ 6.6306e-01,  7.3110e-01,  7.2903e-01],\n",
       "        [ 7.5652e-01,  7.4965e-01,  7.6202e-01],\n",
       "        [ 6.0258e-01,  6.4450e-01,  6.0808e-01],\n",
       "        [ 6.9289e-02, -2.1523e-01, -5.2448e-01],\n",
       "        [-2.6522e+00, -2.6522e+00, -2.6522e+00],\n",
       "        [ 6.3557e-01,  5.8884e-01,  5.0362e-01],\n",
       "        [ 6.5756e-01,  8.0532e-01,  7.2354e-01],\n",
       "        [ 5.9159e-01,  7.7439e-01,  7.2354e-01],\n",
       "        [ 9.6779e-02,  7.5475e-02,  2.0674e-01],\n",
       "        [ 5.6410e-01,  7.4965e-01,  6.5756e-01],\n",
       "        [ 6.7405e-01,  6.5069e-01,  5.2561e-01],\n",
       "        [ 5.6960e-01,  6.8780e-01,  7.2354e-01],\n",
       "        [-6.8157e-02,  3.5380e-01,  2.0674e-01],\n",
       "        [ 4.1016e-01,  7.5584e-01,  7.3453e-01],\n",
       "        [ 7.2354e-01,  6.6924e-01,  6.5756e-01],\n",
       "        [ 4.5964e-01,  2.1155e-01,  5.6960e-01],\n",
       "        [ 5.3111e-01,  4.3421e-01,  5.6410e-01],\n",
       "        [-1.8676e-02, -1.7302e-02,  8.5783e-02],\n",
       "        [ 6.0808e-01,  6.3478e-01,  4.8713e-01],\n",
       "        [ 5.3661e-01,  5.2169e-01,  4.4864e-01],\n",
       "        [ 7.2903e-01,  6.5599e-01,  6.7955e-01],\n",
       "        [ 6.5756e-01,  6.9398e-01,  7.2354e-01],\n",
       "        [ 6.5756e-01,  5.4554e-01,  5.6410e-01],\n",
       "        [ 4.6514e-01,  5.0843e-01,  6.0258e-01],\n",
       "        [ 7.0704e-01,  5.1462e-01,  6.3557e-01],\n",
       "        [ 6.1908e-01,  6.8161e-01,  4.3215e-01],\n",
       "        [ 7.6752e-01,  7.6821e-01,  7.4003e-01],\n",
       "        [ 3.7236e-01,  4.7132e-01,  2.0674e-01],\n",
       "        [ 6.3557e-01,  6.8780e-01,  6.9055e-01],\n",
       "        [ 3.3319e-01,  6.5069e-01,  6.1908e-01],\n",
       "        [ 5.8059e-01,  6.6924e-01,  6.6306e-01],\n",
       "        [ 6.5206e-01,  6.5687e-01,  5.3111e-01],\n",
       "        [-2.6608e-01,  1.0021e-01, -7.9153e-02],\n",
       "        [ 8.0051e-01,  7.9295e-01,  7.8676e-01],\n",
       "        [-2.6522e+00, -2.6522e+00, -2.6522e+00],\n",
       "        [-1.1214e-01, -1.2245e-01,  1.1877e-01],\n",
       "        [ 7.0704e-01,  7.8058e-01,  6.8505e-01],\n",
       "        [ 5.3111e-01,  3.9710e-01,  5.5860e-01],\n",
       "        [ 1.6825e-01,  3.4143e-01,  3.6068e-01],\n",
       "        [ 6.1358e-01,  5.9502e-01,  5.2561e-01],\n",
       "        [ 4.4864e-01,  6.3213e-01,  6.3557e-01],\n",
       "        [ 7.4553e-01,  7.8676e-01,  7.3453e-01],\n",
       "        [ 4.8163e-01,  4.6514e-01,  4.9263e-01],\n",
       "        [ 6.8505e-01,  7.0635e-01,  7.4553e-01],\n",
       "        [ 3.7717e-01,  4.8988e-01,  4.0466e-01]], device='cuda:0')"
      ]
     },
     "execution_count": 49,
     "metadata": {},
     "output_type": "execute_result"
    }
   ],
   "source": [
    "target"
   ]
  },
  {
   "cell_type": "code",
   "execution_count": null,
   "id": "738f9f03",
   "metadata": {},
   "outputs": [],
   "source": []
  }
 ],
 "metadata": {
  "kernelspec": {
   "display_name": "Python 3 (ipykernel)",
   "language": "python",
   "name": "python3"
  },
  "language_info": {
   "codemirror_mode": {
    "name": "ipython",
    "version": 3
   },
   "file_extension": ".py",
   "mimetype": "text/x-python",
   "name": "python",
   "nbconvert_exporter": "python",
   "pygments_lexer": "ipython3",
   "version": "3.9.7"
  }
 },
 "nbformat": 4,
 "nbformat_minor": 5
}
