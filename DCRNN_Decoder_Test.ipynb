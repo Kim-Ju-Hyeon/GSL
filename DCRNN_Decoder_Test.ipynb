{
 "cells": [
  {
   "cell_type": "code",
   "execution_count": 1,
   "id": "1a7bcad0",
   "metadata": {},
   "outputs": [],
   "source": [
    "import sys\n",
    "\n",
    "sys.path.append('../GraphStructureLearning')"
   ]
  },
  {
   "cell_type": "code",
   "execution_count": 2,
   "id": "64089db4",
   "metadata": {},
   "outputs": [],
   "source": [
    "import torch\n",
    "import torch.nn as nn\n",
    "from torch.nn import functional as F\n",
    "\n",
    "from models.GTS.DCRNN import DCRNN\n",
    "\n",
    "from torch_geometric.utils import to_dense_adj, dense_to_sparse\n",
    "from torch_geometric_temporal.dataset import METRLADatasetLoader, PemsBayDatasetLoader\n",
    "from torch_geometric_temporal.signal import temporal_signal_split, StaticGraphTemporalSignalBatch\n",
    "\n",
    "import seaborn as sns\n",
    "import matplotlib.pyplot as plt\n",
    "import numpy as np\n",
    "\n",
    "from glob import glob\n",
    "import yaml\n",
    "from easydict import EasyDict as edict\n",
    "\n",
    "from collections import defaultdict\n"
   ]
  },
  {
   "cell_type": "code",
   "execution_count": 3,
   "id": "5b0057c3",
   "metadata": {},
   "outputs": [],
   "source": [
    "config_file = glob('./config/GTS/METR-LA/1.yaml')[0]\n",
    "config = edict(yaml.load(open(config_file, 'r'), Loader=yaml.FullLoader))"
   ]
  },
  {
   "cell_type": "code",
   "execution_count": 4,
   "id": "ce8436f5",
   "metadata": {},
   "outputs": [],
   "source": [
    "metr_la = np.load('./data/METR-LA/node_values.npy')\n",
    "adj_matrix = np.load('./data/METR-LA/adj_mat.npy')\n",
    "\n",
    "loader = METRLADatasetLoader(raw_data_dir='./data/METR-LA')"
   ]
  },
  {
   "cell_type": "code",
   "execution_count": 5,
   "id": "26124942",
   "metadata": {},
   "outputs": [],
   "source": [
    "dataset = loader.get_dataset(num_timesteps_in=12, num_timesteps_out=3)"
   ]
  },
  {
   "cell_type": "code",
   "execution_count": 6,
   "id": "5309eaf2",
   "metadata": {},
   "outputs": [],
   "source": [
    "train_dataset, dataset = temporal_signal_split(dataset, train_ratio=0.8)"
   ]
  },
  {
   "cell_type": "code",
   "execution_count": 7,
   "id": "3983601f",
   "metadata": {},
   "outputs": [],
   "source": [
    "validation_dataset, test_dataset = temporal_signal_split(dataset, train_ratio=0.5)"
   ]
  },
  {
   "cell_type": "code",
   "execution_count": 8,
   "id": "df7d1c71",
   "metadata": {},
   "outputs": [],
   "source": [
    "class DecoderModel(nn.Module):\n",
    "    def __init__(self, config):\n",
    "        super(DecoderModel, self).__init__()\n",
    "        self.output_dim = config.dataset.pred_step\n",
    "        self.hidden_dim = config.hidden_dim\n",
    "\n",
    "        self.decoder_dcrnn = DCRNN(config)\n",
    "        self.prediction_layer = nn.Linear(self.hidden_dim, self.output_dim)\n",
    "\n",
    "        self.init_weights()\n",
    "\n",
    "    def init_weights(self):\n",
    "        for m in self.modules():\n",
    "            if isinstance(m, nn.Linear):\n",
    "                nn.init.xavier_normal_(m.weight.data)\n",
    "                m.bias.data.fill_(0.1)\n",
    "\n",
    "    def forward(self, inputs, adj, hidden_state, weight_matrix=None):\n",
    "        decoder_hidden_state = hidden_state\n",
    "\n",
    "        decoder_hidden_state = self.decoder_dcrnn(inputs, adj, hidden_state=decoder_hidden_state, weight_matrix=weight_matrix)\n",
    "        prediction = self.prediction_layer(decoder_hidden_state[-1].view(-1, self.hidden_dim))\n",
    "\n",
    "        output = prediction.view(inputs.shape[0], self.output_dim)\n",
    "\n",
    "        return output, decoder_hidden_state\n",
    "\n",
    "\n",
    "class GTS_Forecasting_Module(nn.Module):\n",
    "    def __init__(self, config):\n",
    "        super(GTS_Forecasting_Module, self).__init__()\n",
    "\n",
    "        self.config = config\n",
    "\n",
    "        self.nodes_num = config.nodes_num\n",
    "\n",
    "        self.nodes_feas = config.node_features\n",
    "\n",
    "        self.encoder_step = config.encoder_step\n",
    "        self.decoder_step = config.decoder_step\n",
    "\n",
    "        self.encoder_model = DCRNN(config)\n",
    "        self.decoder_model = DecoderModel(config)\n",
    "\n",
    "\n",
    "    def forward(self, inputs, targets, adj_matrix, weight_matrix=None):\n",
    "        # DCRNN encoder\n",
    "        encoder_hidden_state = None\n",
    "        for i in range(self.encoder_step):\n",
    "            encoder_hidden_state = self.encoder_model(inputs[:,i].unsqueeze(dim=-1), adj_matrix,\n",
    "                                                      encoder_hidden_state, weight_matrix)\n",
    "\n",
    "        # DCRNN decoder\n",
    "        outputs = []\n",
    "        decoder_input = torch.zeros((self.nodes_num, 1)).to('cuda:3')\n",
    "        \n",
    "        decoder_hidden_state = encoder_hidden_state\n",
    "        for j in range(self.decoder_step):\n",
    "            output, decoder_hidden_state = self.decoder_model(decoder_input, adj_matrix, decoder_hidden_state, weight_matrix)\n",
    "            outputs.append(output)\n",
    "            \n",
    "            decoder_input = targets[:,j].unsqueeze(dim=-1)\n",
    "\n",
    "        outputs = torch.cat(outputs, dim=-1)\n",
    "        return outputs\n"
   ]
  },
  {
   "cell_type": "code",
   "execution_count": 9,
   "id": "d568c831",
   "metadata": {},
   "outputs": [],
   "source": [
    "model = GTS_Forecasting_Module(config)"
   ]
  },
  {
   "cell_type": "code",
   "execution_count": 10,
   "id": "c0fd02ef",
   "metadata": {},
   "outputs": [],
   "source": [
    "model = model.to('cuda:3')"
   ]
  },
  {
   "cell_type": "code",
   "execution_count": 11,
   "id": "30f70c4f",
   "metadata": {},
   "outputs": [
    {
     "data": {
      "text/plain": [
       "GTS_Forecasting_Module(\n",
       "  (encoder_model): DCRNN(\n",
       "    (recurrent): ModuleList(\n",
       "      (0): DCRNN(\n",
       "        (conv_x_z): DConv()\n",
       "        (conv_x_r): DConv()\n",
       "        (conv_x_h): DConv()\n",
       "      )\n",
       "    )\n",
       "  )\n",
       "  (decoder_model): DecoderModel(\n",
       "    (decoder_dcrnn): DCRNN(\n",
       "      (recurrent): ModuleList(\n",
       "        (0): DCRNN(\n",
       "          (conv_x_z): DConv()\n",
       "          (conv_x_r): DConv()\n",
       "          (conv_x_h): DConv()\n",
       "        )\n",
       "      )\n",
       "    )\n",
       "    (prediction_layer): Linear(in_features=32, out_features=1, bias=True)\n",
       "  )\n",
       ")"
      ]
     },
     "execution_count": 11,
     "metadata": {},
     "output_type": "execute_result"
    }
   ],
   "source": [
    "optimizer = torch.optim.Adam(model.parameters(), lr=0.01)\n",
    "loss_fnc = nn.L1Loss().to('cuda:3')\n",
    "model.train()"
   ]
  },
  {
   "cell_type": "code",
   "execution_count": 18,
   "id": "1120b3cf",
   "metadata": {},
   "outputs": [
    {
     "ename": "AttributeError",
     "evalue": "'numpy.ndarray' object has no attribute 'detach'",
     "output_type": "error",
     "traceback": [
      "\u001b[0;31m---------------------------------------------------------------------------\u001b[0m",
      "\u001b[0;31mAttributeError\u001b[0m                            Traceback (most recent call last)",
      "\u001b[0;32m/tmp/ipykernel_1000/3458043667.py\u001b[0m in \u001b[0;36m<module>\u001b[0;34m\u001b[0m\n\u001b[1;32m     42\u001b[0m         \u001b[0mresults\u001b[0m\u001b[0;34m[\u001b[0m\u001b[0;34m'val_adj_matirix'\u001b[0m\u001b[0;34m]\u001b[0m \u001b[0;34m+=\u001b[0m \u001b[0madj_matrix\u001b[0m\u001b[0;34m\u001b[0m\u001b[0;34m\u001b[0m\u001b[0m\n\u001b[1;32m     43\u001b[0m     \u001b[0;32melse\u001b[0m\u001b[0;34m:\u001b[0m\u001b[0;34m\u001b[0m\u001b[0;34m\u001b[0m\u001b[0m\n\u001b[0;32m---> 44\u001b[0;31m         \u001b[0mresults\u001b[0m\u001b[0;34m[\u001b[0m\u001b[0;34m'val_adj_matirix'\u001b[0m\u001b[0;34m]\u001b[0m \u001b[0;34m+=\u001b[0m \u001b[0;34m[\u001b[0m\u001b[0madj_matrix\u001b[0m\u001b[0;34m.\u001b[0m\u001b[0mdetach\u001b[0m\u001b[0;34m(\u001b[0m\u001b[0;34m)\u001b[0m\u001b[0;34m.\u001b[0m\u001b[0mcpu\u001b[0m\u001b[0;34m(\u001b[0m\u001b[0;34m)\u001b[0m\u001b[0;34m]\u001b[0m\u001b[0;34m\u001b[0m\u001b[0;34m\u001b[0m\u001b[0m\n\u001b[0m\u001b[1;32m     45\u001b[0m \u001b[0;34m\u001b[0m\u001b[0m\n\u001b[1;32m     46\u001b[0m     \u001b[0;32mif\u001b[0m \u001b[0mval_loss\u001b[0m \u001b[0;34m<\u001b[0m \u001b[0mbest_val_loss\u001b[0m\u001b[0;34m:\u001b[0m\u001b[0;34m\u001b[0m\u001b[0;34m\u001b[0m\u001b[0m\n",
      "\u001b[0;31mAttributeError\u001b[0m: 'numpy.ndarray' object has no attribute 'detach'"
     ]
    }
   ],
   "source": [
    "results = defaultdict(list)\n",
    "best_val_loss = np.inf\n",
    "\n",
    "for epoch in range(3):\n",
    "    model.train()\n",
    "    \n",
    "    train_loss = []\n",
    "    for batch in train_dataset:\n",
    "        input_x = batch.x[:,0,:].to('cuda:3')\n",
    "        target = batch.y.to('cuda:3')\n",
    "    \n",
    "        y_hat = model(input_x, adj_matrix = batch.edge_index.to('cuda:3'), targets=target)\n",
    "        loss = loss_fnc(y_hat, target)\n",
    "        \n",
    "        loss.backward()\n",
    "        \n",
    "        optimizer.step()\n",
    "        optimizer.zero_grad()\n",
    "        \n",
    "        train_loss += [float(loss.data.cpu().numpy())]\n",
    "        \n",
    "    train_loss = np.stack(train_loss).mean()\n",
    "    results['train_loss'] += [train_loss]\n",
    "    \n",
    "    \n",
    "    model.eval()\n",
    "    \n",
    "    val_loss = []\n",
    "    for batch in validation_dataset:\n",
    "        input_x = batch.x[:,0,:].to('cuda:3')\n",
    "        target = batch.y.to('cuda:3')\n",
    "        \n",
    "        y_hat = model(input_x, adj_matrix = batch.edge_index.to('cuda:3'), targets=target)\n",
    "        loss = loss_fnc(y_hat, target)\n",
    "        val_loss += [float(loss.data.cpu().numpy())]\n",
    "        \n",
    "    val_loss = np.stack(val_loss).mean()\n",
    "    results['val_loss'] += [val_loss]\n",
    "    \n",
    "    \n",
    "    if type(adj_matrix) == dict:\n",
    "        results['val_adj_matirix'] += adj_matrix\n",
    "    else:\n",
    "        results['val_adj_matirix'] += [adj_matrix.detach().cpu()]\n",
    "\n",
    "    if val_loss < best_val_loss:\n",
    "        best_val_loss = val_loss\n",
    "        best_model = model\n",
    "        \n",
    "        "
   ]
  },
  {
   "cell_type": "code",
   "execution_count": null,
   "id": "cdb18313",
   "metadata": {},
   "outputs": [],
   "source": []
  }
 ],
 "metadata": {
  "kernelspec": {
   "display_name": "Python 3 (ipykernel)",
   "language": "python",
   "name": "python3"
  },
  "language_info": {
   "codemirror_mode": {
    "name": "ipython",
    "version": 3
   },
   "file_extension": ".py",
   "mimetype": "text/x-python",
   "name": "python",
   "nbconvert_exporter": "python",
   "pygments_lexer": "ipython3",
   "version": "3.7.10"
  }
 },
 "nbformat": 4,
 "nbformat_minor": 5
}
